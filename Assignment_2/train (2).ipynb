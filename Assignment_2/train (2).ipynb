{
  "nbformat": 4,
  "nbformat_minor": 0,
  "metadata": {
    "colab": {
      "provenance": []
    },
    "kernelspec": {
      "name": "python3",
      "display_name": "Python 3"
    },
    "language_info": {
      "name": "python"
    }
  },
  "cells": [
    {
      "cell_type": "code",
      "execution_count": 1,
      "metadata": {
        "colab": {
          "base_uri": "https://localhost:8080/"
        },
        "id": "WBcHOtfX8utz",
        "outputId": "23d02deb-a4cb-4e1e-afea-da8f2bd1d508"
      },
      "outputs": [
        {
          "output_type": "stream",
          "name": "stdout",
          "text": [
            "Looking in indexes: https://pypi.org/simple, https://us-python.pkg.dev/colab-wheels/public/simple/\n",
            "Collecting mlflow\n",
            "  Downloading mlflow-2.2.2-py3-none-any.whl (17.6 MB)\n",
            "\u001b[2K     \u001b[90m━━━━━━━━━━━━━━━━━━━━━━━━━━━━━━━━━━━━━━━━\u001b[0m \u001b[32m17.6/17.6 MB\u001b[0m \u001b[31m49.8 MB/s\u001b[0m eta \u001b[36m0:00:00\u001b[0m\n",
            "\u001b[?25hCollecting querystring-parser<2\n",
            "  Downloading querystring_parser-1.2.4-py2.py3-none-any.whl (7.9 kB)\n",
            "Requirement already satisfied: sqlalchemy<3,>=1.4.0 in /usr/local/lib/python3.9/dist-packages (from mlflow) (1.4.47)\n",
            "Requirement already satisfied: pyarrow<12,>=4.0.0 in /usr/local/lib/python3.9/dist-packages (from mlflow) (9.0.0)\n",
            "Requirement already satisfied: click<9,>=7.0 in /usr/local/lib/python3.9/dist-packages (from mlflow) (8.1.3)\n",
            "Requirement already satisfied: requests<3,>=2.17.3 in /usr/local/lib/python3.9/dist-packages (from mlflow) (2.27.1)\n",
            "Requirement already satisfied: scikit-learn<2 in /usr/local/lib/python3.9/dist-packages (from mlflow) (1.2.2)\n",
            "Requirement already satisfied: scipy<2 in /usr/local/lib/python3.9/dist-packages (from mlflow) (1.10.1)\n",
            "Requirement already satisfied: pandas<3 in /usr/local/lib/python3.9/dist-packages (from mlflow) (1.4.4)\n",
            "Requirement already satisfied: cloudpickle<3 in /usr/local/lib/python3.9/dist-packages (from mlflow) (2.2.1)\n",
            "Collecting shap<1,>=0.40\n",
            "  Downloading shap-0.41.0-cp39-cp39-manylinux_2_12_x86_64.manylinux2010_x86_64.whl (572 kB)\n",
            "\u001b[2K     \u001b[90m━━━━━━━━━━━━━━━━━━━━━━━━━━━━━━━━━━━━━━\u001b[0m \u001b[32m572.4/572.4 KB\u001b[0m \u001b[31m29.3 MB/s\u001b[0m eta \u001b[36m0:00:00\u001b[0m\n",
            "\u001b[?25hRequirement already satisfied: pytz<2023 in /usr/local/lib/python3.9/dist-packages (from mlflow) (2022.7.1)\n",
            "Requirement already satisfied: markdown<4,>=3.3 in /usr/local/lib/python3.9/dist-packages (from mlflow) (3.4.3)\n",
            "Requirement already satisfied: Flask<3 in /usr/local/lib/python3.9/dist-packages (from mlflow) (2.2.3)\n",
            "Requirement already satisfied: sqlparse<1,>=0.4.0 in /usr/local/lib/python3.9/dist-packages (from mlflow) (0.4.3)\n",
            "Collecting databricks-cli<1,>=0.8.7\n",
            "  Downloading databricks-cli-0.17.6.tar.gz (82 kB)\n",
            "\u001b[2K     \u001b[90m━━━━━━━━━━━━━━━━━━━━━━━━━━━━━━━━━━━━━━━━\u001b[0m \u001b[32m82.7/82.7 KB\u001b[0m \u001b[31m6.8 MB/s\u001b[0m eta \u001b[36m0:00:00\u001b[0m\n",
            "\u001b[?25h  Preparing metadata (setup.py) ... \u001b[?25l\u001b[?25hdone\n",
            "Requirement already satisfied: protobuf<5,>=3.12.0 in /usr/local/lib/python3.9/dist-packages (from mlflow) (3.20.3)\n",
            "Collecting gitpython<4,>=2.1.0\n",
            "  Downloading GitPython-3.1.31-py3-none-any.whl (184 kB)\n",
            "\u001b[2K     \u001b[90m━━━━━━━━━━━━━━━━━━━━━━━━━━━━━━━━━━━━━━━\u001b[0m \u001b[32m184.3/184.3 KB\u001b[0m \u001b[31m9.7 MB/s\u001b[0m eta \u001b[36m0:00:00\u001b[0m\n",
            "\u001b[?25hRequirement already satisfied: matplotlib<4 in /usr/local/lib/python3.9/dist-packages (from mlflow) (3.7.1)\n",
            "Requirement already satisfied: entrypoints<1 in /usr/local/lib/python3.9/dist-packages (from mlflow) (0.4)\n",
            "Requirement already satisfied: pyyaml<7,>=5.1 in /usr/local/lib/python3.9/dist-packages (from mlflow) (6.0)\n",
            "Requirement already satisfied: numpy<2 in /usr/local/lib/python3.9/dist-packages (from mlflow) (1.22.4)\n",
            "Requirement already satisfied: importlib-metadata!=4.7.0,<7,>=3.7.0 in /usr/local/lib/python3.9/dist-packages (from mlflow) (6.1.0)\n",
            "Collecting docker<7,>=4.0.0\n",
            "  Downloading docker-6.0.1-py3-none-any.whl (147 kB)\n",
            "\u001b[2K     \u001b[90m━━━━━━━━━━━━━━━━━━━━━━━━━━━━━━━━━━━━━━\u001b[0m \u001b[32m147.5/147.5 KB\u001b[0m \u001b[31m11.3 MB/s\u001b[0m eta \u001b[36m0:00:00\u001b[0m\n",
            "\u001b[?25hCollecting gunicorn<21\n",
            "  Downloading gunicorn-20.1.0-py3-none-any.whl (79 kB)\n",
            "\u001b[2K     \u001b[90m━━━━━━━━━━━━━━━━━━━━━━━━━━━━━━━━━━━━━━━━\u001b[0m \u001b[32m79.5/79.5 KB\u001b[0m \u001b[31m4.4 MB/s\u001b[0m eta \u001b[36m0:00:00\u001b[0m\n",
            "\u001b[?25hRequirement already satisfied: packaging<24 in /usr/local/lib/python3.9/dist-packages (from mlflow) (23.0)\n",
            "Requirement already satisfied: Jinja2<4,>=2.11 in /usr/local/lib/python3.9/dist-packages (from mlflow) (3.1.2)\n",
            "Collecting alembic<2\n",
            "  Downloading alembic-1.10.2-py3-none-any.whl (212 kB)\n",
            "\u001b[2K     \u001b[90m━━━━━━━━━━━━━━━━━━━━━━━━━━━━━━━━━━━━━━\u001b[0m \u001b[32m212.2/212.2 KB\u001b[0m \u001b[31m11.0 MB/s\u001b[0m eta \u001b[36m0:00:00\u001b[0m\n",
            "\u001b[?25hCollecting Mako\n",
            "  Downloading Mako-1.2.4-py3-none-any.whl (78 kB)\n",
            "\u001b[2K     \u001b[90m━━━━━━━━━━━━━━━━━━━━━━━━━━━━━━━━━━━━━━━━\u001b[0m \u001b[32m78.7/78.7 KB\u001b[0m \u001b[31m5.0 MB/s\u001b[0m eta \u001b[36m0:00:00\u001b[0m\n",
            "\u001b[?25hRequirement already satisfied: typing-extensions>=4 in /usr/local/lib/python3.9/dist-packages (from alembic<2->mlflow) (4.5.0)\n",
            "Collecting pyjwt>=1.7.0\n",
            "  Downloading PyJWT-2.6.0-py3-none-any.whl (20 kB)\n",
            "Requirement already satisfied: oauthlib>=3.1.0 in /usr/local/lib/python3.9/dist-packages (from databricks-cli<1,>=0.8.7->mlflow) (3.2.2)\n",
            "Requirement already satisfied: tabulate>=0.7.7 in /usr/local/lib/python3.9/dist-packages (from databricks-cli<1,>=0.8.7->mlflow) (0.8.10)\n",
            "Requirement already satisfied: six>=1.10.0 in /usr/local/lib/python3.9/dist-packages (from databricks-cli<1,>=0.8.7->mlflow) (1.16.0)\n",
            "Requirement already satisfied: urllib3>=1.26.0 in /usr/local/lib/python3.9/dist-packages (from docker<7,>=4.0.0->mlflow) (1.26.15)\n",
            "Requirement already satisfied: websocket-client>=0.32.0 in /usr/local/lib/python3.9/dist-packages (from docker<7,>=4.0.0->mlflow) (1.5.1)\n",
            "Requirement already satisfied: Werkzeug>=2.2.2 in /usr/local/lib/python3.9/dist-packages (from Flask<3->mlflow) (2.2.3)\n",
            "Requirement already satisfied: itsdangerous>=2.0 in /usr/local/lib/python3.9/dist-packages (from Flask<3->mlflow) (2.1.2)\n",
            "Collecting gitdb<5,>=4.0.1\n",
            "  Downloading gitdb-4.0.10-py3-none-any.whl (62 kB)\n",
            "\u001b[2K     \u001b[90m━━━━━━━━━━━━━━━━━━━━━━━━━━━━━━━━━━━━━━━━\u001b[0m \u001b[32m62.7/62.7 KB\u001b[0m \u001b[31m3.5 MB/s\u001b[0m eta \u001b[36m0:00:00\u001b[0m\n",
            "\u001b[?25hRequirement already satisfied: setuptools>=3.0 in /usr/local/lib/python3.9/dist-packages (from gunicorn<21->mlflow) (67.6.1)\n",
            "Requirement already satisfied: zipp>=0.5 in /usr/local/lib/python3.9/dist-packages (from importlib-metadata!=4.7.0,<7,>=3.7.0->mlflow) (3.15.0)\n",
            "Requirement already satisfied: MarkupSafe>=2.0 in /usr/local/lib/python3.9/dist-packages (from Jinja2<4,>=2.11->mlflow) (2.1.2)\n",
            "Requirement already satisfied: pyparsing>=2.3.1 in /usr/local/lib/python3.9/dist-packages (from matplotlib<4->mlflow) (3.0.9)\n",
            "Requirement already satisfied: python-dateutil>=2.7 in /usr/local/lib/python3.9/dist-packages (from matplotlib<4->mlflow) (2.8.2)\n",
            "Requirement already satisfied: importlib-resources>=3.2.0 in /usr/local/lib/python3.9/dist-packages (from matplotlib<4->mlflow) (5.12.0)\n",
            "Requirement already satisfied: pillow>=6.2.0 in /usr/local/lib/python3.9/dist-packages (from matplotlib<4->mlflow) (8.4.0)\n",
            "Requirement already satisfied: fonttools>=4.22.0 in /usr/local/lib/python3.9/dist-packages (from matplotlib<4->mlflow) (4.39.3)\n",
            "Requirement already satisfied: cycler>=0.10 in /usr/local/lib/python3.9/dist-packages (from matplotlib<4->mlflow) (0.11.0)\n",
            "Requirement already satisfied: contourpy>=1.0.1 in /usr/local/lib/python3.9/dist-packages (from matplotlib<4->mlflow) (1.0.7)\n",
            "Requirement already satisfied: kiwisolver>=1.0.1 in /usr/local/lib/python3.9/dist-packages (from matplotlib<4->mlflow) (1.4.4)\n",
            "Requirement already satisfied: certifi>=2017.4.17 in /usr/local/lib/python3.9/dist-packages (from requests<3,>=2.17.3->mlflow) (2022.12.7)\n",
            "Requirement already satisfied: idna<4,>=2.5 in /usr/local/lib/python3.9/dist-packages (from requests<3,>=2.17.3->mlflow) (3.4)\n",
            "Requirement already satisfied: charset-normalizer~=2.0.0 in /usr/local/lib/python3.9/dist-packages (from requests<3,>=2.17.3->mlflow) (2.0.12)\n",
            "Requirement already satisfied: joblib>=1.1.1 in /usr/local/lib/python3.9/dist-packages (from scikit-learn<2->mlflow) (1.1.1)\n",
            "Requirement already satisfied: threadpoolctl>=2.0.0 in /usr/local/lib/python3.9/dist-packages (from scikit-learn<2->mlflow) (3.1.0)\n",
            "Requirement already satisfied: tqdm>4.25.0 in /usr/local/lib/python3.9/dist-packages (from shap<1,>=0.40->mlflow) (4.65.0)\n",
            "Collecting slicer==0.0.7\n",
            "  Downloading slicer-0.0.7-py3-none-any.whl (14 kB)\n",
            "Requirement already satisfied: numba in /usr/local/lib/python3.9/dist-packages (from shap<1,>=0.40->mlflow) (0.56.4)\n",
            "Requirement already satisfied: greenlet!=0.4.17 in /usr/local/lib/python3.9/dist-packages (from sqlalchemy<3,>=1.4.0->mlflow) (2.0.2)\n",
            "Collecting smmap<6,>=3.0.1\n",
            "  Downloading smmap-5.0.0-py3-none-any.whl (24 kB)\n",
            "Requirement already satisfied: llvmlite<0.40,>=0.39.0dev0 in /usr/local/lib/python3.9/dist-packages (from numba->shap<1,>=0.40->mlflow) (0.39.1)\n",
            "Building wheels for collected packages: databricks-cli\n",
            "  Building wheel for databricks-cli (setup.py) ... \u001b[?25l\u001b[?25hdone\n",
            "  Created wheel for databricks-cli: filename=databricks_cli-0.17.6-py3-none-any.whl size=143237 sha256=76c3d84e69a16d6e6336659adce835d5532cbf4638c9e0b6880de57410814e05\n",
            "  Stored in directory: /root/.cache/pip/wheels/06/d9/cb/1cdc0826334cb600957db0b5a8448db02a8995daeab2556745\n",
            "Successfully built databricks-cli\n",
            "Installing collected packages: smmap, slicer, querystring-parser, pyjwt, Mako, gunicorn, gitdb, docker, databricks-cli, alembic, shap, gitpython, mlflow\n",
            "Successfully installed Mako-1.2.4 alembic-1.10.2 databricks-cli-0.17.6 docker-6.0.1 gitdb-4.0.10 gitpython-3.1.31 gunicorn-20.1.0 mlflow-2.2.2 pyjwt-2.6.0 querystring-parser-1.2.4 shap-0.41.0 slicer-0.0.7 smmap-5.0.0\n"
          ]
        }
      ],
      "source": [
        "! pip install mlflow"
      ]
    },
    {
      "cell_type": "code",
      "source": [
        "import pandas as pd\n",
        "import imblearn\n",
        "from imblearn.over_sampling import SMOTE\n",
        "from sklearn.metrics import classification_report, confusion_matrix,accuracy_score,precision_recall_curve,auc\n",
        "import mlflow\n",
        "from urllib.parse import urlparse\n",
        "from markupsafe import escape\n",
        "import numpy as np\n",
        "from sklearn.naive_bayes import GaussianNB\n",
        "from sklearn.linear_model import LogisticRegression\n",
        "from sklearn.ensemble import RandomForestClassifier\n",
        "from sklearn.neural_network import MLPClassifier\n",
        "\n",
        "import nltk\n",
        "from nltk.stem import WordNetLemmatizer\n",
        "from nltk.corpus import wordnet\n"
      ],
      "metadata": {
        "id": "Y1D2gqii-oKT"
      },
      "execution_count": 14,
      "outputs": []
    },
    {
      "cell_type": "code",
      "source": [
        "messages = pd.read_csv('data/SMSSpamCollection',sep='\\t',header=None)"
      ],
      "metadata": {
        "id": "eMbwU_AA-7GI"
      },
      "execution_count": 34,
      "outputs": []
    },
    {
      "cell_type": "code",
      "source": [
        "col_name = [\"label\", \"message\"]\n",
        "messages.columns= col_name\n",
        "messages.head()"
      ],
      "metadata": {
        "colab": {
          "base_uri": "https://localhost:8080/",
          "height": 206
        },
        "id": "CQRHsOoNCcFy",
        "outputId": "e16aafac-1c3b-4f2e-b6bf-8c61108de724"
      },
      "execution_count": 35,
      "outputs": [
        {
          "output_type": "execute_result",
          "data": {
            "text/plain": [
              "  label                                            message\n",
              "0   ham  Go until jurong point, crazy.. Available only ...\n",
              "1   ham                      Ok lar... Joking wif u oni...\n",
              "2  spam  Free entry in 2 a wkly comp to win FA Cup fina...\n",
              "3   ham  U dun say so early hor... U c already then say...\n",
              "4   ham  Nah I don't think he goes to usf, he lives aro..."
            ],
            "text/html": [
              "\n",
              "  <div id=\"df-23052e4f-358c-4242-a72e-dddcf8362683\">\n",
              "    <div class=\"colab-df-container\">\n",
              "      <div>\n",
              "<style scoped>\n",
              "    .dataframe tbody tr th:only-of-type {\n",
              "        vertical-align: middle;\n",
              "    }\n",
              "\n",
              "    .dataframe tbody tr th {\n",
              "        vertical-align: top;\n",
              "    }\n",
              "\n",
              "    .dataframe thead th {\n",
              "        text-align: right;\n",
              "    }\n",
              "</style>\n",
              "<table border=\"1\" class=\"dataframe\">\n",
              "  <thead>\n",
              "    <tr style=\"text-align: right;\">\n",
              "      <th></th>\n",
              "      <th>label</th>\n",
              "      <th>message</th>\n",
              "    </tr>\n",
              "  </thead>\n",
              "  <tbody>\n",
              "    <tr>\n",
              "      <th>0</th>\n",
              "      <td>ham</td>\n",
              "      <td>Go until jurong point, crazy.. Available only ...</td>\n",
              "    </tr>\n",
              "    <tr>\n",
              "      <th>1</th>\n",
              "      <td>ham</td>\n",
              "      <td>Ok lar... Joking wif u oni...</td>\n",
              "    </tr>\n",
              "    <tr>\n",
              "      <th>2</th>\n",
              "      <td>spam</td>\n",
              "      <td>Free entry in 2 a wkly comp to win FA Cup fina...</td>\n",
              "    </tr>\n",
              "    <tr>\n",
              "      <th>3</th>\n",
              "      <td>ham</td>\n",
              "      <td>U dun say so early hor... U c already then say...</td>\n",
              "    </tr>\n",
              "    <tr>\n",
              "      <th>4</th>\n",
              "      <td>ham</td>\n",
              "      <td>Nah I don't think he goes to usf, he lives aro...</td>\n",
              "    </tr>\n",
              "  </tbody>\n",
              "</table>\n",
              "</div>\n",
              "      <button class=\"colab-df-convert\" onclick=\"convertToInteractive('df-23052e4f-358c-4242-a72e-dddcf8362683')\"\n",
              "              title=\"Convert this dataframe to an interactive table.\"\n",
              "              style=\"display:none;\">\n",
              "        \n",
              "  <svg xmlns=\"http://www.w3.org/2000/svg\" height=\"24px\"viewBox=\"0 0 24 24\"\n",
              "       width=\"24px\">\n",
              "    <path d=\"M0 0h24v24H0V0z\" fill=\"none\"/>\n",
              "    <path d=\"M18.56 5.44l.94 2.06.94-2.06 2.06-.94-2.06-.94-.94-2.06-.94 2.06-2.06.94zm-11 1L8.5 8.5l.94-2.06 2.06-.94-2.06-.94L8.5 2.5l-.94 2.06-2.06.94zm10 10l.94 2.06.94-2.06 2.06-.94-2.06-.94-.94-2.06-.94 2.06-2.06.94z\"/><path d=\"M17.41 7.96l-1.37-1.37c-.4-.4-.92-.59-1.43-.59-.52 0-1.04.2-1.43.59L10.3 9.45l-7.72 7.72c-.78.78-.78 2.05 0 2.83L4 21.41c.39.39.9.59 1.41.59.51 0 1.02-.2 1.41-.59l7.78-7.78 2.81-2.81c.8-.78.8-2.07 0-2.86zM5.41 20L4 18.59l7.72-7.72 1.47 1.35L5.41 20z\"/>\n",
              "  </svg>\n",
              "      </button>\n",
              "      \n",
              "  <style>\n",
              "    .colab-df-container {\n",
              "      display:flex;\n",
              "      flex-wrap:wrap;\n",
              "      gap: 12px;\n",
              "    }\n",
              "\n",
              "    .colab-df-convert {\n",
              "      background-color: #E8F0FE;\n",
              "      border: none;\n",
              "      border-radius: 50%;\n",
              "      cursor: pointer;\n",
              "      display: none;\n",
              "      fill: #1967D2;\n",
              "      height: 32px;\n",
              "      padding: 0 0 0 0;\n",
              "      width: 32px;\n",
              "    }\n",
              "\n",
              "    .colab-df-convert:hover {\n",
              "      background-color: #E2EBFA;\n",
              "      box-shadow: 0px 1px 2px rgba(60, 64, 67, 0.3), 0px 1px 3px 1px rgba(60, 64, 67, 0.15);\n",
              "      fill: #174EA6;\n",
              "    }\n",
              "\n",
              "    [theme=dark] .colab-df-convert {\n",
              "      background-color: #3B4455;\n",
              "      fill: #D2E3FC;\n",
              "    }\n",
              "\n",
              "    [theme=dark] .colab-df-convert:hover {\n",
              "      background-color: #434B5C;\n",
              "      box-shadow: 0px 1px 3px 1px rgba(0, 0, 0, 0.15);\n",
              "      filter: drop-shadow(0px 1px 2px rgba(0, 0, 0, 0.3));\n",
              "      fill: #FFFFFF;\n",
              "    }\n",
              "  </style>\n",
              "\n",
              "      <script>\n",
              "        const buttonEl =\n",
              "          document.querySelector('#df-23052e4f-358c-4242-a72e-dddcf8362683 button.colab-df-convert');\n",
              "        buttonEl.style.display =\n",
              "          google.colab.kernel.accessAllowed ? 'block' : 'none';\n",
              "\n",
              "        async function convertToInteractive(key) {\n",
              "          const element = document.querySelector('#df-23052e4f-358c-4242-a72e-dddcf8362683');\n",
              "          const dataTable =\n",
              "            await google.colab.kernel.invokeFunction('convertToInteractive',\n",
              "                                                     [key], {});\n",
              "          if (!dataTable) return;\n",
              "\n",
              "          const docLinkHtml = 'Like what you see? Visit the ' +\n",
              "            '<a target=\"_blank\" href=https://colab.research.google.com/notebooks/data_table.ipynb>data table notebook</a>'\n",
              "            + ' to learn more about interactive tables.';\n",
              "          element.innerHTML = '';\n",
              "          dataTable['output_type'] = 'display_data';\n",
              "          await google.colab.output.renderOutput(dataTable, element);\n",
              "          const docLink = document.createElement('div');\n",
              "          docLink.innerHTML = docLinkHtml;\n",
              "          element.appendChild(docLink);\n",
              "        }\n",
              "      </script>\n",
              "    </div>\n",
              "  </div>\n",
              "  "
            ]
          },
          "metadata": {},
          "execution_count": 35
        }
      ]
    },
    {
      "cell_type": "code",
      "source": [
        "pip install contractions"
      ],
      "metadata": {
        "colab": {
          "base_uri": "https://localhost:8080/"
        },
        "id": "f6STOqKNCC3Y",
        "outputId": "9ffa1964-9d4b-4bca-a252-03d2e69cc06b"
      },
      "execution_count": 6,
      "outputs": [
        {
          "output_type": "stream",
          "name": "stdout",
          "text": [
            "Looking in indexes: https://pypi.org/simple, https://us-python.pkg.dev/colab-wheels/public/simple/\n",
            "Collecting contractions\n",
            "  Downloading contractions-0.1.73-py2.py3-none-any.whl (8.7 kB)\n",
            "Collecting textsearch>=0.0.21\n",
            "  Downloading textsearch-0.0.24-py2.py3-none-any.whl (7.6 kB)\n",
            "Collecting anyascii\n",
            "  Downloading anyascii-0.3.2-py3-none-any.whl (289 kB)\n",
            "\u001b[2K     \u001b[90m━━━━━━━━━━━━━━━━━━━━━━━━━━━━━━━━━━━━━━\u001b[0m \u001b[32m289.9/289.9 KB\u001b[0m \u001b[31m16.1 MB/s\u001b[0m eta \u001b[36m0:00:00\u001b[0m\n",
            "\u001b[?25hCollecting pyahocorasick\n",
            "  Downloading pyahocorasick-2.0.0-cp39-cp39-manylinux_2_5_x86_64.manylinux1_x86_64.whl (103 kB)\n",
            "\u001b[2K     \u001b[90m━━━━━━━━━━━━━━━━━━━━━━━━━━━━━━━━━━━━━━\u001b[0m \u001b[32m103.2/103.2 KB\u001b[0m \u001b[31m13.4 MB/s\u001b[0m eta \u001b[36m0:00:00\u001b[0m\n",
            "\u001b[?25hInstalling collected packages: pyahocorasick, anyascii, textsearch, contractions\n",
            "Successfully installed anyascii-0.3.2 contractions-0.1.73 pyahocorasick-2.0.0 textsearch-0.0.24\n"
          ]
        }
      ]
    },
    {
      "cell_type": "code",
      "source": [
        "import re\n",
        "import contractions\n",
        "from nltk.tokenize import RegexpTokenizer\n",
        "from nltk.corpus import stopwords\n",
        "import string \n",
        "\n",
        "string.punctuation"
      ],
      "metadata": {
        "colab": {
          "base_uri": "https://localhost:8080/",
          "height": 35
        },
        "id": "zsMMOdPMCILd",
        "outputId": "0bf00795-7dfc-47a2-f082-2706ccd20273"
      },
      "execution_count": 8,
      "outputs": [
        {
          "output_type": "execute_result",
          "data": {
            "text/plain": [
              "'!\"#$%&\\'()*+,-./:;<=>?@[\\\\]^_`{|}~'"
            ],
            "application/vnd.google.colaboratory.intrinsic+json": {
              "type": "string"
            }
          },
          "metadata": {},
          "execution_count": 8
        }
      ]
    },
    {
      "cell_type": "code",
      "source": [
        "\n",
        "nltk.download(\"stopwords\")"
      ],
      "metadata": {
        "colab": {
          "base_uri": "https://localhost:8080/"
        },
        "id": "mNHvsteBC0nf",
        "outputId": "388c9179-de7f-4774-d45b-2c4ede76687a"
      },
      "execution_count": 16,
      "outputs": [
        {
          "output_type": "stream",
          "name": "stderr",
          "text": [
            "[nltk_data] Downloading package stopwords to /root/nltk_data...\n",
            "[nltk_data]   Unzipping corpora/stopwords.zip.\n"
          ]
        },
        {
          "output_type": "execute_result",
          "data": {
            "text/plain": [
              "True"
            ]
          },
          "metadata": {},
          "execution_count": 16
        }
      ]
    },
    {
      "cell_type": "code",
      "source": [
        "import nltk\n",
        "from nltk.stem import WordNetLemmatizer\n",
        "from nltk.corpus import wordnet"
      ],
      "metadata": {
        "id": "jFIYYpQRC91N"
      },
      "execution_count": 18,
      "outputs": []
    },
    {
      "cell_type": "code",
      "source": [
        "from nltk.corpus import stopwords\n",
        "stop_words=set(stopwords.words('english'))\n"
      ],
      "metadata": {
        "id": "q6eHpQ-HDEu3"
      },
      "execution_count": 22,
      "outputs": []
    },
    {
      "cell_type": "code",
      "source": [
        "nltk.download('wordnet')\n",
        "from nltk.stem import WordNetLemmatizer"
      ],
      "metadata": {
        "colab": {
          "base_uri": "https://localhost:8080/"
        },
        "id": "k0hrGC0-DHAF",
        "outputId": "85edc256-d1c2-49bd-d9ad-b03683750033"
      },
      "execution_count": 33,
      "outputs": [
        {
          "output_type": "stream",
          "name": "stderr",
          "text": [
            "[nltk_data] Downloading package wordnet to /root/nltk_data...\n",
            "[nltk_data]   Package wordnet is already up-to-date!\n"
          ]
        }
      ]
    },
    {
      "cell_type": "code",
      "source": [
        "\n",
        "! pip install wordcloud\n",
        "from wordcloud import WordCloud"
      ],
      "metadata": {
        "colab": {
          "base_uri": "https://localhost:8080/"
        },
        "id": "gzTPiHMfDJXb",
        "outputId": "8fb69242-d35e-4a61-f16c-bff3ed2abab8"
      },
      "execution_count": 24,
      "outputs": [
        {
          "output_type": "stream",
          "name": "stdout",
          "text": [
            "Looking in indexes: https://pypi.org/simple, https://us-python.pkg.dev/colab-wheels/public/simple/\n",
            "Requirement already satisfied: wordcloud in /usr/local/lib/python3.9/dist-packages (1.8.2.2)\n",
            "Requirement already satisfied: numpy>=1.6.1 in /usr/local/lib/python3.9/dist-packages (from wordcloud) (1.22.4)\n",
            "Requirement already satisfied: matplotlib in /usr/local/lib/python3.9/dist-packages (from wordcloud) (3.7.1)\n",
            "Requirement already satisfied: pillow in /usr/local/lib/python3.9/dist-packages (from wordcloud) (8.4.0)\n",
            "Requirement already satisfied: kiwisolver>=1.0.1 in /usr/local/lib/python3.9/dist-packages (from matplotlib->wordcloud) (1.4.4)\n",
            "Requirement already satisfied: packaging>=20.0 in /usr/local/lib/python3.9/dist-packages (from matplotlib->wordcloud) (23.0)\n",
            "Requirement already satisfied: importlib-resources>=3.2.0 in /usr/local/lib/python3.9/dist-packages (from matplotlib->wordcloud) (5.12.0)\n",
            "Requirement already satisfied: python-dateutil>=2.7 in /usr/local/lib/python3.9/dist-packages (from matplotlib->wordcloud) (2.8.2)\n",
            "Requirement already satisfied: fonttools>=4.22.0 in /usr/local/lib/python3.9/dist-packages (from matplotlib->wordcloud) (4.39.3)\n",
            "Requirement already satisfied: contourpy>=1.0.1 in /usr/local/lib/python3.9/dist-packages (from matplotlib->wordcloud) (1.0.7)\n",
            "Requirement already satisfied: cycler>=0.10 in /usr/local/lib/python3.9/dist-packages (from matplotlib->wordcloud) (0.11.0)\n",
            "Requirement already satisfied: pyparsing>=2.3.1 in /usr/local/lib/python3.9/dist-packages (from matplotlib->wordcloud) (3.0.9)\n",
            "Requirement already satisfied: zipp>=3.1.0 in /usr/local/lib/python3.9/dist-packages (from importlib-resources>=3.2.0->matplotlib->wordcloud) (3.15.0)\n",
            "Requirement already satisfied: six>=1.5 in /usr/local/lib/python3.9/dist-packages (from python-dateutil>=2.7->matplotlib->wordcloud) (1.16.0)\n"
          ]
        }
      ]
    },
    {
      "cell_type": "code",
      "source": [
        "def preprocessing(sentence):\n",
        "\n",
        "    lemmatizer = WordNetLemmatizer()\n",
        "    stop_words = set(stopwords.words(\"english\"))\n",
        "\n",
        "    punct = r\"[!\\\"#\\$%&\\'\\(\\)\\*\\+,-\\./:;<=>\\?@\\[\\\\\\]\\^_`{\\|}~]\"\n",
        "    tokenize = RegexpTokenizer(r'\\w+')\n",
        "  \n",
        "    sentence = re.sub(punct, \"\", sentence)\n",
        "    sentence = contractions.fix(sentence)\n",
        "    sentence = re.sub(r'https?', \"\", sentence) \n",
        "    sentence = sentence.lower()\n",
        "    sentence = tokenize.tokenize(sentence)\n",
        "\n",
        "    sentence = [word for word in sentence if word not in stop_words]\n",
        "    sentence = [str(lemmatizer.lemmatize(word)) for word in sentence]\n",
        "\n",
        "    return(sentence)"
      ],
      "metadata": {
        "id": "j9ZrO2GKCRP9"
      },
      "execution_count": 25,
      "outputs": []
    },
    {
      "cell_type": "code",
      "source": [
        "labels = [0  if x== \"ham\" else 1 for x in messages.label]"
      ],
      "metadata": {
        "id": "sSyK3uGBCUmy"
      },
      "execution_count": 36,
      "outputs": []
    },
    {
      "cell_type": "code",
      "source": [
        "X = [preprocessing(sentence) for sentence in messages.message]"
      ],
      "metadata": {
        "id": "iHdoGjBsCizm"
      },
      "execution_count": 37,
      "outputs": []
    },
    {
      "cell_type": "code",
      "source": [
        "data = pd.DataFrame({'message': X,'labels': labels})"
      ],
      "metadata": {
        "id": "eGAtRgU9DQQA"
      },
      "execution_count": 38,
      "outputs": []
    },
    {
      "cell_type": "code",
      "source": [
        "def testTrainValSplit(file, seed):\n",
        "\n",
        "  from sklearn.model_selection import train_test_split\n",
        "\n",
        "  X_train, X_test, y_train, y_test = train_test_split(file.message, file.labels, test_size = 0.2, random_state = seed)\n",
        "  X_train, X_val, y_train, y_val = train_test_split(X_train, y_train, test_size = 0.1, random_state = seed)\n",
        "\n",
        "  train=pd.DataFrame({'X_train': X_train,'y_train': y_train})\n",
        "  val=pd.DataFrame({'X_val': X_val,'y_val': y_val})\n",
        "  test=pd.DataFrame({'X_test': X_test,'y_test': y_test})\n",
        "\n",
        "  train.to_csv('data/train.csv',index=False)\n",
        "  val.to_csv('data/validation.csv',index=False)\n",
        "  test.to_csv('data/test.csv',index=False)"
      ],
      "metadata": {
        "id": "qyyVovXnDWRl"
      },
      "execution_count": 39,
      "outputs": []
    },
    {
      "cell_type": "code",
      "source": [
        "testTrainValSplit(data, 0)"
      ],
      "metadata": {
        "id": "5BBzgzvYDZhQ"
      },
      "execution_count": 40,
      "outputs": []
    },
    {
      "cell_type": "code",
      "source": [
        "test= pd.read_csv('data/test.csv')\n",
        "train= pd.read_csv('data/train.csv')\n",
        "valid= pd.read_csv('data/validation.csv')"
      ],
      "metadata": {
        "id": "rFczLimM-q5L"
      },
      "execution_count": 41,
      "outputs": []
    },
    {
      "cell_type": "code",
      "source": [
        "import pandas as pd\n",
        "%matplotlib inline\n",
        "import matplotlib.pyplot as plt\n",
        "import csv\n",
        "#from textblob import TextBlob\n",
        "import pandas\n",
        "import sklearn\n",
        "#import cPickle\n",
        "import numpy as np\n",
        "from sklearn.feature_extraction.text import CountVectorizer, TfidfTransformer\n",
        "from sklearn.naive_bayes import MultinomialNB\n",
        "from sklearn.svm import SVC, LinearSVC\n",
        "from sklearn.metrics import classification_report, f1_score, accuracy_score, confusion_matrix\n",
        "from sklearn.pipeline import Pipeline\n",
        "#from sklearn.grid_search import GridSearchCV\n",
        "from sklearn.model_selection import train_test_split\n",
        "from sklearn.tree import DecisionTreeClassifier \n",
        "#from sklearn.learning_curve import learning_curve"
      ],
      "metadata": {
        "id": "Vhb1nHnHEXLT"
      },
      "execution_count": 43,
      "outputs": []
    },
    {
      "cell_type": "code",
      "source": [
        "count_vectorize = CountVectorizer(analyzer=preprocessing) \n",
        "vectorized = count_vectorize.fit_transform(train.X_train)"
      ],
      "metadata": {
        "id": "py3vBZz2_I84"
      },
      "execution_count": 44,
      "outputs": []
    },
    {
      "cell_type": "code",
      "source": [
        "message = train[\"X_train\"][4]\n",
        "message4 = count_vectorize.transform([message])\n",
        "\n",
        "print(message4)\n",
        "print(message4.shape)"
      ],
      "metadata": {
        "colab": {
          "base_uri": "https://localhost:8080/"
        },
        "id": "0dwwjGP4ESeF",
        "outputId": "3a774ff0-1c17-425b-a044-7629d5bb14d7"
      },
      "execution_count": 45,
      "outputs": [
        {
          "output_type": "stream",
          "name": "stdout",
          "text": [
            "  (0, 1155)\t1\n",
            "  (0, 4211)\t1\n",
            "  (0, 6959)\t1\n",
            "(1, 7303)\n"
          ]
        }
      ]
    },
    {
      "cell_type": "code",
      "source": [
        "message = test[\"X_test\"][4]\n",
        "message4 = count_vectorize.transform([message])\n",
        "\n",
        "print(message4)\n",
        "print(message4.shape)"
      ],
      "metadata": {
        "colab": {
          "base_uri": "https://localhost:8080/"
        },
        "id": "KlS5mcgHEeUa",
        "outputId": "373f9115-14ff-43a4-c5b5-6d145b857eaa"
      },
      "execution_count": 46,
      "outputs": [
        {
          "output_type": "stream",
          "name": "stdout",
          "text": [
            "  (0, 1808)\t1\n",
            "  (0, 1910)\t1\n",
            "  (0, 2652)\t1\n",
            "  (0, 2995)\t1\n",
            "  (0, 3959)\t1\n",
            "(1, 7303)\n"
          ]
        }
      ]
    },
    {
      "cell_type": "code",
      "source": [
        "bag_of_words=count_vectorize.vocabulary_"
      ],
      "metadata": {
        "id": "Ey1MwsvpEgm4"
      },
      "execution_count": 47,
      "outputs": []
    },
    {
      "cell_type": "code",
      "source": [
        "len(bag_of_words)"
      ],
      "metadata": {
        "colab": {
          "base_uri": "https://localhost:8080/"
        },
        "id": "9Ay8RPqqEiz7",
        "outputId": "b40c87e5-0e43-40d7-f1a4-a67b3e5a93e3"
      },
      "execution_count": 48,
      "outputs": [
        {
          "output_type": "execute_result",
          "data": {
            "text/plain": [
              "7303"
            ]
          },
          "metadata": {},
          "execution_count": 48
        }
      ]
    },
    {
      "cell_type": "code",
      "source": [
        "X_train= count_vectorize.transform(train.X_train)\n",
        "X_val = count_vectorize.transform(valid.X_val)\n",
        "X_test= count_vectorize.transform(test.X_test)"
      ],
      "metadata": {
        "id": "yXWgIeQAEkGI"
      },
      "execution_count": 70,
      "outputs": []
    },
    {
      "cell_type": "code",
      "source": [
        "X_train"
      ],
      "metadata": {
        "colab": {
          "base_uri": "https://localhost:8080/"
        },
        "id": "-XVdAw2XElbT",
        "outputId": "dc754850-32ef-443f-a22e-a2a7cafdeb3a"
      },
      "execution_count": 71,
      "outputs": [
        {
          "output_type": "execute_result",
          "data": {
            "text/plain": [
              "<4011x7303 sparse matrix of type '<class 'numpy.int64'>'\n",
              "\twith 33760 stored elements in Compressed Sparse Row format>"
            ]
          },
          "metadata": {},
          "execution_count": 71
        }
      ]
    },
    {
      "cell_type": "code",
      "source": [
        "tfidf_transformer = TfidfTransformer().fit(X_train)\n",
        "X_train_tfidf = tfidf_transformer.transform(X_train)"
      ],
      "metadata": {
        "id": "NdzLvvfNEmvA"
      },
      "execution_count": 72,
      "outputs": []
    },
    {
      "cell_type": "code",
      "source": [
        "X_val_tfidf=tfidf_transformer.transform(X_val)\n",
        "X_test_tfidf=tfidf_transformer.transform(X_test)"
      ],
      "metadata": {
        "id": "ZccZFKpVExx2"
      },
      "execution_count": 54,
      "outputs": []
    },
    {
      "cell_type": "code",
      "source": [
        "X_val_tfidf"
      ],
      "metadata": {
        "colab": {
          "base_uri": "https://localhost:8080/"
        },
        "id": "YRnrTBBSEzQJ",
        "outputId": "6dfe12e2-2cb1-472e-c882-8fe061f19110"
      },
      "execution_count": 55,
      "outputs": [
        {
          "output_type": "execute_result",
          "data": {
            "text/plain": [
              "<446x7303 sparse matrix of type '<class 'numpy.float64'>'\n",
              "\twith 3253 stored elements in Compressed Sparse Row format>"
            ]
          },
          "metadata": {},
          "execution_count": 55
        }
      ]
    },
    {
      "cell_type": "markdown",
      "source": [
        "##  Model 1 : logistic Regression model"
      ],
      "metadata": {
        "id": "o_TS1igGE6eW"
      }
    },
    {
      "cell_type": "code",
      "source": [
        "def eval_metrics(actual, pred):\n",
        "    precision, recall, thresholds = precision_recall_curve(actual, pred)\n",
        "    auc_precision_recall = auc(recall, precision)\n",
        "    return (auc_precision_recall)"
      ],
      "metadata": {
        "id": "ZzfzKCnlE0Wn"
      },
      "execution_count": 56,
      "outputs": []
    },
    {
      "cell_type": "code",
      "source": [
        "train"
      ],
      "metadata": {
        "colab": {
          "base_uri": "https://localhost:8080/",
          "height": 423
        },
        "id": "JIjdx77dFR5b",
        "outputId": "320dd8e7-f404-4a46-bbcf-886be9c4cf66"
      },
      "execution_count": 59,
      "outputs": [
        {
          "output_type": "execute_result",
          "data": {
            "text/plain": [
              "                                                X_train  y_train\n",
              "0     ['hi', 'darlin', 'finish', '3', '1', '2', 'pic...        0\n",
              "1     ['freemsg', 'hi', 'baby', 'wow', 'got', 'new',...        1\n",
              "2                        ['talk', 'ever', 'ok', 'word']        0\n",
              "3     ['take', 'care', 'financial', 'problemi', 'help']        0\n",
              "4                               ['might', 'ax', 'well']        0\n",
              "...                                                 ...      ...\n",
              "4006  ['dear', 'uve', 'invited', 'xchat', 'final', '...        1\n",
              "4007  ['oh', 'love', 'soooo', 'good', 'hear', 'omg',...        0\n",
              "4008  ['get', 'gandhipuram', 'walk', 'cross', 'cut',...        0\n",
              "4009                               ['leaving', 'house']        0\n",
              "4010  ['want', 'new', 'video', 'phone', '750', 'anyt...        1\n",
              "\n",
              "[4011 rows x 2 columns]"
            ],
            "text/html": [
              "\n",
              "  <div id=\"df-485df141-77f9-4f59-8e8f-0cf354e34724\">\n",
              "    <div class=\"colab-df-container\">\n",
              "      <div>\n",
              "<style scoped>\n",
              "    .dataframe tbody tr th:only-of-type {\n",
              "        vertical-align: middle;\n",
              "    }\n",
              "\n",
              "    .dataframe tbody tr th {\n",
              "        vertical-align: top;\n",
              "    }\n",
              "\n",
              "    .dataframe thead th {\n",
              "        text-align: right;\n",
              "    }\n",
              "</style>\n",
              "<table border=\"1\" class=\"dataframe\">\n",
              "  <thead>\n",
              "    <tr style=\"text-align: right;\">\n",
              "      <th></th>\n",
              "      <th>X_train</th>\n",
              "      <th>y_train</th>\n",
              "    </tr>\n",
              "  </thead>\n",
              "  <tbody>\n",
              "    <tr>\n",
              "      <th>0</th>\n",
              "      <td>['hi', 'darlin', 'finish', '3', '1', '2', 'pic...</td>\n",
              "      <td>0</td>\n",
              "    </tr>\n",
              "    <tr>\n",
              "      <th>1</th>\n",
              "      <td>['freemsg', 'hi', 'baby', 'wow', 'got', 'new',...</td>\n",
              "      <td>1</td>\n",
              "    </tr>\n",
              "    <tr>\n",
              "      <th>2</th>\n",
              "      <td>['talk', 'ever', 'ok', 'word']</td>\n",
              "      <td>0</td>\n",
              "    </tr>\n",
              "    <tr>\n",
              "      <th>3</th>\n",
              "      <td>['take', 'care', 'financial', 'problemi', 'help']</td>\n",
              "      <td>0</td>\n",
              "    </tr>\n",
              "    <tr>\n",
              "      <th>4</th>\n",
              "      <td>['might', 'ax', 'well']</td>\n",
              "      <td>0</td>\n",
              "    </tr>\n",
              "    <tr>\n",
              "      <th>...</th>\n",
              "      <td>...</td>\n",
              "      <td>...</td>\n",
              "    </tr>\n",
              "    <tr>\n",
              "      <th>4006</th>\n",
              "      <td>['dear', 'uve', 'invited', 'xchat', 'final', '...</td>\n",
              "      <td>1</td>\n",
              "    </tr>\n",
              "    <tr>\n",
              "      <th>4007</th>\n",
              "      <td>['oh', 'love', 'soooo', 'good', 'hear', 'omg',...</td>\n",
              "      <td>0</td>\n",
              "    </tr>\n",
              "    <tr>\n",
              "      <th>4008</th>\n",
              "      <td>['get', 'gandhipuram', 'walk', 'cross', 'cut',...</td>\n",
              "      <td>0</td>\n",
              "    </tr>\n",
              "    <tr>\n",
              "      <th>4009</th>\n",
              "      <td>['leaving', 'house']</td>\n",
              "      <td>0</td>\n",
              "    </tr>\n",
              "    <tr>\n",
              "      <th>4010</th>\n",
              "      <td>['want', 'new', 'video', 'phone', '750', 'anyt...</td>\n",
              "      <td>1</td>\n",
              "    </tr>\n",
              "  </tbody>\n",
              "</table>\n",
              "<p>4011 rows × 2 columns</p>\n",
              "</div>\n",
              "      <button class=\"colab-df-convert\" onclick=\"convertToInteractive('df-485df141-77f9-4f59-8e8f-0cf354e34724')\"\n",
              "              title=\"Convert this dataframe to an interactive table.\"\n",
              "              style=\"display:none;\">\n",
              "        \n",
              "  <svg xmlns=\"http://www.w3.org/2000/svg\" height=\"24px\"viewBox=\"0 0 24 24\"\n",
              "       width=\"24px\">\n",
              "    <path d=\"M0 0h24v24H0V0z\" fill=\"none\"/>\n",
              "    <path d=\"M18.56 5.44l.94 2.06.94-2.06 2.06-.94-2.06-.94-.94-2.06-.94 2.06-2.06.94zm-11 1L8.5 8.5l.94-2.06 2.06-.94-2.06-.94L8.5 2.5l-.94 2.06-2.06.94zm10 10l.94 2.06.94-2.06 2.06-.94-2.06-.94-.94-2.06-.94 2.06-2.06.94z\"/><path d=\"M17.41 7.96l-1.37-1.37c-.4-.4-.92-.59-1.43-.59-.52 0-1.04.2-1.43.59L10.3 9.45l-7.72 7.72c-.78.78-.78 2.05 0 2.83L4 21.41c.39.39.9.59 1.41.59.51 0 1.02-.2 1.41-.59l7.78-7.78 2.81-2.81c.8-.78.8-2.07 0-2.86zM5.41 20L4 18.59l7.72-7.72 1.47 1.35L5.41 20z\"/>\n",
              "  </svg>\n",
              "      </button>\n",
              "      \n",
              "  <style>\n",
              "    .colab-df-container {\n",
              "      display:flex;\n",
              "      flex-wrap:wrap;\n",
              "      gap: 12px;\n",
              "    }\n",
              "\n",
              "    .colab-df-convert {\n",
              "      background-color: #E8F0FE;\n",
              "      border: none;\n",
              "      border-radius: 50%;\n",
              "      cursor: pointer;\n",
              "      display: none;\n",
              "      fill: #1967D2;\n",
              "      height: 32px;\n",
              "      padding: 0 0 0 0;\n",
              "      width: 32px;\n",
              "    }\n",
              "\n",
              "    .colab-df-convert:hover {\n",
              "      background-color: #E2EBFA;\n",
              "      box-shadow: 0px 1px 2px rgba(60, 64, 67, 0.3), 0px 1px 3px 1px rgba(60, 64, 67, 0.15);\n",
              "      fill: #174EA6;\n",
              "    }\n",
              "\n",
              "    [theme=dark] .colab-df-convert {\n",
              "      background-color: #3B4455;\n",
              "      fill: #D2E3FC;\n",
              "    }\n",
              "\n",
              "    [theme=dark] .colab-df-convert:hover {\n",
              "      background-color: #434B5C;\n",
              "      box-shadow: 0px 1px 3px 1px rgba(0, 0, 0, 0.15);\n",
              "      filter: drop-shadow(0px 1px 2px rgba(0, 0, 0, 0.3));\n",
              "      fill: #FFFFFF;\n",
              "    }\n",
              "  </style>\n",
              "\n",
              "      <script>\n",
              "        const buttonEl =\n",
              "          document.querySelector('#df-485df141-77f9-4f59-8e8f-0cf354e34724 button.colab-df-convert');\n",
              "        buttonEl.style.display =\n",
              "          google.colab.kernel.accessAllowed ? 'block' : 'none';\n",
              "\n",
              "        async function convertToInteractive(key) {\n",
              "          const element = document.querySelector('#df-485df141-77f9-4f59-8e8f-0cf354e34724');\n",
              "          const dataTable =\n",
              "            await google.colab.kernel.invokeFunction('convertToInteractive',\n",
              "                                                     [key], {});\n",
              "          if (!dataTable) return;\n",
              "\n",
              "          const docLinkHtml = 'Like what you see? Visit the ' +\n",
              "            '<a target=\"_blank\" href=https://colab.research.google.com/notebooks/data_table.ipynb>data table notebook</a>'\n",
              "            + ' to learn more about interactive tables.';\n",
              "          element.innerHTML = '';\n",
              "          dataTable['output_type'] = 'display_data';\n",
              "          await google.colab.output.renderOutput(dataTable, element);\n",
              "          const docLink = document.createElement('div');\n",
              "          docLink.innerHTML = docLinkHtml;\n",
              "          element.appendChild(docLink);\n",
              "        }\n",
              "      </script>\n",
              "    </div>\n",
              "  </div>\n",
              "  "
            ]
          },
          "metadata": {},
          "execution_count": 59
        }
      ]
    },
    {
      "cell_type": "markdown",
      "source": [],
      "metadata": {
        "id": "3I408qjHFRXx"
      }
    },
    {
      "cell_type": "code",
      "source": [
        "valid"
      ],
      "metadata": {
        "colab": {
          "base_uri": "https://localhost:8080/",
          "height": 423
        },
        "id": "1gsEEYHmFkr3",
        "outputId": "57d08503-1ebc-4648-eb21-4f90efc8c212"
      },
      "execution_count": 61,
      "outputs": [
        {
          "output_type": "execute_result",
          "data": {
            "text/plain": [
              "                                                 X_val  y_val\n",
              "0    ['r', 'sure', 'understand', 'wine', 'good', 'i...      0\n",
              "1        ['wot', 'student', 'discount', 'get', 'book']      0\n",
              "2    ['boy', 'loved', 'gal', 'propsd', 'bt', 'mind'...      0\n",
              "3                               ['going', 'dinnermsg']      0\n",
              "4    ['pas', 'dis', 'contact', 'n', 'see', 'wat', '...      0\n",
              "..                                                 ...    ...\n",
              "441  ['anyways', 'go', 'gym', 'whatever', 'love', '...      0\n",
              "442  ['hi', 'dear', 'saw', 'dear', 'happy', 'batter...      0\n",
              "443     ['kyou', 'girl', 'waiting', 'reception', 'ah']      0\n",
              "444                            ['ever', 'one', 'foot']      0\n",
              "445      ['dear', 'got', 'ltgt', 'dollar', 'hi', 'hi']      0\n",
              "\n",
              "[446 rows x 2 columns]"
            ],
            "text/html": [
              "\n",
              "  <div id=\"df-f019dff1-eacd-476f-8f6e-acda99c531ba\">\n",
              "    <div class=\"colab-df-container\">\n",
              "      <div>\n",
              "<style scoped>\n",
              "    .dataframe tbody tr th:only-of-type {\n",
              "        vertical-align: middle;\n",
              "    }\n",
              "\n",
              "    .dataframe tbody tr th {\n",
              "        vertical-align: top;\n",
              "    }\n",
              "\n",
              "    .dataframe thead th {\n",
              "        text-align: right;\n",
              "    }\n",
              "</style>\n",
              "<table border=\"1\" class=\"dataframe\">\n",
              "  <thead>\n",
              "    <tr style=\"text-align: right;\">\n",
              "      <th></th>\n",
              "      <th>X_val</th>\n",
              "      <th>y_val</th>\n",
              "    </tr>\n",
              "  </thead>\n",
              "  <tbody>\n",
              "    <tr>\n",
              "      <th>0</th>\n",
              "      <td>['r', 'sure', 'understand', 'wine', 'good', 'i...</td>\n",
              "      <td>0</td>\n",
              "    </tr>\n",
              "    <tr>\n",
              "      <th>1</th>\n",
              "      <td>['wot', 'student', 'discount', 'get', 'book']</td>\n",
              "      <td>0</td>\n",
              "    </tr>\n",
              "    <tr>\n",
              "      <th>2</th>\n",
              "      <td>['boy', 'loved', 'gal', 'propsd', 'bt', 'mind'...</td>\n",
              "      <td>0</td>\n",
              "    </tr>\n",
              "    <tr>\n",
              "      <th>3</th>\n",
              "      <td>['going', 'dinnermsg']</td>\n",
              "      <td>0</td>\n",
              "    </tr>\n",
              "    <tr>\n",
              "      <th>4</th>\n",
              "      <td>['pas', 'dis', 'contact', 'n', 'see', 'wat', '...</td>\n",
              "      <td>0</td>\n",
              "    </tr>\n",
              "    <tr>\n",
              "      <th>...</th>\n",
              "      <td>...</td>\n",
              "      <td>...</td>\n",
              "    </tr>\n",
              "    <tr>\n",
              "      <th>441</th>\n",
              "      <td>['anyways', 'go', 'gym', 'whatever', 'love', '...</td>\n",
              "      <td>0</td>\n",
              "    </tr>\n",
              "    <tr>\n",
              "      <th>442</th>\n",
              "      <td>['hi', 'dear', 'saw', 'dear', 'happy', 'batter...</td>\n",
              "      <td>0</td>\n",
              "    </tr>\n",
              "    <tr>\n",
              "      <th>443</th>\n",
              "      <td>['kyou', 'girl', 'waiting', 'reception', 'ah']</td>\n",
              "      <td>0</td>\n",
              "    </tr>\n",
              "    <tr>\n",
              "      <th>444</th>\n",
              "      <td>['ever', 'one', 'foot']</td>\n",
              "      <td>0</td>\n",
              "    </tr>\n",
              "    <tr>\n",
              "      <th>445</th>\n",
              "      <td>['dear', 'got', 'ltgt', 'dollar', 'hi', 'hi']</td>\n",
              "      <td>0</td>\n",
              "    </tr>\n",
              "  </tbody>\n",
              "</table>\n",
              "<p>446 rows × 2 columns</p>\n",
              "</div>\n",
              "      <button class=\"colab-df-convert\" onclick=\"convertToInteractive('df-f019dff1-eacd-476f-8f6e-acda99c531ba')\"\n",
              "              title=\"Convert this dataframe to an interactive table.\"\n",
              "              style=\"display:none;\">\n",
              "        \n",
              "  <svg xmlns=\"http://www.w3.org/2000/svg\" height=\"24px\"viewBox=\"0 0 24 24\"\n",
              "       width=\"24px\">\n",
              "    <path d=\"M0 0h24v24H0V0z\" fill=\"none\"/>\n",
              "    <path d=\"M18.56 5.44l.94 2.06.94-2.06 2.06-.94-2.06-.94-.94-2.06-.94 2.06-2.06.94zm-11 1L8.5 8.5l.94-2.06 2.06-.94-2.06-.94L8.5 2.5l-.94 2.06-2.06.94zm10 10l.94 2.06.94-2.06 2.06-.94-2.06-.94-.94-2.06-.94 2.06-2.06.94z\"/><path d=\"M17.41 7.96l-1.37-1.37c-.4-.4-.92-.59-1.43-.59-.52 0-1.04.2-1.43.59L10.3 9.45l-7.72 7.72c-.78.78-.78 2.05 0 2.83L4 21.41c.39.39.9.59 1.41.59.51 0 1.02-.2 1.41-.59l7.78-7.78 2.81-2.81c.8-.78.8-2.07 0-2.86zM5.41 20L4 18.59l7.72-7.72 1.47 1.35L5.41 20z\"/>\n",
              "  </svg>\n",
              "      </button>\n",
              "      \n",
              "  <style>\n",
              "    .colab-df-container {\n",
              "      display:flex;\n",
              "      flex-wrap:wrap;\n",
              "      gap: 12px;\n",
              "    }\n",
              "\n",
              "    .colab-df-convert {\n",
              "      background-color: #E8F0FE;\n",
              "      border: none;\n",
              "      border-radius: 50%;\n",
              "      cursor: pointer;\n",
              "      display: none;\n",
              "      fill: #1967D2;\n",
              "      height: 32px;\n",
              "      padding: 0 0 0 0;\n",
              "      width: 32px;\n",
              "    }\n",
              "\n",
              "    .colab-df-convert:hover {\n",
              "      background-color: #E2EBFA;\n",
              "      box-shadow: 0px 1px 2px rgba(60, 64, 67, 0.3), 0px 1px 3px 1px rgba(60, 64, 67, 0.15);\n",
              "      fill: #174EA6;\n",
              "    }\n",
              "\n",
              "    [theme=dark] .colab-df-convert {\n",
              "      background-color: #3B4455;\n",
              "      fill: #D2E3FC;\n",
              "    }\n",
              "\n",
              "    [theme=dark] .colab-df-convert:hover {\n",
              "      background-color: #434B5C;\n",
              "      box-shadow: 0px 1px 3px 1px rgba(0, 0, 0, 0.15);\n",
              "      filter: drop-shadow(0px 1px 2px rgba(0, 0, 0, 0.3));\n",
              "      fill: #FFFFFF;\n",
              "    }\n",
              "  </style>\n",
              "\n",
              "      <script>\n",
              "        const buttonEl =\n",
              "          document.querySelector('#df-f019dff1-eacd-476f-8f6e-acda99c531ba button.colab-df-convert');\n",
              "        buttonEl.style.display =\n",
              "          google.colab.kernel.accessAllowed ? 'block' : 'none';\n",
              "\n",
              "        async function convertToInteractive(key) {\n",
              "          const element = document.querySelector('#df-f019dff1-eacd-476f-8f6e-acda99c531ba');\n",
              "          const dataTable =\n",
              "            await google.colab.kernel.invokeFunction('convertToInteractive',\n",
              "                                                     [key], {});\n",
              "          if (!dataTable) return;\n",
              "\n",
              "          const docLinkHtml = 'Like what you see? Visit the ' +\n",
              "            '<a target=\"_blank\" href=https://colab.research.google.com/notebooks/data_table.ipynb>data table notebook</a>'\n",
              "            + ' to learn more about interactive tables.';\n",
              "          element.innerHTML = '';\n",
              "          dataTable['output_type'] = 'display_data';\n",
              "          await google.colab.output.renderOutput(dataTable, element);\n",
              "          const docLink = document.createElement('div');\n",
              "          docLink.innerHTML = docLinkHtml;\n",
              "          element.appendChild(docLink);\n",
              "        }\n",
              "      </script>\n",
              "    </div>\n",
              "  </div>\n",
              "  "
            ]
          },
          "metadata": {},
          "execution_count": 61
        }
      ]
    },
    {
      "cell_type": "code",
      "source": [
        "valid"
      ],
      "metadata": {
        "colab": {
          "base_uri": "https://localhost:8080/",
          "height": 423
        },
        "id": "jpXpmm-wGCFV",
        "outputId": "ea088286-108e-47d5-bd48-ea9c5c22ff58"
      },
      "execution_count": 63,
      "outputs": [
        {
          "output_type": "execute_result",
          "data": {
            "text/plain": [
              "                                                 X_val  y_val\n",
              "0    ['r', 'sure', 'understand', 'wine', 'good', 'i...      0\n",
              "1        ['wot', 'student', 'discount', 'get', 'book']      0\n",
              "2    ['boy', 'loved', 'gal', 'propsd', 'bt', 'mind'...      0\n",
              "3                               ['going', 'dinnermsg']      0\n",
              "4    ['pas', 'dis', 'contact', 'n', 'see', 'wat', '...      0\n",
              "..                                                 ...    ...\n",
              "441  ['anyways', 'go', 'gym', 'whatever', 'love', '...      0\n",
              "442  ['hi', 'dear', 'saw', 'dear', 'happy', 'batter...      0\n",
              "443     ['kyou', 'girl', 'waiting', 'reception', 'ah']      0\n",
              "444                            ['ever', 'one', 'foot']      0\n",
              "445      ['dear', 'got', 'ltgt', 'dollar', 'hi', 'hi']      0\n",
              "\n",
              "[446 rows x 2 columns]"
            ],
            "text/html": [
              "\n",
              "  <div id=\"df-3fe00592-26c8-43bc-9004-8f169efc3d07\">\n",
              "    <div class=\"colab-df-container\">\n",
              "      <div>\n",
              "<style scoped>\n",
              "    .dataframe tbody tr th:only-of-type {\n",
              "        vertical-align: middle;\n",
              "    }\n",
              "\n",
              "    .dataframe tbody tr th {\n",
              "        vertical-align: top;\n",
              "    }\n",
              "\n",
              "    .dataframe thead th {\n",
              "        text-align: right;\n",
              "    }\n",
              "</style>\n",
              "<table border=\"1\" class=\"dataframe\">\n",
              "  <thead>\n",
              "    <tr style=\"text-align: right;\">\n",
              "      <th></th>\n",
              "      <th>X_val</th>\n",
              "      <th>y_val</th>\n",
              "    </tr>\n",
              "  </thead>\n",
              "  <tbody>\n",
              "    <tr>\n",
              "      <th>0</th>\n",
              "      <td>['r', 'sure', 'understand', 'wine', 'good', 'i...</td>\n",
              "      <td>0</td>\n",
              "    </tr>\n",
              "    <tr>\n",
              "      <th>1</th>\n",
              "      <td>['wot', 'student', 'discount', 'get', 'book']</td>\n",
              "      <td>0</td>\n",
              "    </tr>\n",
              "    <tr>\n",
              "      <th>2</th>\n",
              "      <td>['boy', 'loved', 'gal', 'propsd', 'bt', 'mind'...</td>\n",
              "      <td>0</td>\n",
              "    </tr>\n",
              "    <tr>\n",
              "      <th>3</th>\n",
              "      <td>['going', 'dinnermsg']</td>\n",
              "      <td>0</td>\n",
              "    </tr>\n",
              "    <tr>\n",
              "      <th>4</th>\n",
              "      <td>['pas', 'dis', 'contact', 'n', 'see', 'wat', '...</td>\n",
              "      <td>0</td>\n",
              "    </tr>\n",
              "    <tr>\n",
              "      <th>...</th>\n",
              "      <td>...</td>\n",
              "      <td>...</td>\n",
              "    </tr>\n",
              "    <tr>\n",
              "      <th>441</th>\n",
              "      <td>['anyways', 'go', 'gym', 'whatever', 'love', '...</td>\n",
              "      <td>0</td>\n",
              "    </tr>\n",
              "    <tr>\n",
              "      <th>442</th>\n",
              "      <td>['hi', 'dear', 'saw', 'dear', 'happy', 'batter...</td>\n",
              "      <td>0</td>\n",
              "    </tr>\n",
              "    <tr>\n",
              "      <th>443</th>\n",
              "      <td>['kyou', 'girl', 'waiting', 'reception', 'ah']</td>\n",
              "      <td>0</td>\n",
              "    </tr>\n",
              "    <tr>\n",
              "      <th>444</th>\n",
              "      <td>['ever', 'one', 'foot']</td>\n",
              "      <td>0</td>\n",
              "    </tr>\n",
              "    <tr>\n",
              "      <th>445</th>\n",
              "      <td>['dear', 'got', 'ltgt', 'dollar', 'hi', 'hi']</td>\n",
              "      <td>0</td>\n",
              "    </tr>\n",
              "  </tbody>\n",
              "</table>\n",
              "<p>446 rows × 2 columns</p>\n",
              "</div>\n",
              "      <button class=\"colab-df-convert\" onclick=\"convertToInteractive('df-3fe00592-26c8-43bc-9004-8f169efc3d07')\"\n",
              "              title=\"Convert this dataframe to an interactive table.\"\n",
              "              style=\"display:none;\">\n",
              "        \n",
              "  <svg xmlns=\"http://www.w3.org/2000/svg\" height=\"24px\"viewBox=\"0 0 24 24\"\n",
              "       width=\"24px\">\n",
              "    <path d=\"M0 0h24v24H0V0z\" fill=\"none\"/>\n",
              "    <path d=\"M18.56 5.44l.94 2.06.94-2.06 2.06-.94-2.06-.94-.94-2.06-.94 2.06-2.06.94zm-11 1L8.5 8.5l.94-2.06 2.06-.94-2.06-.94L8.5 2.5l-.94 2.06-2.06.94zm10 10l.94 2.06.94-2.06 2.06-.94-2.06-.94-.94-2.06-.94 2.06-2.06.94z\"/><path d=\"M17.41 7.96l-1.37-1.37c-.4-.4-.92-.59-1.43-.59-.52 0-1.04.2-1.43.59L10.3 9.45l-7.72 7.72c-.78.78-.78 2.05 0 2.83L4 21.41c.39.39.9.59 1.41.59.51 0 1.02-.2 1.41-.59l7.78-7.78 2.81-2.81c.8-.78.8-2.07 0-2.86zM5.41 20L4 18.59l7.72-7.72 1.47 1.35L5.41 20z\"/>\n",
              "  </svg>\n",
              "      </button>\n",
              "      \n",
              "  <style>\n",
              "    .colab-df-container {\n",
              "      display:flex;\n",
              "      flex-wrap:wrap;\n",
              "      gap: 12px;\n",
              "    }\n",
              "\n",
              "    .colab-df-convert {\n",
              "      background-color: #E8F0FE;\n",
              "      border: none;\n",
              "      border-radius: 50%;\n",
              "      cursor: pointer;\n",
              "      display: none;\n",
              "      fill: #1967D2;\n",
              "      height: 32px;\n",
              "      padding: 0 0 0 0;\n",
              "      width: 32px;\n",
              "    }\n",
              "\n",
              "    .colab-df-convert:hover {\n",
              "      background-color: #E2EBFA;\n",
              "      box-shadow: 0px 1px 2px rgba(60, 64, 67, 0.3), 0px 1px 3px 1px rgba(60, 64, 67, 0.15);\n",
              "      fill: #174EA6;\n",
              "    }\n",
              "\n",
              "    [theme=dark] .colab-df-convert {\n",
              "      background-color: #3B4455;\n",
              "      fill: #D2E3FC;\n",
              "    }\n",
              "\n",
              "    [theme=dark] .colab-df-convert:hover {\n",
              "      background-color: #434B5C;\n",
              "      box-shadow: 0px 1px 3px 1px rgba(0, 0, 0, 0.15);\n",
              "      filter: drop-shadow(0px 1px 2px rgba(0, 0, 0, 0.3));\n",
              "      fill: #FFFFFF;\n",
              "    }\n",
              "  </style>\n",
              "\n",
              "      <script>\n",
              "        const buttonEl =\n",
              "          document.querySelector('#df-3fe00592-26c8-43bc-9004-8f169efc3d07 button.colab-df-convert');\n",
              "        buttonEl.style.display =\n",
              "          google.colab.kernel.accessAllowed ? 'block' : 'none';\n",
              "\n",
              "        async function convertToInteractive(key) {\n",
              "          const element = document.querySelector('#df-3fe00592-26c8-43bc-9004-8f169efc3d07');\n",
              "          const dataTable =\n",
              "            await google.colab.kernel.invokeFunction('convertToInteractive',\n",
              "                                                     [key], {});\n",
              "          if (!dataTable) return;\n",
              "\n",
              "          const docLinkHtml = 'Like what you see? Visit the ' +\n",
              "            '<a target=\"_blank\" href=https://colab.research.google.com/notebooks/data_table.ipynb>data table notebook</a>'\n",
              "            + ' to learn more about interactive tables.';\n",
              "          element.innerHTML = '';\n",
              "          dataTable['output_type'] = 'display_data';\n",
              "          await google.colab.output.renderOutput(dataTable, element);\n",
              "          const docLink = document.createElement('div');\n",
              "          docLink.innerHTML = docLinkHtml;\n",
              "          element.appendChild(docLink);\n",
              "        }\n",
              "      </script>\n",
              "    </div>\n",
              "  </div>\n",
              "  "
            ]
          },
          "metadata": {},
          "execution_count": 63
        }
      ]
    },
    {
      "cell_type": "code",
      "source": [
        "mlflow.sklearn.autolog()\n",
        "\n",
        "n_estimators = 200\n",
        "max_depth = 5\n",
        "clf = LogisticRegression(random_state=101)\n",
        "clf.fit(X_train, train.y_train)\n",
        "\n",
        "y_pred = clf.predict(X_val_tfidf)\n",
        "aucpr = eval_metrics(valid.y_val, y_pred)\n",
        "acc = accuracy_score(valid.y_val, y_pred)\n",
        "conf_1=confusion_matrix(valid.y_val, y_pred)\n",
        "\n",
        "with mlflow.start_run(run_name=\"logistic Regression\"):\n",
        "  \n",
        "    \n",
        "    mlflow.log_metric(\"accuracy\", acc)\n",
        "    mlflow.log_metric(\"AUCPR\",aucpr)\n",
        "    mlflow.log_dict(np.array(conf_1).tolist(), \"confusion_matrix.json\")\n",
        "    mlflow.sklearn.log_model(clf, \"model\")\n",
        "\n",
        "    print(\"\\nRandom Classifier Model (no_of_estimator={:f}, max_depth={:f}):\".format(n_estimators, max_depth))\n",
        "    print(f\"Accuracy: {acc}\")\n",
        "    print(f\"AUCPR: {aucpr} \")\n",
        "    print(f\"Confusion Matrix: {conf_1} \\n \\n\")\n",
        "    \n",
        "\n",
        "    tracking_url_type_store = urlparse(mlflow.get_tracking_uri()).scheme\n",
        "    mlflow.sklearn.log_model(\n",
        "        sk_model=clf,\n",
        "        artifact_path=\"sklearn-model\",\n",
        "        registered_model_name=\"Logistic Regression\"\n",
        "    )\n",
        "    if tracking_url_type_store != \"file\":\n",
        "      mlflow.sklearn.log_model(clf, \"model\", registered_model_name=\"Logistic Regression\")\n",
        "    else:\n",
        "      mlflow.sklearn.log_model(clf, \"model\")"
      ],
      "metadata": {
        "colab": {
          "base_uri": "https://localhost:8080/"
        },
        "id": "9ODFXYjTE9aJ",
        "outputId": "e0a5f661-a880-4734-9738-149af86917f5"
      },
      "execution_count": 64,
      "outputs": [
        {
          "output_type": "stream",
          "name": "stderr",
          "text": [
            "2023/04/04 21:07:21 WARNING mlflow.utils.autologging_utils: You are using an unsupported version of sklearn. If you encounter errors during autologging, try upgrading / downgrading sklearn to a supported version, or try upgrading MLflow.\n",
            "2023/04/04 21:07:21 INFO mlflow.utils.autologging_utils: Created MLflow autologging run with ID '3362332e6f894e8880b3a4c6d10bf95f', which will track hyperparameters, performance metrics, model artifacts, and lineage information for the current sklearn workflow\n"
          ]
        },
        {
          "output_type": "stream",
          "name": "stdout",
          "text": [
            "\n",
            "Random Classifier Model (no_of_estimator=200.000000, max_depth=5.000000):\n",
            "Accuracy: 0.8811659192825112\n",
            "AUCPR: 0.5594170403587444 \n",
            "Confusion Matrix: [[393   0]\n",
            " [ 53   0]] \n",
            " \n",
            "\n"
          ]
        },
        {
          "output_type": "stream",
          "name": "stderr",
          "text": [
            "Successfully registered model 'Logistic Regression'.\n",
            "2023/04/04 21:07:29 INFO mlflow.tracking._model_registry.client: Waiting up to 300 seconds for model version to finish creation.                     Model name: Logistic Regression, version 1\n",
            "Created version '1' of model 'Logistic Regression'.\n"
          ]
        }
      ]
    },
    {
      "cell_type": "code",
      "source": [
        "mlflow.tracking.MlflowClient().get_model_version(\"Logistic Regression\",\"1\")"
      ],
      "metadata": {
        "colab": {
          "base_uri": "https://localhost:8080/"
        },
        "id": "7tSKMTqFFAD3",
        "outputId": "5c68330c-5884-48f9-c89b-7df048facda7"
      },
      "execution_count": 65,
      "outputs": [
        {
          "output_type": "execute_result",
          "data": {
            "text/plain": [
              "<ModelVersion: creation_timestamp=1680642449352, current_stage='None', description=None, last_updated_timestamp=1680642449352, name='Logistic Regression', run_id='c457d56a40ae4aefb8dfe5d368a0fcc1', run_link=None, source='file:///content/mlruns/0/c457d56a40ae4aefb8dfe5d368a0fcc1/artifacts/sklearn-model', status='READY', status_message=None, tags={}, user_id=None, version=1>"
            ]
          },
          "metadata": {},
          "execution_count": 65
        }
      ]
    },
    {
      "cell_type": "markdown",
      "source": [
        "## Model 2 :multinomial Naive Bayes"
      ],
      "metadata": {
        "id": "kMo3RIOvGQsu"
      }
    },
    {
      "cell_type": "code",
      "source": [
        "spam_detector_MNB = MultinomialNB().fit(X_train_tfidf, train.y_train)"
      ],
      "metadata": {
        "id": "qQy7gEcEIJLc"
      },
      "execution_count": null,
      "outputs": []
    },
    {
      "cell_type": "code",
      "source": [
        "mlflow.sklearn.autolog()\n",
        "\n",
        "clf = MultinomialNB()\n",
        "clf.fit(X_train_tfidf, train.y_train.values)\n",
        "#spam_detector_MNB = MultinomialNB().fit(X_train_tfidf, train.y_train)\n",
        "y_pred = clf.predict(X_val_tfidf)\n",
        "aucpr = eval_metrics(valid.y_val, y_pred)\n",
        "acc = accuracy_score(valid.y_val, y_pred)\n",
        "conf_2=confusion_matrix(valid.y_val, y_pred)\n",
        "\n",
        "with mlflow.start_run(run_name=\"Multinomial Naive Bayes\"):\n",
        "\n",
        "    mlflow.log_metric(\"accuracy\", acc)\n",
        "    mlflow.log_metric(\"AUCPR\",aucpr)\n",
        "    mlflow.sklearn.log_model(clf, \"model\")\n",
        "    mlflow.log_dict(np.array(conf_2).tolist(), \"confusion_matrix.json\")\n",
        "\n",
        "    print(\"\\nMultinomial Naive Bayes\")\n",
        "    print(f\"Accuracy: {acc}\")\n",
        "    print(f\"AUCPR: {aucpr}\")\n",
        "    print(f\"Confusion Matrix: {conf_2} \\n\\n\")\n",
        "    \n",
        "\n",
        "    tracking_url_type_store = urlparse(mlflow.get_tracking_uri()).scheme\n",
        "    mlflow.sklearn.log_model(\n",
        "        sk_model=clf,\n",
        "        artifact_path=\"sklearn-model\",\n",
        "        registered_model_name=\"gaussian-nb-model\"\n",
        "    )\n",
        "    if tracking_url_type_store != \"file\":\n",
        "      mlflow.sklearn.log_model(clf, \"model\", registered_model_name=\"gaussian-nb-model\")\n",
        "    else:\n",
        "      mlflow.sklearn.log_model(clf, \"model\")"
      ],
      "metadata": {
        "colab": {
          "base_uri": "https://localhost:8080/"
        },
        "id": "TFq-UbfsGOAk",
        "outputId": "57bb9000-91c3-40bd-ab91-61610feeb1ec"
      },
      "execution_count": 83,
      "outputs": [
        {
          "output_type": "stream",
          "name": "stderr",
          "text": [
            "2023/04/04 21:18:23 WARNING mlflow.utils.autologging_utils: You are using an unsupported version of sklearn. If you encounter errors during autologging, try upgrading / downgrading sklearn to a supported version, or try upgrading MLflow.\n",
            "2023/04/04 21:18:24 INFO mlflow.utils.autologging_utils: Created MLflow autologging run with ID '8f466de21fa940c4953578959958dbdf', which will track hyperparameters, performance metrics, model artifacts, and lineage information for the current sklearn workflow\n"
          ]
        },
        {
          "output_type": "stream",
          "name": "stdout",
          "text": [
            "\n",
            "Multinomial Naive Bayes\n",
            "Accuracy: 0.968609865470852\n",
            "AUCPR: 0.8836195955664607\n",
            "Confusion Matrix: [[393   0]\n",
            " [ 14  39]] \n",
            "\n",
            "\n"
          ]
        },
        {
          "output_type": "stream",
          "name": "stderr",
          "text": [
            "Successfully registered model 'gaussian-nb-model'.\n",
            "2023/04/04 21:18:34 INFO mlflow.tracking._model_registry.client: Waiting up to 300 seconds for model version to finish creation.                     Model name: gaussian-nb-model, version 1\n",
            "Created version '1' of model 'gaussian-nb-model'.\n"
          ]
        }
      ]
    },
    {
      "cell_type": "markdown",
      "source": [
        "## Model 03 : multilayer perceptron"
      ],
      "metadata": {
        "id": "aWx-ztVlIxII"
      }
    },
    {
      "cell_type": "code",
      "source": [
        "mlflow.sklearn.autolog()\n",
        "\n",
        "clf = MLPClassifier(random_state=101,learning_rate='adaptive')\n",
        "clf.fit(X_train_tfidf, train.y_train.values)\n",
        "\n",
        "y_pred = clf.predict(X_val_tfidf)\n",
        "aucpr = eval_metrics(valid.y_val, y_pred)\n",
        "acc = accuracy_score(valid.y_val, y_pred)\n",
        "conf_3=confusion_matrix(valid.y_val, y_pred)\n",
        "\n",
        "with mlflow.start_run(run_name=\"Multilayer Perceptron\"):\n",
        "\n",
        "    mlflow.log_metric(\"accuracy\", acc)\n",
        "    mlflow.log_metric(\"AUCPR\",aucpr)\n",
        "    mlflow.sklearn.log_model(clf, \"model\")\n",
        "    \n",
        "    print(\"\\nMultilayer Perceptron\")\n",
        "    print(f\"Accuracy: {acc}\")\n",
        "    print(f\"AUCPR: {aucpr}\")\n",
        "    print(f\"Confusion Matrix {conf_3} \\n\\n\")\n",
        "    \n",
        "\n",
        "    tracking_url_type_store = urlparse(mlflow.get_tracking_uri()).scheme\n",
        "    mlflow.sklearn.log_model(\n",
        "        sk_model=clf,\n",
        "        artifact_path=\"sklearn-model\",\n",
        "        registered_model_name=\"multilayer-perceptron-model\"\n",
        "    )\n",
        "    if tracking_url_type_store != \"file\":\n",
        "      mlflow.sklearn.log_model(clf, \"model\", registered_model_name=\"multilayer-perceptron-model\")\n",
        "    else:\n",
        "      mlflow.sklearn.log_model(clf, \"model\")"
      ],
      "metadata": {
        "colab": {
          "base_uri": "https://localhost:8080/"
        },
        "id": "oGCmB7xGGT5B",
        "outputId": "1f29c79f-8b96-49bf-93ef-8f924f433ca1"
      },
      "execution_count": 85,
      "outputs": [
        {
          "output_type": "stream",
          "name": "stderr",
          "text": [
            "2023/04/04 21:21:16 WARNING mlflow.utils.autologging_utils: You are using an unsupported version of sklearn. If you encounter errors during autologging, try upgrading / downgrading sklearn to a supported version, or try upgrading MLflow.\n",
            "2023/04/04 21:21:16 INFO mlflow.utils.autologging_utils: Created MLflow autologging run with ID '3e636eba7a7d4f99aa82a4b0764d7302', which will track hyperparameters, performance metrics, model artifacts, and lineage information for the current sklearn workflow\n"
          ]
        },
        {
          "output_type": "stream",
          "name": "stdout",
          "text": [
            "\n",
            "Multilayer Perceptron\n",
            "Accuracy: 0.9887892376681614\n",
            "AUCPR: 0.9584355698451645\n",
            "Confusion Matrix [[393   0]\n",
            " [  5  48]] \n",
            "\n",
            "\n"
          ]
        },
        {
          "output_type": "stream",
          "name": "stderr",
          "text": [
            "Successfully registered model 'multilayer-perceptron-model'.\n",
            "2023/04/04 21:21:49 INFO mlflow.tracking._model_registry.client: Waiting up to 300 seconds for model version to finish creation.                     Model name: multilayer-perceptron-model, version 1\n",
            "Created version '1' of model 'multilayer-perceptron-model'.\n"
          ]
        }
      ]
    },
    {
      "cell_type": "code",
      "source": [
        "mlflow.tracking.MlflowClient().get_model_version(\"multilayer-perceptron-model\",\"1\")"
      ],
      "metadata": {
        "colab": {
          "base_uri": "https://localhost:8080/"
        },
        "id": "wnF-3PAUGq-V",
        "outputId": "ef77f21d-f2c9-4829-fe2d-ecceab088864"
      },
      "execution_count": 86,
      "outputs": [
        {
          "output_type": "execute_result",
          "data": {
            "text/plain": [
              "<ModelVersion: creation_timestamp=1680643309796, current_stage='None', description=None, last_updated_timestamp=1680643309796, name='multilayer-perceptron-model', run_id='86527b21424f4fdda6f873cee19d9bf6', run_link=None, source='file:///content/mlruns/0/86527b21424f4fdda6f873cee19d9bf6/artifacts/sklearn-model', status='READY', status_message=None, tags={}, user_id=None, version=1>"
            ]
          },
          "metadata": {},
          "execution_count": 86
        }
      ]
    },
    {
      "cell_type": "code",
      "source": [],
      "metadata": {
        "id": "ERKMvkfXJe0f"
      },
      "execution_count": null,
      "outputs": []
    }
  ]
}