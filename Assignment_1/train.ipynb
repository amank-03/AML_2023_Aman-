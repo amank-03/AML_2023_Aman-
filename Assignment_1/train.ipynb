{
 "cells": [
  {
   "cell_type": "markdown",
   "metadata": {},
   "source": [
    "# Assignment 1: AML\n",
    "\n",
    "## train"
   ]
  },
  {
   "cell_type": "code",
   "execution_count": 5,
   "metadata": {},
   "outputs": [],
   "source": [
    "## Imports \n",
    "\n",
    "import pandas as pd\n",
    "%matplotlib inline\n",
    "import matplotlib.pyplot as plt\n",
    "import csv\n",
    "#from textblob import TextBlob\n",
    "import pandas\n",
    "import sklearn\n",
    "#import cPickle\n",
    "import numpy as np\n",
    "from sklearn.feature_extraction.text import CountVectorizer, TfidfTransformer\n",
    "from sklearn.naive_bayes import MultinomialNB\n",
    "from sklearn.svm import SVC, LinearSVC\n",
    "from sklearn.metrics import classification_report, f1_score, accuracy_score, confusion_matrix\n",
    "from sklearn.pipeline import Pipeline\n",
    "#from sklearn.grid_search import GridSearchCV\n",
    "from sklearn.model_selection import train_test_split\n",
    "from sklearn.tree import DecisionTreeClassifier \n",
    "#from sklearn.learning_curve import learning_curve"
   ]
  },
  {
   "cell_type": "code",
   "execution_count": 6,
   "metadata": {},
   "outputs": [],
   "source": [
    "## Loading files\n",
    "\n",
    "train=pd.read_csv(\"train.csv\")\n",
    "val=pd.read_csv(\"validation.csv\")\n",
    "test=pd.read_csv(\"test.csv\")"
   ]
  },
  {
   "cell_type": "code",
   "execution_count": 9,
   "metadata": {},
   "outputs": [
    {
     "data": {
      "text/plain": [
       "'!\"#$%&\\'()*+,-./:;<=>?@[\\\\]^_`{|}~'"
      ]
     },
     "execution_count": 9,
     "metadata": {},
     "output_type": "execute_result"
    }
   ],
   "source": [
    "import re\n",
    "import contractions\n",
    "from nltk.tokenize import RegexpTokenizer\n",
    "from nltk.corpus import stopwords\n",
    "import string \n",
    "\n",
    "string.punctuation"
   ]
  },
  {
   "cell_type": "code",
   "execution_count": 2,
   "metadata": {},
   "outputs": [],
   "source": [
    "## Preprocessing steps\n",
    "\n",
    "def preprocessing(sentence):\n",
    "\n",
    "    punct = r\"[!\\\"#\\$%&\\'\\(\\)\\*\\+,-\\./:;<=>\\?@\\[\\\\\\]\\^_`{\\|}~]\"\n",
    "    tokenize = RegexpTokenizer(r'\\w+')\n",
    "  \n",
    "    sentence = re.sub(punct, \"\", sentence)\n",
    "    sentence = contractions.fix(sentence)\n",
    "    sentence = re.sub(r'https?', \"\", sentence) \n",
    "    sentence = re.sub(r'[0-9]', '', sentence)\n",
    "    sentence = sentence.lower()\n",
    "    sentence = tokenize.tokenize(sentence)\n",
    "\n",
    "    return(sentence)"
   ]
  },
  {
   "cell_type": "code",
   "execution_count": 10,
   "metadata": {},
   "outputs": [],
   "source": [
    "count_vectorize = CountVectorizer(analyzer=preprocessing) \n",
    "vectorized = count_vectorize.fit_transform(train.X_train)"
   ]
  },
  {
   "cell_type": "code",
   "execution_count": 12,
   "metadata": {},
   "outputs": [
    {
     "name": "stdout",
     "output_type": "stream",
     "text": [
      "  (0, 2078)\t1\n",
      "  (0, 2774)\t1\n",
      "  (0, 4360)\t1\n",
      "  (0, 4861)\t1\n",
      "  (0, 7067)\t1\n",
      "(1, 7117)\n"
     ]
    }
   ],
   "source": [
    "message = train[\"X_train\"][4]\n",
    "message4 = count_vectorize.transform([message])\n",
    "\n",
    "print(message4)\n",
    "print(message4.shape)"
   ]
  },
  {
   "cell_type": "code",
   "execution_count": 13,
   "metadata": {},
   "outputs": [
    {
     "name": "stdout",
     "output_type": "stream",
     "text": [
      "  (0, 102)\t1\n",
      "  (0, 560)\t1\n",
      "  (0, 1314)\t1\n",
      "  (0, 2346)\t1\n",
      "  (0, 2464)\t1\n",
      "  (0, 2883)\t1\n",
      "  (0, 2992)\t1\n",
      "  (0, 3150)\t1\n",
      "  (0, 4314)\t1\n",
      "  (0, 4926)\t1\n",
      "  (0, 5173)\t1\n",
      "  (0, 6241)\t1\n",
      "  (0, 6259)\t1\n",
      "  (0, 6312)\t1\n",
      "  (0, 6900)\t1\n",
      "  (0, 7048)\t1\n",
      "(1, 7117)\n"
     ]
    }
   ],
   "source": [
    "message = test[\"X_test\"][4]\n",
    "message4 = count_vectorize.transform([message])\n",
    "\n",
    "print(message4)\n",
    "print(message4.shape)"
   ]
  },
  {
   "cell_type": "code",
   "execution_count": 14,
   "metadata": {},
   "outputs": [],
   "source": [
    "bag_of_words=count_vectorize.vocabulary_"
   ]
  },
  {
   "cell_type": "code",
   "execution_count": 16,
   "metadata": {},
   "outputs": [
    {
     "data": {
      "text/plain": [
       "7117"
      ]
     },
     "execution_count": 16,
     "metadata": {},
     "output_type": "execute_result"
    }
   ],
   "source": [
    "len(bag_of_words)"
   ]
  },
  {
   "cell_type": "code",
   "execution_count": 17,
   "metadata": {},
   "outputs": [],
   "source": [
    "X_train= count_vectorize.transform(train.X_train)\n",
    "X_val = count_vectorize.transform(val.X_val)\n",
    "X_test= count_vectorize.transform(test.X_test)"
   ]
  },
  {
   "cell_type": "code",
   "execution_count": 19,
   "metadata": {},
   "outputs": [
    {
     "data": {
      "text/plain": [
       "<4013x7117 sparse matrix of type '<class 'numpy.int64'>'\n",
       "\twith 55095 stored elements in Compressed Sparse Row format>"
      ]
     },
     "execution_count": 19,
     "metadata": {},
     "output_type": "execute_result"
    }
   ],
   "source": [
    "X_train"
   ]
  },
  {
   "cell_type": "code",
   "execution_count": 20,
   "metadata": {},
   "outputs": [],
   "source": [
    "tfidf_transformer = TfidfTransformer().fit(X_train)\n",
    "X_train_tfidf = tfidf_transformer.transform(X_train)"
   ]
  },
  {
   "cell_type": "code",
   "execution_count": 21,
   "metadata": {},
   "outputs": [],
   "source": [
    "X_val_tfidf=tfidf_transformer.transform(X_val)\n",
    "X_test_tfidf=tfidf_transformer.transform(X_test)"
   ]
  },
  {
   "cell_type": "code",
   "execution_count": 22,
   "metadata": {},
   "outputs": [
    {
     "data": {
      "text/plain": [
       "<446x7117 sparse matrix of type '<class 'numpy.float64'>'\n",
       "\twith 5964 stored elements in Compressed Sparse Row format>"
      ]
     },
     "execution_count": 22,
     "metadata": {},
     "output_type": "execute_result"
    }
   ],
   "source": [
    "X_val_tfidf"
   ]
  },
  {
   "cell_type": "markdown",
   "metadata": {},
   "source": [
    "## Fitting the model\n",
    "\n",
    "### MultinomialNB"
   ]
  },
  {
   "cell_type": "code",
   "execution_count": 23,
   "metadata": {},
   "outputs": [],
   "source": [
    "spam_detector_MNB = MultinomialNB().fit(X_train_tfidf, train.y_train)"
   ]
  },
  {
   "cell_type": "code",
   "execution_count": 27,
   "metadata": {},
   "outputs": [
    {
     "data": {
      "text/plain": [
       "0.9611263393969599"
      ]
     },
     "execution_count": 27,
     "metadata": {},
     "output_type": "execute_result"
    }
   ],
   "source": [
    "y_pred_train = spam_detector_MNB.predict(X_train_tfidf)\n",
    "accuracy_score(train.y_train, y_pred_train)"
   ]
  },
  {
   "cell_type": "code",
   "execution_count": 28,
   "metadata": {},
   "outputs": [
    {
     "data": {
      "text/plain": [
       "0.9573991031390134"
      ]
     },
     "execution_count": 28,
     "metadata": {},
     "output_type": "execute_result"
    }
   ],
   "source": [
    "y_pred_val = spam_detector_MNB.predict(X_val_tfidf)\n",
    "accuracy_score(val.y_val, y_pred_val)"
   ]
  },
  {
   "cell_type": "code",
   "execution_count": 79,
   "metadata": {},
   "outputs": [
    {
     "data": {
      "text/plain": [
       "0.9417040358744395"
      ]
     },
     "execution_count": 79,
     "metadata": {},
     "output_type": "execute_result"
    }
   ],
   "source": [
    "# Since the accuracy of train set and validation set is close we can proceed further to predict test set \n",
    "\n",
    "y_pred_test = spam_detector_MNB.predict(X_test_tfidf)\n",
    "test_score_MNB = accuracy_score(test.y_test, y_pred_test)\n",
    "test_score_MNB"
   ]
  },
  {
   "cell_type": "code",
   "execution_count": 34,
   "metadata": {},
   "outputs": [
    {
     "data": {
      "image/png": "[encoded data removed]",
      "text/plain": [
       "<Figure size 540x540 with 1 Axes>"
      ]
     },
     "metadata": {
      "needs_background": "light"
     },
     "output_type": "display_data"
    }
   ],
   "source": [
    "conf_matrix = confusion_matrix(y_true = test.y_test, y_pred=y_pred_test)\n",
    "#\n",
    "# Print the confusion matrix using Matplotlib\n",
    "#\n",
    "fig, ax = plt.subplots(figsize=(7.5, 7.5))\n",
    "ax.matshow(conf_matrix, cmap=plt.cm.Blues, alpha=0.3)\n",
    "for i in range(conf_matrix.shape[0]):\n",
    "    for j in range(conf_matrix.shape[1]):\n",
    "        ax.text(x=j, y=i,s=conf_matrix[i, j], va='center', ha='center', size='xx-large')\n",
    " \n",
    "plt.xlabel('Predictions', fontsize=18)\n",
    "plt.ylabel('Actuals', fontsize=18)\n",
    "plt.title('Confusion Matrix', fontsize=18)\n",
    "plt.show()"
   ]
  },
  {
   "cell_type": "code",
   "execution_count": 35,
   "metadata": {},
   "outputs": [
    {
     "name": "stdout",
     "output_type": "stream",
     "text": [
      "              precision    recall  f1-score   support\n",
      "\n",
      "         ham       0.94      1.00      0.97       950\n",
      "        spam       1.00      0.61      0.75       165\n",
      "\n",
      "    accuracy                           0.94      1115\n",
      "   macro avg       0.97      0.80      0.86      1115\n",
      "weighted avg       0.95      0.94      0.94      1115\n",
      "\n"
     ]
    }
   ],
   "source": [
    "print(classification_report(test.y_test, y_pred_test))"
   ]
  },
  {
   "cell_type": "code",
   "execution_count": 37,
   "metadata": {},
   "outputs": [],
   "source": [
    "pipeline_MNB = Pipeline([\n",
    "    ('bow', CountVectorizer(analyzer= preprocessing)),  # strings to token integer counts\n",
    "    ('tfidf', TfidfTransformer()),  # integer counts to weighted TF-IDF scores\n",
    "    ('classifier', MultinomialNB()),  # train on TF-IDF vectors w/ Naive Bayes classifier\n",
    "])"
   ]
  },
  {
   "cell_type": "code",
   "execution_count": 40,
   "metadata": {},
   "outputs": [],
   "source": [
    "from sklearn.model_selection import cross_val_score"
   ]
  },
  {
   "cell_type": "code",
   "execution_count": 41,
   "metadata": {},
   "outputs": [
    {
     "name": "stdout",
     "output_type": "stream",
     "text": [
      "[0.93781095 0.93781095 0.94029851 0.96009975 0.93017456 0.95012469\n",
      " 0.94763092 0.95760599 0.94763092 0.96758105]\n"
     ]
    }
   ],
   "source": [
    "scores = cross_val_score(pipeline,  # steps to convert raw messages into models\n",
    "                         train.X_train,  # training data\n",
    "                         train.y_train,  # training labels\n",
    "                         cv=10,  # split data randomly into 10 parts: 9 for training, 1 for scoring\n",
    "                         scoring='accuracy',  # which scoring metric?\n",
    "                         n_jobs=-1,  # -1 = use all cores = faster\n",
    "                         )\n",
    "print(scores)"
   ]
  },
  {
   "cell_type": "code",
   "execution_count": 44,
   "metadata": {},
   "outputs": [
    {
     "name": "stdout",
     "output_type": "stream",
     "text": [
      "0.9476768278309203\n"
     ]
    }
   ],
   "source": [
    "avg_score = sum(scores)/len(scores)\n",
    "\n",
    "print(avg_score)"
   ]
  },
  {
   "cell_type": "code",
   "execution_count": 45,
   "metadata": {},
   "outputs": [
    {
     "name": "stdout",
     "output_type": "stream",
     "text": [
      "0.011002415675866666\n"
     ]
    }
   ],
   "source": [
    "print(scores.std())"
   ]
  },
  {
   "cell_type": "markdown",
   "metadata": {},
   "source": [
    "### SVM"
   ]
  },
  {
   "cell_type": "code",
   "execution_count": 46,
   "metadata": {},
   "outputs": [],
   "source": [
    "pipeline_SVM = Pipeline([\n",
    "    ('bow', CountVectorizer(analyzer= preprocessing)),  # strings to token integer counts\n",
    "    ('tfidf', TfidfTransformer()),  # integer counts to weighted TF-IDF scores\n",
    "    ('classifier', SVC(kernel='rbf')),  # train on TF-IDF vectors w/ Naive Bayes classifier\n",
    "])"
   ]
  },
  {
   "cell_type": "code",
   "execution_count": 55,
   "metadata": {},
   "outputs": [
    {
     "name": "stdout",
     "output_type": "stream",
     "text": [
      "[0.97014925 0.97512438 0.96766169 0.9925187  0.96758105 0.98753117\n",
      " 0.98004988 0.97755611 0.98753117 0.99501247]\n"
     ]
    }
   ],
   "source": [
    "scores_SVM = cross_val_score(pipeline_SVM,  # steps to convert raw messages into models\n",
    "                         train.X_train,  # training data\n",
    "                         train.y_train,  # training labels\n",
    "                         cv=10,  # split data randomly into 10 parts: 9 for training, 1 for scoring\n",
    "                         scoring='accuracy',  # which scoring metric?\n",
    "                         n_jobs=-1,  # -1 = use all cores = faster\n",
    "                         )\n",
    "print(scores_SVM)"
   ]
  },
  {
   "cell_type": "code",
   "execution_count": 58,
   "metadata": {},
   "outputs": [
    {
     "data": {
      "text/plain": [
       "(0.9800715872011514, 0.009637044293821862)"
      ]
     },
     "execution_count": 58,
     "metadata": {},
     "output_type": "execute_result"
    }
   ],
   "source": [
    "scores_SVM.mean() , scores_SVM.std()"
   ]
  },
  {
   "cell_type": "code",
   "execution_count": 52,
   "metadata": {},
   "outputs": [],
   "source": [
    "spam_detector_SVC = SVC().fit(X_train_tfidf, train.y_train)"
   ]
  },
  {
   "cell_type": "code",
   "execution_count": 53,
   "metadata": {},
   "outputs": [
    {
     "data": {
      "text/plain": [
       "0.9775784753363229"
      ]
     },
     "execution_count": 53,
     "metadata": {},
     "output_type": "execute_result"
    }
   ],
   "source": [
    "y_pred_val = spam_detector_SVC.predict(X_val_tfidf)\n",
    "accuracy_score(val.y_val, y_pred_val)"
   ]
  },
  {
   "cell_type": "code",
   "execution_count": 78,
   "metadata": {},
   "outputs": [
    {
     "data": {
      "text/plain": [
       "0.9739910313901345"
      ]
     },
     "execution_count": 78,
     "metadata": {},
     "output_type": "execute_result"
    }
   ],
   "source": [
    "# Since the accuracy of train set and validation set is close we can proceed further to predict test set \n",
    "\n",
    "y_pred_test = spam_detector_SVC.predict(X_test_tfidf)\n",
    "test_score_SVM = accuracy_score(test.y_test, y_pred_test)\n",
    "test_score_SVM"
   ]
  },
  {
   "cell_type": "code",
   "execution_count": 59,
   "metadata": {},
   "outputs": [
    {
     "name": "stdout",
     "output_type": "stream",
     "text": [
      "              precision    recall  f1-score   support\n",
      "\n",
      "         ham       0.97      1.00      0.98       950\n",
      "        spam       0.99      0.83      0.90       165\n",
      "\n",
      "    accuracy                           0.97      1115\n",
      "   macro avg       0.98      0.91      0.94      1115\n",
      "weighted avg       0.97      0.97      0.97      1115\n",
      "\n"
     ]
    }
   ],
   "source": [
    "print(classification_report(test.y_test, y_pred_test))"
   ]
  },
  {
   "cell_type": "markdown",
   "metadata": {},
   "source": [
    "### KNN"
   ]
  },
  {
   "cell_type": "code",
   "execution_count": 60,
   "metadata": {},
   "outputs": [],
   "source": [
    "### KNN\n",
    "from sklearn.neighbors import KNeighborsClassifier"
   ]
  },
  {
   "cell_type": "code",
   "execution_count": 69,
   "metadata": {},
   "outputs": [
    {
     "name": "stdout",
     "output_type": "stream",
     "text": [
      "0.9521554946424121\n",
      "0.9521554946424121\n",
      "0.9269872913032644\n",
      "0.9269872913032644\n"
     ]
    }
   ],
   "source": [
    "## Let's try on different k_values \n",
    "for i in range(2,6):\n",
    "    k = i\n",
    "    spam_detector_KNN = KNeighborsClassifier(n_neighbors = k).fit(X_train_tfidf, train.y_train)\n",
    "    y_pred_train = spam_detector_KNN.predict(X_train_tfidf)\n",
    "    print(accuracy_score(train.y_train, y_pred_train))\n",
    "    "
   ]
  },
  {
   "cell_type": "code",
   "execution_count": 66,
   "metadata": {},
   "outputs": [],
   "source": [
    "# So, let's make our model at k=2"
   ]
  },
  {
   "cell_type": "code",
   "execution_count": 67,
   "metadata": {},
   "outputs": [],
   "source": [
    "\n",
    "pipeline_KNN = Pipeline([\n",
    "    ('bow', CountVectorizer(analyzer= preprocessing)),  # strings to token integer counts\n",
    "    ('tfidf', TfidfTransformer()),  # integer counts to weighted TF-IDF scores\n",
    "    ('classifier', KNeighborsClassifier(n_neighbors = k)),  # train on TF-IDF vectors w/ Naive Bayes classifier\n",
    "])"
   ]
  },
  {
   "cell_type": "code",
   "execution_count": 70,
   "metadata": {},
   "outputs": [
    {
     "name": "stdout",
     "output_type": "stream",
     "text": [
      "[0.89800995 0.95771144 0.91293532 0.92518703 0.94014963 0.96009975\n",
      " 0.91022444 0.9201995  0.89276808 0.91770574]\n"
     ]
    }
   ],
   "source": [
    "k = 2\n",
    " \n",
    "scores_KNN = cross_val_score(pipeline_KNN,  # steps to convert raw messages into models\n",
    "                         train.X_train,  # training data\n",
    "                         train.y_train,  # training labels\n",
    "                         cv=10,  # split data randomly into 10 parts: 9 for training, 1 for scoring\n",
    "                         scoring='accuracy',  # which scoring metric?\n",
    "                         n_jobs=-1,  # -1 = use all cores = faster\n",
    "                         )\n",
    "print(scores_KNN)"
   ]
  },
  {
   "cell_type": "code",
   "execution_count": 76,
   "metadata": {},
   "outputs": [
    {
     "data": {
      "text/plain": [
       "(0.923499088100644, 0.021717582596224024)"
      ]
     },
     "execution_count": 76,
     "metadata": {},
     "output_type": "execute_result"
    }
   ],
   "source": [
    "scores_KNN.mean() , scores_KNN.std()"
   ]
  },
  {
   "cell_type": "code",
   "execution_count": 71,
   "metadata": {},
   "outputs": [],
   "source": [
    "spam_detector_KNN = KNeighborsClassifier(n_neighbors = 2).fit(X_train_tfidf, train.y_train)"
   ]
  },
  {
   "cell_type": "code",
   "execution_count": 73,
   "metadata": {},
   "outputs": [
    {
     "data": {
      "text/plain": [
       "0.9260089686098655"
      ]
     },
     "execution_count": 73,
     "metadata": {},
     "output_type": "execute_result"
    }
   ],
   "source": [
    "y_pred_val = spam_detector_KNN.predict(X_val_tfidf)\n",
    "accuracy_score(val.y_val, y_pred_val)"
   ]
  },
  {
   "cell_type": "code",
   "execution_count": 77,
   "metadata": {},
   "outputs": [
    {
     "data": {
      "text/plain": [
       "0.9165919282511211"
      ]
     },
     "execution_count": 77,
     "metadata": {},
     "output_type": "execute_result"
    }
   ],
   "source": [
    "# Since the accuracy of train set and validation set is close we can proceed further to predict test set \n",
    "\n",
    "y_pred_test = spam_detector_KNN.predict(X_test_tfidf)\n",
    "test_score_KNN = accuracy_score(test.y_test, y_pred_test)\n",
    "test_score_KNN"
   ]
  },
  {
   "cell_type": "code",
   "execution_count": 84,
   "metadata": {},
   "outputs": [
    {
     "name": "stdout",
     "output_type": "stream",
     "text": [
      "test score for multinomialNB is  0.9417040358744395 \n",
      "\n",
      "test score for SVM is  0.9739910313901345 \n",
      "\n",
      "test score for KNN is  0.9165919282511211 \n",
      "\n"
     ]
    }
   ],
   "source": [
    "print(f\"test score for multinomialNB is  {test_score_MNB} \\n\" )\n",
    "print(f\"test score for SVM is  {test_score_SVM} \\n\")\n",
    "print(f\"test score for KNN is  {test_score_KNN} \\n\")"
   ]
  },
  {
   "cell_type": "markdown",
   "metadata": {},
   "source": [
    "### Hence SVM is the best model"
   ]
  },
  {
   "cell_type": "code",
   "execution_count": null,
   "metadata": {},
   "outputs": [],
   "source": []
  }
 ],
 "metadata": {
  "kernelspec": {
   "display_name": "Python 3",
   "language": "python",
   "name": "python3"
  },
  "language_info": {
   "codemirror_mode": {
    "name": "ipython",
    "version": 3
   },
   "file_extension": ".py",
   "mimetype": "text/x-python",
   "name": "python",
   "nbconvert_exporter": "python",
   "pygments_lexer": "ipython3",
   "version": "3.8.5"
  }
 },
 "nbformat": 4,
 "nbformat_minor": 4
}
