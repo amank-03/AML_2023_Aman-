{
  "metadata": {
    "kernelspec": {
      "name": "python3",
      "display_name": "Python 3",
      "language": "python"
    },
    "language_info": {
      "name": "python",
      "version": "3.7.12",
      "mimetype": "text/x-python",
      "codemirror_mode": {
        "name": "ipython",
        "version": 3
      },
      "pygments_lexer": "ipython3",
      "nbconvert_exporter": "python",
      "file_extension": ".py"
    },
    "colab": {
      "provenance": []
    },
    "accelerator": "GPU",
    "gpuClass": "standard"
  },
  "nbformat_minor": 0,
  "nbformat": 4,
  "cells": [
    {
      "cell_type": "markdown",
      "source": [
        "#### Importing the required packages"
      ],
      "metadata": {
        "id": "PmkPdw3gn60c"
      }
    },
    {
      "cell_type": "code",
      "source": [
        "import os, sys, random, time, copy\n",
        "import torch, warnings\n",
        "\n",
        "import numpy as np\n",
        "import matplotlib.pyplot as plt\n",
        "import torch.optim as optim\n",
        "import torch.nn as nn\n",
        "\n",
        "from torch.utils.data import DataLoader, Dataset\n",
        "from torchvision.models import resnet18, ResNet18_Weights\n",
        "from torchvision import transforms\n",
        "from sklearn.metrics import classification_report, accuracy_score\n",
        "from sklearn.metrics import roc_auc_score, f1_score\n",
        "from sklearn.model_selection import train_test_split\n",
        "from PIL import Image\n",
        "\n",
        "warnings.filterwarnings(\"ignore\")"
      ],
      "metadata": {
        "execution": {
          "iopub.status.busy": "2023-04-24T14:38:43.509379Z",
          "iopub.execute_input": "2023-04-24T14:38:43.510161Z",
          "iopub.status.idle": "2023-04-24T14:38:43.517939Z",
          "shell.execute_reply.started": "2023-04-24T14:38:43.510106Z",
          "shell.execute_reply": "2023-04-24T14:38:43.516613Z"
        },
        "trusted": true,
        "id": "pRNQyLg5n60c"
      },
      "execution_count": 2,
      "outputs": []
    },
    {
      "cell_type": "code",
      "source": [
        "from google.colab import drive\n",
        "drive.mount('/content/drive')"
      ],
      "metadata": {
        "colab": {
          "base_uri": "https://localhost:8080/"
        },
        "id": "gFnSsH7koGsG",
        "outputId": "7d13909a-503b-4260-a2a4-d4ab025b1c0d"
      },
      "execution_count": 3,
      "outputs": [
        {
          "output_type": "stream",
          "name": "stdout",
          "text": [
            "Mounted at /content/drive\n"
          ]
        }
      ]
    },
    {
      "cell_type": "markdown",
      "source": [
        "#### Setting the data directories"
      ],
      "metadata": {
        "id": "ifgCHGGvn60d"
      }
    },
    {
      "cell_type": "code",
      "source": [
        "data_path = \"/content/drive/MyDrive/data/cnn_data/\""
      ],
      "metadata": {
        "execution": {
          "iopub.status.busy": "2023-04-24T14:38:43.520048Z",
          "iopub.execute_input": "2023-04-24T14:38:43.521229Z",
          "iopub.status.idle": "2023-04-24T14:38:43.533460Z",
          "shell.execute_reply.started": "2023-04-24T14:38:43.521191Z",
          "shell.execute_reply": "2023-04-24T14:38:43.532327Z"
        },
        "trusted": true,
        "id": "d2qYsteLn60d"
      },
      "execution_count": 4,
      "outputs": []
    },
    {
      "cell_type": "markdown",
      "source": [
        "##### Checking if Cuda is available"
      ],
      "metadata": {
        "id": "yBP-Du9in60e"
      }
    },
    {
      "cell_type": "code",
      "source": [
        "use_gpu = torch.cuda.is_available()\n",
        "print('Using GPU: ', use_gpu)\n",
        "\n",
        "if use_gpu == True:\n",
        "\tdevice = torch.device(\"cuda\")\n",
        "else:\n",
        "\tdevice = torch.device(\"cpu\")"
      ],
      "metadata": {
        "execution": {
          "iopub.status.busy": "2023-04-24T14:38:43.536151Z",
          "iopub.execute_input": "2023-04-24T14:38:43.536656Z",
          "iopub.status.idle": "2023-04-24T14:38:43.543911Z",
          "shell.execute_reply.started": "2023-04-24T14:38:43.536619Z",
          "shell.execute_reply": "2023-04-24T14:38:43.542758Z"
        },
        "trusted": true,
        "colab": {
          "base_uri": "https://localhost:8080/"
        },
        "id": "-HHIUtnfn60e",
        "outputId": "c477c6c6-92c7-4d9e-b4d3-5d2ee708f6de"
      },
      "execution_count": 5,
      "outputs": [
        {
          "output_type": "stream",
          "name": "stdout",
          "text": [
            "Using GPU:  True\n"
          ]
        }
      ]
    },
    {
      "cell_type": "code",
      "source": [
        "freq_print = 30"
      ],
      "metadata": {
        "execution": {
          "iopub.status.busy": "2023-04-24T14:38:43.545698Z",
          "iopub.execute_input": "2023-04-24T14:38:43.546418Z",
          "iopub.status.idle": "2023-04-24T14:38:43.552672Z",
          "shell.execute_reply.started": "2023-04-24T14:38:43.546371Z",
          "shell.execute_reply": "2023-04-24T14:38:43.551768Z"
        },
        "trusted": true,
        "id": "QKpQW5Twn60f"
      },
      "execution_count": 6,
      "outputs": []
    },
    {
      "cell_type": "code",
      "source": [
        "def load_paths_from_folder(data_path):\n",
        "    label_names = os.listdir(data_path)\n",
        "    labels = list(range(len(label_names)))\n",
        "    label_dict = {}\n",
        "    for label in labels:\n",
        "        label_dict[label] = label_names[label]\n",
        "\n",
        "    file_paths = []\n",
        "    for label in labels:\n",
        "        for file in os.listdir(os.path.join(data_path, label_dict[label])):\n",
        "            file_paths.append((os.path.join(data_path, label_dict[label], file), label))\n",
        "            \n",
        "    random.shuffle(file_paths)\n",
        "\n",
        "    train_num = int(0.6*len(file_paths))\n",
        "    val_num = int(0.25*len(file_paths))\n",
        "\n",
        "    train_list, val_list, test_list = file_paths[:train_num], file_paths[train_num:train_num+val_num], file_paths[train_num+val_num:]\n",
        "\n",
        "    return train_list, val_list, test_list, label_dict\n",
        "\n",
        "train_list, val_list, test_list, label_dict = load_paths_from_folder(data_path)\n",
        "\n",
        "len(train_list), len(val_list), len(test_list)"
      ],
      "metadata": {
        "execution": {
          "iopub.status.busy": "2023-04-24T14:38:43.555725Z",
          "iopub.execute_input": "2023-04-24T14:38:43.556091Z",
          "iopub.status.idle": "2023-04-24T14:38:43.571937Z",
          "shell.execute_reply.started": "2023-04-24T14:38:43.556055Z",
          "shell.execute_reply": "2023-04-24T14:38:43.570751Z"
        },
        "trusted": true,
        "colab": {
          "base_uri": "https://localhost:8080/"
        },
        "id": "W7aOv_Yin60g",
        "outputId": "10cfacbc-e4d0-4f7c-e5de-5a2b79e175a8"
      },
      "execution_count": 7,
      "outputs": [
        {
          "output_type": "execute_result",
          "data": {
            "text/plain": [
              "(480, 200, 120)"
            ]
          },
          "metadata": {},
          "execution_count": 7
        }
      ]
    },
    {
      "cell_type": "code",
      "source": [
        "mean, std = [0.485, 0.456, 0.406], [0.229, 0.224, 0.225]"
      ],
      "metadata": {
        "execution": {
          "iopub.status.busy": "2023-04-24T14:38:43.573659Z",
          "iopub.execute_input": "2023-04-24T14:38:43.574019Z",
          "iopub.status.idle": "2023-04-24T14:38:43.578844Z",
          "shell.execute_reply.started": "2023-04-24T14:38:43.573981Z",
          "shell.execute_reply": "2023-04-24T14:38:43.577810Z"
        },
        "trusted": true,
        "id": "rivR64j1n60h"
      },
      "execution_count": 8,
      "outputs": []
    },
    {
      "cell_type": "code",
      "source": [
        "data_transforms = {\n",
        "\t'train': transforms.Compose([\n",
        "\t\ttransforms.RandomHorizontalFlip(),  # simple data augmentation\n",
        "\t\ttransforms.RandomVerticalFlip(),\t# simple data augmentation\n",
        "\t\ttransforms.ColorJitter(brightness=0.3, contrast=0.3, saturation=0.3, hue=0.1),\n",
        "\t\ttransforms.ToTensor(),\n",
        "\t\ttransforms.Normalize(mean, std)]),\n",
        "\n",
        "\t'val': transforms.Compose([\n",
        "\t\ttransforms.ToTensor(),\n",
        "\t\ttransforms.Normalize(mean, std)\n",
        "\t]),\n",
        "}"
      ],
      "metadata": {
        "execution": {
          "iopub.status.busy": "2023-04-24T14:38:43.580652Z",
          "iopub.execute_input": "2023-04-24T14:38:43.581439Z",
          "iopub.status.idle": "2023-04-24T14:38:43.590360Z",
          "shell.execute_reply.started": "2023-04-24T14:38:43.581393Z",
          "shell.execute_reply": "2023-04-24T14:38:43.589286Z"
        },
        "trusted": true,
        "id": "UP9cial2n60i"
      },
      "execution_count": 9,
      "outputs": []
    },
    {
      "cell_type": "markdown",
      "source": [
        "##### Defining a dataloader class extending the Dataset Class"
      ],
      "metadata": {
        "id": "kashqNiRn60i"
      }
    },
    {
      "cell_type": "code",
      "source": [
        "class dataloader(Dataset):\n",
        "\t\"\"\"\n",
        "\tDataset class to read img file from filepath \n",
        "\tand return Pillow Image object with its label_id\n",
        "\t\"\"\"\n",
        "\tdef __init__(self, list1, transform=None):\n",
        "\t\tself.list1 = list1\n",
        "\t\tself.transform = transform\n",
        "\t\n",
        "\tdef __getitem__(self, index):\n",
        "\t\tlist2 = self.list1[index]\n",
        "\t\tlab = int(list2[1])\n",
        "\t\tpng = Image.open(list2[0]).convert('RGB') # ori: RGB, do not convert to numpy, keep it as PIL image to apply transform\n",
        "\t\tpng = png.resize((224,224))\n",
        "\n",
        "\t\tif self.transform:\n",
        "\t\t\tpng = self.transform(png)\n",
        "\n",
        "\t\treturn png, lab\n",
        "\n",
        "\tdef __len__(self):\n",
        "\t\treturn len(self.list1)"
      ],
      "metadata": {
        "execution": {
          "iopub.status.busy": "2023-04-24T14:38:43.593712Z",
          "iopub.execute_input": "2023-04-24T14:38:43.594015Z",
          "iopub.status.idle": "2023-04-24T14:38:43.605766Z",
          "shell.execute_reply.started": "2023-04-24T14:38:43.593990Z",
          "shell.execute_reply": "2023-04-24T14:38:43.604726Z"
        },
        "trusted": true,
        "id": "9mE5fnG2n60i"
      },
      "execution_count": 10,
      "outputs": []
    },
    {
      "cell_type": "code",
      "source": [
        "batch_size = 16\n",
        "\n",
        "train_set = dataloader(train_list, transform = data_transforms['train'])\n",
        "train_loader = DataLoader(train_set, batch_size=batch_size, shuffle=True, num_workers=8, pin_memory=False)\n",
        "\n",
        "val_set = dataloader(val_list, transform = data_transforms['val'])\n",
        "val_loader = DataLoader(val_set, batch_size=batch_size, shuffle=True, num_workers=8, pin_memory=False)"
      ],
      "metadata": {
        "execution": {
          "iopub.status.busy": "2023-04-24T14:38:43.607266Z",
          "iopub.execute_input": "2023-04-24T14:38:43.607783Z",
          "iopub.status.idle": "2023-04-24T14:38:43.617818Z",
          "shell.execute_reply.started": "2023-04-24T14:38:43.607747Z",
          "shell.execute_reply": "2023-04-24T14:38:43.616798Z"
        },
        "trusted": true,
        "id": "W1vD6D_Hn60j"
      },
      "execution_count": 11,
      "outputs": []
    },
    {
      "cell_type": "markdown",
      "source": [
        "##### Defining a function to perform validation on the model"
      ],
      "metadata": {
        "id": "z-xsMucpn60j"
      }
    },
    {
      "cell_type": "code",
      "source": [
        "# Function to run evaluation for a model on a given dataloader object\n",
        "def run_validation(model, criterion, val_loader):\n",
        "\tmodel.eval()\n",
        "\tpred_labels = []\n",
        "\torig_labels = []\n",
        "\n",
        "\tntotal = 0\n",
        "\trunning_loss = 0.0\n",
        "\twith torch.no_grad():\n",
        "\t\tfor ix, batch in enumerate(val_loader):\n",
        "\t\t\tinputs, targets = batch\n",
        "\n",
        "\t\t\tinputs = inputs.to(torch.float).to(device)\n",
        "\t\t\ttargets = targets.to(torch.long).to(device)\n",
        "\t\t\toutput = model(inputs)\n",
        "\t\t\tif type(output) == tuple:\n",
        "\t\t\t\toutput,_ = output\n",
        "\t\t\t\n",
        "\t\t\t_, preds = torch.max(output.data, 1)\n",
        "\n",
        "\t\t\tloss = criterion(output, targets)\n",
        "\t\t\tntotal += output.size(0)\n",
        "\t\t\trunning_loss += loss.item() * output.size(0)\n",
        "\n",
        "\t\t\ttargets = torch.squeeze(targets).data.cpu().tolist()\n",
        "\t\t\torig_labels = orig_labels + targets\n",
        "\n",
        "\t\t\tpreds = torch.squeeze(preds).data.cpu().tolist()\n",
        "\t\t\tpred_labels = pred_labels + preds\n",
        "\t\n",
        "\torig_labels = np.array(orig_labels).reshape(-1,1)\n",
        "\tpred_labels = np.array(pred_labels).reshape(-1,1)\n",
        "\n",
        "\tval_loss = running_loss/ntotal\n",
        "\tval_acc = accuracy_score(orig_labels, pred_labels)\n",
        "\tval_f1 = f1_score(orig_labels, pred_labels, average='macro')\n",
        "\n",
        "\treturn val_loss, val_acc, val_f1, orig_labels, pred_labels"
      ],
      "metadata": {
        "execution": {
          "iopub.status.busy": "2023-04-24T14:38:43.669220Z",
          "iopub.execute_input": "2023-04-24T14:38:43.670083Z",
          "iopub.status.idle": "2023-04-24T14:38:43.680762Z",
          "shell.execute_reply.started": "2023-04-24T14:38:43.670040Z",
          "shell.execute_reply": "2023-04-24T14:38:43.679654Z"
        },
        "trusted": true,
        "id": "4RGZg5Gnn60j"
      },
      "execution_count": 12,
      "outputs": []
    },
    {
      "cell_type": "markdown",
      "source": [
        "##### Function to plot the train-validation loss"
      ],
      "metadata": {
        "id": "SiMwL7hDn60k"
      }
    },
    {
      "cell_type": "code",
      "source": [
        "def plot_tra_val_loss(tra_val_loss):\n",
        "\tepochs = list(range(1,len(tra_val_loss)+1))\n",
        "\ttrain_loss = [x[0] for x in tra_val_loss]\n",
        "\tval_loss = [x[1] for x in tra_val_loss]\n",
        "\tplt.plot(epochs, train_loss, label='Train Loss')\n",
        "\tplt.plot(epochs, val_loss, label='Validation Loss')\n",
        "\tplt.title('Training and Validation Loss per epoch')\n",
        "\tplt.ylabel('Loss')\n",
        "\tplt.xlabel('Epochs')\n",
        "\tplt.legend()\n",
        "\tplt.show()"
      ],
      "metadata": {
        "execution": {
          "iopub.status.busy": "2023-04-24T14:38:43.683060Z",
          "iopub.execute_input": "2023-04-24T14:38:43.683779Z",
          "iopub.status.idle": "2023-04-24T14:38:43.696248Z",
          "shell.execute_reply.started": "2023-04-24T14:38:43.683742Z",
          "shell.execute_reply": "2023-04-24T14:38:43.695197Z"
        },
        "trusted": true,
        "id": "472hPDrln60k"
      },
      "execution_count": 13,
      "outputs": []
    },
    {
      "cell_type": "markdown",
      "source": [
        "##### Function to train the model"
      ],
      "metadata": {
        "id": "O1Q7-b16n60k"
      }
    },
    {
      "cell_type": "code",
      "source": [
        "def run_training(model, criterion, num_epochs, batch_size, lr, check_after, trainer = 'sgd', train_loader = train_loader, val_loader = val_loader): \n",
        "\tbest_f1 = 0\n",
        "\tbest_epoch = 0\n",
        "\ttrain_val_loss_epoch = []\n",
        "\tstart_training = time.time()\n",
        "\n",
        "\tfor epoch in range(num_epochs):\n",
        "\n",
        "\t\t### TRAINING ###\n",
        "\t\tstart = time.time()\n",
        "\n",
        "\t\tif epoch < num_epochs//6: lr = lr\n",
        "\t\telif epoch < num_epochs//3: lr = lr/2\n",
        "\t\telif epoch < num_epochs//2: lr = lr/4\n",
        "\t\telif epoch < 3*(num_epochs//4): lr = lr/10\n",
        "\t\telse: lr = lr/20\n",
        "\n",
        "\t\tif epoch > 2:\n",
        "\t\t\tfor param in model.parameters():\n",
        "\t\t\t\tparam.requires_grad = True\n",
        "\n",
        "\n",
        "\t\tif trainer == 'adam':\n",
        "\t\t\toptimizer = optim.Adam(params=filter(lambda p: p.requires_grad, model.parameters()), lr=lr)\n",
        "\t\telif trainer == 'sgd':\n",
        "\t\t\toptimizer = optim.SGD(params=filter(lambda p: p.requires_grad, model.parameters()), lr=lr, momentum=0.9, weight_decay=1e-4)\n",
        "\t\telse:\n",
        "\t\t\traise Exception('Select optimiser (trainer) as adam or sgd')\n",
        "\t\t\n",
        "\t\tprint('Epoch {}/{}'.format(epoch + 1, num_epochs))\n",
        "\t\tprint('lr: {:.6f}'.format(lr))\n",
        "\t\tprint('-' * 50)\n",
        "\n",
        "\t\tmodel.train()\n",
        "\t\tntotal = 0\n",
        "\t\trunning_loss = 0.0\n",
        "\t\trunning_corrects = 0\n",
        "\t\tfor ix, batch in enumerate(train_loader):\n",
        "\t\t\tinputs, targets = batch\n",
        "\n",
        "\t\t\tinputs = inputs.to(torch.float).to(device)\n",
        "\t\t\ttargets = targets.to(torch.long).to(device)\n",
        "\n",
        "\t\t\toptimizer.zero_grad()\n",
        "\t\t\toutput = model(inputs)\n",
        "\t\t\tif type(output) == tuple:\n",
        "\t\t\t\toutput,_ = output\n",
        "\t\t\t\n",
        "\t\t\t_, preds = torch.max(output.data, 1)\n",
        "\t\t\tloss = criterion(output, targets)\n",
        "\t\t\tloss.backward()\n",
        "\t\t\toptimizer.step()\n",
        "\n",
        "\t\t\tntotal += output.size(0)\n",
        "\t\t\trunning_loss += loss.item() * output.size(0)\n",
        "\t\t\trunning_corrects += torch.sum(preds == targets.data)\n",
        "\n",
        "\t\t\tif (ix + 1) % freq_print == 0:\n",
        "\t\t\t\tprint('| Epoch:[{}][{}/{}]\\tTrain_Loss: {:.4f}\\tAccuracy: {:.4f}\\tTime: {:.2f} mins'.format(\n",
        "\t\t\t\t\tepoch + 1, ix + 1, len(train_loader.dataset)//batch_size, running_loss/ntotal, \n",
        "\t\t\t\t\trunning_corrects.item()/ntotal, (time.time() - start)/60.0))\n",
        "\n",
        "\t\t\tsys.stdout.flush()\n",
        "\n",
        "\t\t### VALIDATION ###\n",
        "\t\tif (epoch + 1) % check_after == 0:\n",
        "\t\t\tmodel.eval()\n",
        "\t\t\tstart = time.time()\n",
        "\t\t\tval_loss, val_acc, val_f1, orig_labels, pred_labels = run_validation(model, criterion, val_loader = val_loader)\n",
        "\t\t\ttrain_val_loss_epoch.append([running_loss/ntotal, val_loss])\n",
        "\t\t\tprint(\"Epoch: {}/{}\\tVal_Loss: {:.4f}\\tAccuracy: {:.4f}\\tF1-score: {:.4f}\\t{:.3f}mins\".format(\n",
        "\t\t\t\t\t(epoch + 1), num_epochs, val_loss, val_acc, val_f1, (time.time() - start)/60.0))\n",
        "\t\t\tstart = time.time()\n",
        "\n",
        "\t\t\t# Save model if auc best auc score is acheived (yet)\n",
        "\t\t\tif val_f1 > best_f1:\n",
        "\t\t\t\tprint('Saving model')\n",
        "\t\t\t\tbest_f1 = val_f1\n",
        "\t\t\t\tbest_epoch = epoch\n",
        "\t\t\t\tbest_model = copy.deepcopy(model)\n",
        "\t\t\t\tstate = {\n",
        "\t\t\t\t\t'model': best_model,\n",
        "\t\t\t\t\t'auc': best_f1,\n",
        "\t\t\t\t\t'lr': lr,\n",
        "\t\t\t\t\t'saved_epoch': epoch,\n",
        "\t\t\t\t}\n",
        "\n",
        "\t\t\t\tsave_point = os.path.join('.')\n",
        "\t\t\t\tif not os.path.isdir(os.path.join(save_point)):\n",
        "\t\t\t\t\tos.mkdir(save_point)\n",
        "\n",
        "\t\t\t\tsaved_model_name = 'resnet18'\n",
        "\t\t\t\ttorch.save(state, os.path.join(save_point, saved_model_name + '_' + str(round(best_f1,3)) + '_' + str(epoch) + '.t7'))\n",
        "\t\t\t\t\n",
        "\t\t\tprint('=======================================================================')\n",
        "\n",
        "\ttime_elapsed = time.time() - start_training\n",
        "\tprint('Training complete in {:.0f}m {:.0f}s'.format(time_elapsed // 60, time_elapsed % 60))\n",
        "\tprint('Best validation F1 score: {:4f} at epoch: {}'.format(best_f1, best_epoch))\n",
        "\n",
        "\tplot_tra_val_loss(train_val_loss_epoch)\n",
        "\treturn train_val_loss_epoch"
      ],
      "metadata": {
        "execution": {
          "iopub.status.busy": "2023-04-24T14:38:43.698497Z",
          "iopub.execute_input": "2023-04-24T14:38:43.699152Z",
          "iopub.status.idle": "2023-04-24T14:38:43.719173Z",
          "shell.execute_reply.started": "2023-04-24T14:38:43.699117Z",
          "shell.execute_reply": "2023-04-24T14:38:43.718022Z"
        },
        "trusted": true,
        "id": "sGZqqtxZn60k"
      },
      "execution_count": 14,
      "outputs": []
    },
    {
      "cell_type": "markdown",
      "source": [
        "##### Loading a pre-trained Resnet18 model, trained on ImageNet dataset"
      ],
      "metadata": {
        "id": "E5NhGr_Mn60l"
      }
    },
    {
      "cell_type": "code",
      "source": [
        "model = resnet18(ResNet18_Weights.IMAGENET1K_V1)\n",
        "\n",
        "# Locking all Parameters of the pre-trained model\n",
        "for param in model.parameters():\n",
        "    param.requires_grad = False\n",
        "\n",
        "# Changing last layer of model from 1000 classes to 2 classes\n",
        "num_in = model.fc.in_features\n",
        "model.fc = nn.Linear(num_in, 2)\n",
        "\n",
        "# Newly added layer has unlocked parameters\n",
        "# The rest of the parameters will be unlocked after the 3rd epoch\n",
        "model.eval()\n",
        "model.to(device)\n",
        "\n",
        "print(model)"
      ],
      "metadata": {
        "execution": {
          "iopub.status.busy": "2023-04-24T14:42:32.686766Z",
          "iopub.execute_input": "2023-04-24T14:42:32.687118Z",
          "iopub.status.idle": "2023-04-24T14:42:32.939623Z",
          "shell.execute_reply.started": "2023-04-24T14:42:32.687088Z",
          "shell.execute_reply": "2023-04-24T14:42:32.938371Z"
        },
        "trusted": true,
        "colab": {
          "base_uri": "https://localhost:8080/"
        },
        "id": "BAQOYH6Gn60m",
        "outputId": "51a20b43-579c-4708-b774-fa4f471fa24c"
      },
      "execution_count": 15,
      "outputs": [
        {
          "output_type": "stream",
          "name": "stderr",
          "text": [
            "Downloading: \"https://download.pytorch.org/models/resnet18-f37072fd.pth\" to /root/.cache/torch/hub/checkpoints/resnet18-f37072fd.pth\n",
            "100%|██████████| 44.7M/44.7M [00:00<00:00, 184MB/s]\n"
          ]
        },
        {
          "output_type": "stream",
          "name": "stdout",
          "text": [
            "ResNet(\n",
            "  (conv1): Conv2d(3, 64, kernel_size=(7, 7), stride=(2, 2), padding=(3, 3), bias=False)\n",
            "  (bn1): BatchNorm2d(64, eps=1e-05, momentum=0.1, affine=True, track_running_stats=True)\n",
            "  (relu): ReLU(inplace=True)\n",
            "  (maxpool): MaxPool2d(kernel_size=3, stride=2, padding=1, dilation=1, ceil_mode=False)\n",
            "  (layer1): Sequential(\n",
            "    (0): BasicBlock(\n",
            "      (conv1): Conv2d(64, 64, kernel_size=(3, 3), stride=(1, 1), padding=(1, 1), bias=False)\n",
            "      (bn1): BatchNorm2d(64, eps=1e-05, momentum=0.1, affine=True, track_running_stats=True)\n",
            "      (relu): ReLU(inplace=True)\n",
            "      (conv2): Conv2d(64, 64, kernel_size=(3, 3), stride=(1, 1), padding=(1, 1), bias=False)\n",
            "      (bn2): BatchNorm2d(64, eps=1e-05, momentum=0.1, affine=True, track_running_stats=True)\n",
            "    )\n",
            "    (1): BasicBlock(\n",
            "      (conv1): Conv2d(64, 64, kernel_size=(3, 3), stride=(1, 1), padding=(1, 1), bias=False)\n",
            "      (bn1): BatchNorm2d(64, eps=1e-05, momentum=0.1, affine=True, track_running_stats=True)\n",
            "      (relu): ReLU(inplace=True)\n",
            "      (conv2): Conv2d(64, 64, kernel_size=(3, 3), stride=(1, 1), padding=(1, 1), bias=False)\n",
            "      (bn2): BatchNorm2d(64, eps=1e-05, momentum=0.1, affine=True, track_running_stats=True)\n",
            "    )\n",
            "  )\n",
            "  (layer2): Sequential(\n",
            "    (0): BasicBlock(\n",
            "      (conv1): Conv2d(64, 128, kernel_size=(3, 3), stride=(2, 2), padding=(1, 1), bias=False)\n",
            "      (bn1): BatchNorm2d(128, eps=1e-05, momentum=0.1, affine=True, track_running_stats=True)\n",
            "      (relu): ReLU(inplace=True)\n",
            "      (conv2): Conv2d(128, 128, kernel_size=(3, 3), stride=(1, 1), padding=(1, 1), bias=False)\n",
            "      (bn2): BatchNorm2d(128, eps=1e-05, momentum=0.1, affine=True, track_running_stats=True)\n",
            "      (downsample): Sequential(\n",
            "        (0): Conv2d(64, 128, kernel_size=(1, 1), stride=(2, 2), bias=False)\n",
            "        (1): BatchNorm2d(128, eps=1e-05, momentum=0.1, affine=True, track_running_stats=True)\n",
            "      )\n",
            "    )\n",
            "    (1): BasicBlock(\n",
            "      (conv1): Conv2d(128, 128, kernel_size=(3, 3), stride=(1, 1), padding=(1, 1), bias=False)\n",
            "      (bn1): BatchNorm2d(128, eps=1e-05, momentum=0.1, affine=True, track_running_stats=True)\n",
            "      (relu): ReLU(inplace=True)\n",
            "      (conv2): Conv2d(128, 128, kernel_size=(3, 3), stride=(1, 1), padding=(1, 1), bias=False)\n",
            "      (bn2): BatchNorm2d(128, eps=1e-05, momentum=0.1, affine=True, track_running_stats=True)\n",
            "    )\n",
            "  )\n",
            "  (layer3): Sequential(\n",
            "    (0): BasicBlock(\n",
            "      (conv1): Conv2d(128, 256, kernel_size=(3, 3), stride=(2, 2), padding=(1, 1), bias=False)\n",
            "      (bn1): BatchNorm2d(256, eps=1e-05, momentum=0.1, affine=True, track_running_stats=True)\n",
            "      (relu): ReLU(inplace=True)\n",
            "      (conv2): Conv2d(256, 256, kernel_size=(3, 3), stride=(1, 1), padding=(1, 1), bias=False)\n",
            "      (bn2): BatchNorm2d(256, eps=1e-05, momentum=0.1, affine=True, track_running_stats=True)\n",
            "      (downsample): Sequential(\n",
            "        (0): Conv2d(128, 256, kernel_size=(1, 1), stride=(2, 2), bias=False)\n",
            "        (1): BatchNorm2d(256, eps=1e-05, momentum=0.1, affine=True, track_running_stats=True)\n",
            "      )\n",
            "    )\n",
            "    (1): BasicBlock(\n",
            "      (conv1): Conv2d(256, 256, kernel_size=(3, 3), stride=(1, 1), padding=(1, 1), bias=False)\n",
            "      (bn1): BatchNorm2d(256, eps=1e-05, momentum=0.1, affine=True, track_running_stats=True)\n",
            "      (relu): ReLU(inplace=True)\n",
            "      (conv2): Conv2d(256, 256, kernel_size=(3, 3), stride=(1, 1), padding=(1, 1), bias=False)\n",
            "      (bn2): BatchNorm2d(256, eps=1e-05, momentum=0.1, affine=True, track_running_stats=True)\n",
            "    )\n",
            "  )\n",
            "  (layer4): Sequential(\n",
            "    (0): BasicBlock(\n",
            "      (conv1): Conv2d(256, 512, kernel_size=(3, 3), stride=(2, 2), padding=(1, 1), bias=False)\n",
            "      (bn1): BatchNorm2d(512, eps=1e-05, momentum=0.1, affine=True, track_running_stats=True)\n",
            "      (relu): ReLU(inplace=True)\n",
            "      (conv2): Conv2d(512, 512, kernel_size=(3, 3), stride=(1, 1), padding=(1, 1), bias=False)\n",
            "      (bn2): BatchNorm2d(512, eps=1e-05, momentum=0.1, affine=True, track_running_stats=True)\n",
            "      (downsample): Sequential(\n",
            "        (0): Conv2d(256, 512, kernel_size=(1, 1), stride=(2, 2), bias=False)\n",
            "        (1): BatchNorm2d(512, eps=1e-05, momentum=0.1, affine=True, track_running_stats=True)\n",
            "      )\n",
            "    )\n",
            "    (1): BasicBlock(\n",
            "      (conv1): Conv2d(512, 512, kernel_size=(3, 3), stride=(1, 1), padding=(1, 1), bias=False)\n",
            "      (bn1): BatchNorm2d(512, eps=1e-05, momentum=0.1, affine=True, track_running_stats=True)\n",
            "      (relu): ReLU(inplace=True)\n",
            "      (conv2): Conv2d(512, 512, kernel_size=(3, 3), stride=(1, 1), padding=(1, 1), bias=False)\n",
            "      (bn2): BatchNorm2d(512, eps=1e-05, momentum=0.1, affine=True, track_running_stats=True)\n",
            "    )\n",
            "  )\n",
            "  (avgpool): AdaptiveAvgPool2d(output_size=(1, 1))\n",
            "  (fc): Linear(in_features=512, out_features=2, bias=True)\n",
            ")\n"
          ]
        }
      ]
    },
    {
      "cell_type": "markdown",
      "source": [
        "##### Training the model"
      ],
      "metadata": {
        "id": "OQyo1-pgn60m"
      }
    },
    {
      "cell_type": "code",
      "source": [
        "print('Start training ... ')\n",
        "criterion = nn.CrossEntropyLoss().to(device)\n",
        "train_val_loss = run_training(model=model, criterion=criterion, num_epochs=35, batch_size=batch_size, lr=1e-4, \n",
        "             check_after=1, train_loader=train_loader, val_loader=val_loader)"
      ],
      "metadata": {
        "execution": {
          "iopub.status.busy": "2023-04-24T14:38:43.721555Z",
          "iopub.execute_input": "2023-04-24T14:38:43.722371Z",
          "iopub.status.idle": "2023-04-24T14:42:32.683321Z",
          "shell.execute_reply.started": "2023-04-24T14:38:43.722291Z",
          "shell.execute_reply": "2023-04-24T14:42:32.682266Z"
        },
        "trusted": true,
        "id": "0ab4yUfQn60n",
        "outputId": "20ac5fe3-85b3-46fc-bd21-888ec13ae886"
      },
      "execution_count": null,
      "outputs": [
        {
          "name": "stdout",
          "text": "Start training ... \nEpoch 1/35\nlr: 0.000100\n--------------------------------------------------\n| Epoch:[1][20/30]\tTrain_Loss: 0.4982\tAccuracy: 0.8094\tTime: 0.08 mins\nEpoch: 1/35\tVal_Loss: 0.3698\tAccuracy: 0.9200\tF1-score: 0.9199\t0.028mins\nSaving model\n=======================================================================\nEpoch 2/35\nlr: 0.000100\n--------------------------------------------------\n| Epoch:[2][20/30]\tTrain_Loss: 0.4311\tAccuracy: 0.8719\tTime: 0.06 mins\nEpoch: 2/35\tVal_Loss: 0.3212\tAccuracy: 0.9250\tF1-score: 0.9250\t0.026mins\nSaving model\n=======================================================================\nEpoch 3/35\nlr: 0.000100\n--------------------------------------------------\n| Epoch:[3][20/30]\tTrain_Loss: 0.3992\tAccuracy: 0.8594\tTime: 0.07 mins\nEpoch: 3/35\tVal_Loss: 0.2932\tAccuracy: 0.9350\tF1-score: 0.9350\t0.023mins\nSaving model\n=======================================================================\nEpoch 4/35\nlr: 0.000100\n--------------------------------------------------\n| Epoch:[4][20/30]\tTrain_Loss: 0.3439\tAccuracy: 0.8969\tTime: 0.06 mins\nEpoch: 4/35\tVal_Loss: 0.2660\tAccuracy: 0.9350\tF1-score: 0.9350\t0.023mins\n=======================================================================\nEpoch 5/35\nlr: 0.000100\n--------------------------------------------------\n| Epoch:[5][20/30]\tTrain_Loss: 0.3712\tAccuracy: 0.8719\tTime: 0.06 mins\nEpoch: 5/35\tVal_Loss: 0.2473\tAccuracy: 0.9450\tF1-score: 0.9450\t0.024mins\nSaving model\n=======================================================================\nEpoch 6/35\nlr: 0.000050\n--------------------------------------------------\n| Epoch:[6][20/30]\tTrain_Loss: 0.3340\tAccuracy: 0.8906\tTime: 0.08 mins\nEpoch: 6/35\tVal_Loss: 0.2383\tAccuracy: 0.9450\tF1-score: 0.9450\t0.023mins\n=======================================================================\nEpoch 7/35\nlr: 0.000025\n--------------------------------------------------\n| Epoch:[7][20/30]\tTrain_Loss: 0.3033\tAccuracy: 0.9125\tTime: 0.06 mins\nEpoch: 7/35\tVal_Loss: 0.2295\tAccuracy: 0.9500\tF1-score: 0.9500\t0.025mins\nSaving model\n=======================================================================\nEpoch 8/35\nlr: 0.000013\n--------------------------------------------------\n| Epoch:[8][20/30]\tTrain_Loss: 0.2994\tAccuracy: 0.9187\tTime: 0.06 mins\nEpoch: 8/35\tVal_Loss: 0.2276\tAccuracy: 0.9400\tF1-score: 0.9400\t0.024mins\n=======================================================================\nEpoch 9/35\nlr: 0.000006\n--------------------------------------------------\n| Epoch:[9][20/30]\tTrain_Loss: 0.3294\tAccuracy: 0.8906\tTime: 0.06 mins\nEpoch: 9/35\tVal_Loss: 0.2333\tAccuracy: 0.9400\tF1-score: 0.9400\t0.023mins\n=======================================================================\nEpoch 10/35\nlr: 0.000003\n--------------------------------------------------\n| Epoch:[10][20/30]\tTrain_Loss: 0.2893\tAccuracy: 0.9125\tTime: 0.06 mins\nEpoch: 10/35\tVal_Loss: 0.2274\tAccuracy: 0.9450\tF1-score: 0.9450\t0.029mins\n=======================================================================\nEpoch 11/35\nlr: 0.000002\n--------------------------------------------------\n| Epoch:[11][20/30]\tTrain_Loss: 0.3199\tAccuracy: 0.9000\tTime: 0.07 mins\nEpoch: 11/35\tVal_Loss: 0.2274\tAccuracy: 0.9500\tF1-score: 0.9500\t0.023mins\n=======================================================================\nEpoch 12/35\nlr: 0.000000\n--------------------------------------------------\n| Epoch:[12][20/30]\tTrain_Loss: 0.3235\tAccuracy: 0.8875\tTime: 0.06 mins\nEpoch: 12/35\tVal_Loss: 0.2280\tAccuracy: 0.9500\tF1-score: 0.9500\t0.024mins\n=======================================================================\nEpoch 13/35\nlr: 0.000000\n--------------------------------------------------\n| Epoch:[13][20/30]\tTrain_Loss: 0.2836\tAccuracy: 0.8906\tTime: 0.07 mins\nEpoch: 13/35\tVal_Loss: 0.2313\tAccuracy: 0.9450\tF1-score: 0.9450\t0.024mins\n=======================================================================\nEpoch 14/35\nlr: 0.000000\n--------------------------------------------------\n| Epoch:[14][20/30]\tTrain_Loss: 0.2757\tAccuracy: 0.9406\tTime: 0.06 mins\nEpoch: 14/35\tVal_Loss: 0.2259\tAccuracy: 0.9450\tF1-score: 0.9450\t0.025mins\n=======================================================================\nEpoch 15/35\nlr: 0.000000\n--------------------------------------------------\n| Epoch:[15][20/30]\tTrain_Loss: 0.2992\tAccuracy: 0.9031\tTime: 0.06 mins\nEpoch: 15/35\tVal_Loss: 0.2276\tAccuracy: 0.9450\tF1-score: 0.9450\t0.035mins\n=======================================================================\nEpoch 16/35\nlr: 0.000000\n--------------------------------------------------\n| Epoch:[16][20/30]\tTrain_Loss: 0.3022\tAccuracy: 0.9187\tTime: 0.07 mins\nEpoch: 16/35\tVal_Loss: 0.2290\tAccuracy: 0.9400\tF1-score: 0.9400\t0.024mins\n=======================================================================\nEpoch 17/35\nlr: 0.000000\n--------------------------------------------------\n| Epoch:[17][20/30]\tTrain_Loss: 0.3099\tAccuracy: 0.9062\tTime: 0.06 mins\nEpoch: 17/35\tVal_Loss: 0.2316\tAccuracy: 0.9450\tF1-score: 0.9450\t0.024mins\n=======================================================================\nEpoch 18/35\nlr: 0.000000\n--------------------------------------------------\n| Epoch:[18][20/30]\tTrain_Loss: 0.3167\tAccuracy: 0.8969\tTime: 0.07 mins\nEpoch: 18/35\tVal_Loss: 0.2275\tAccuracy: 0.9500\tF1-score: 0.9500\t0.023mins\n=======================================================================\nEpoch 19/35\nlr: 0.000000\n--------------------------------------------------\n| Epoch:[19][20/30]\tTrain_Loss: 0.3516\tAccuracy: 0.8844\tTime: 0.06 mins\nEpoch: 19/35\tVal_Loss: 0.2288\tAccuracy: 0.9450\tF1-score: 0.9450\t0.025mins\n=======================================================================\nEpoch 20/35\nlr: 0.000000\n--------------------------------------------------\n| Epoch:[20][20/30]\tTrain_Loss: 0.3116\tAccuracy: 0.9031\tTime: 0.06 mins\nEpoch: 20/35\tVal_Loss: 0.2295\tAccuracy: 0.9400\tF1-score: 0.9400\t0.030mins\n=======================================================================\nEpoch 21/35\nlr: 0.000000\n--------------------------------------------------\n| Epoch:[21][20/30]\tTrain_Loss: 0.3523\tAccuracy: 0.8844\tTime: 0.06 mins\nEpoch: 21/35\tVal_Loss: 0.2279\tAccuracy: 0.9500\tF1-score: 0.9500\t0.023mins\n=======================================================================\nEpoch 22/35\nlr: 0.000000\n--------------------------------------------------\n| Epoch:[22][20/30]\tTrain_Loss: 0.3177\tAccuracy: 0.8844\tTime: 0.06 mins\nEpoch: 22/35\tVal_Loss: 0.2282\tAccuracy: 0.9500\tF1-score: 0.9500\t0.026mins\n=======================================================================\nEpoch 23/35\nlr: 0.000000\n--------------------------------------------------\n| Epoch:[23][20/30]\tTrain_Loss: 0.3102\tAccuracy: 0.8969\tTime: 0.07 mins\nEpoch: 23/35\tVal_Loss: 0.2267\tAccuracy: 0.9500\tF1-score: 0.9500\t0.024mins\n=======================================================================\nEpoch 24/35\nlr: 0.000000\n--------------------------------------------------\n| Epoch:[24][20/30]\tTrain_Loss: 0.3166\tAccuracy: 0.9031\tTime: 0.06 mins\nEpoch: 24/35\tVal_Loss: 0.2309\tAccuracy: 0.9400\tF1-score: 0.9400\t0.024mins\n=======================================================================\nEpoch 25/35\nlr: 0.000000\n--------------------------------------------------\n| Epoch:[25][20/30]\tTrain_Loss: 0.3253\tAccuracy: 0.8938\tTime: 0.07 mins\nEpoch: 25/35\tVal_Loss: 0.2316\tAccuracy: 0.9500\tF1-score: 0.9500\t0.023mins\n=======================================================================\nEpoch 26/35\nlr: 0.000000\n--------------------------------------------------\n| Epoch:[26][20/30]\tTrain_Loss: 0.3274\tAccuracy: 0.8938\tTime: 0.06 mins\nEpoch: 26/35\tVal_Loss: 0.2285\tAccuracy: 0.9500\tF1-score: 0.9500\t0.024mins\n=======================================================================\nEpoch 27/35\nlr: 0.000000\n--------------------------------------------------\n| Epoch:[27][20/30]\tTrain_Loss: 0.3059\tAccuracy: 0.9156\tTime: 0.06 mins\nEpoch: 27/35\tVal_Loss: 0.2256\tAccuracy: 0.9500\tF1-score: 0.9500\t0.024mins\n=======================================================================\nEpoch 28/35\nlr: 0.000000\n--------------------------------------------------\n| Epoch:[28][20/30]\tTrain_Loss: 0.2963\tAccuracy: 0.9062\tTime: 0.07 mins\nEpoch: 28/35\tVal_Loss: 0.2290\tAccuracy: 0.9500\tF1-score: 0.9500\t0.024mins\n=======================================================================\nEpoch 29/35\nlr: 0.000000\n--------------------------------------------------\n| Epoch:[29][20/30]\tTrain_Loss: 0.3135\tAccuracy: 0.9094\tTime: 0.06 mins\nEpoch: 29/35\tVal_Loss: 0.2293\tAccuracy: 0.9450\tF1-score: 0.9450\t0.024mins\n=======================================================================\nEpoch 30/35\nlr: 0.000000\n--------------------------------------------------\n| Epoch:[30][20/30]\tTrain_Loss: 0.3221\tAccuracy: 0.9000\tTime: 0.08 mins\nEpoch: 30/35\tVal_Loss: 0.2284\tAccuracy: 0.9400\tF1-score: 0.9400\t0.024mins\n=======================================================================\nEpoch 31/35\nlr: 0.000000\n--------------------------------------------------\n| Epoch:[31][20/30]\tTrain_Loss: 0.3298\tAccuracy: 0.8938\tTime: 0.07 mins\nEpoch: 31/35\tVal_Loss: 0.2303\tAccuracy: 0.9500\tF1-score: 0.9500\t0.024mins\n=======================================================================\nEpoch 32/35\nlr: 0.000000\n--------------------------------------------------\n| Epoch:[32][20/30]\tTrain_Loss: 0.3091\tAccuracy: 0.8969\tTime: 0.06 mins\nEpoch: 32/35\tVal_Loss: 0.2289\tAccuracy: 0.9500\tF1-score: 0.9500\t0.023mins\n=======================================================================\nEpoch 33/35\nlr: 0.000000\n--------------------------------------------------\n| Epoch:[33][20/30]\tTrain_Loss: 0.2980\tAccuracy: 0.9187\tTime: 0.07 mins\nEpoch: 33/35\tVal_Loss: 0.2295\tAccuracy: 0.9500\tF1-score: 0.9500\t0.024mins\n=======================================================================\nEpoch 34/35\nlr: 0.000000\n--------------------------------------------------\n| Epoch:[34][20/30]\tTrain_Loss: 0.2812\tAccuracy: 0.9375\tTime: 0.06 mins\nEpoch: 34/35\tVal_Loss: 0.2260\tAccuracy: 0.9400\tF1-score: 0.9400\t0.023mins\n=======================================================================\nEpoch 35/35\nlr: 0.000000\n--------------------------------------------------\n| Epoch:[35][20/30]\tTrain_Loss: 0.3131\tAccuracy: 0.8906\tTime: 0.08 mins\nEpoch: 35/35\tVal_Loss: 0.2270\tAccuracy: 0.9500\tF1-score: 0.9500\t0.024mins\n=======================================================================\nTraining complete in 3m 49s\nBest validation F1 score: 0.950000 at epoch: 6\n",
          "output_type": "stream"
        },
        {
          "output_type": "display_data",
          "data": {
            "text/plain": "<Figure size 640x480 with 1 Axes>",
            "image/png": "[encoded data removed]"
          },
          "metadata": {}
        }
      ]
    }
  ]
}