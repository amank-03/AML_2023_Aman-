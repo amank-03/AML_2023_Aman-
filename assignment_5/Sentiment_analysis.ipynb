{
  "cells": [
    {
      "cell_type": "markdown",
      "id": "27a5d0a6",
      "metadata": {
        "papermill": {
          "duration": 0.00584,
          "end_time": "2023-04-24T15:52:27.885307",
          "exception": false,
          "start_time": "2023-04-24T15:52:27.879467",
          "status": "completed"
        },
        "tags": [],
        "id": "27a5d0a6"
      },
      "source": [
        "#### Importing the required packages"
      ]
    },
    {
      "cell_type": "code",
      "source": [
        "!pip install transformers"
      ],
      "metadata": {
        "colab": {
          "base_uri": "https://localhost:8080/"
        },
        "id": "ol8vsUSys-t9",
        "outputId": "5e6dcb39-6a39-46dd-bd1a-5b43399a9213"
      },
      "id": "ol8vsUSys-t9",
      "execution_count": 1,
      "outputs": [
        {
          "output_type": "stream",
          "name": "stdout",
          "text": [
            "Looking in indexes: https://pypi.org/simple, https://us-python.pkg.dev/colab-wheels/public/simple/\n",
            "Collecting transformers\n",
            "  Downloading transformers-4.28.1-py3-none-any.whl (7.0 MB)\n",
            "\u001b[2K     \u001b[90m━━━━━━━━━━━━━━━━━━━━━━━━━━━━━━━━━━━━━━━━\u001b[0m \u001b[32m7.0/7.0 MB\u001b[0m \u001b[31m25.6 MB/s\u001b[0m eta \u001b[36m0:00:00\u001b[0m\n",
            "\u001b[?25hCollecting huggingface-hub<1.0,>=0.11.0\n",
            "  Downloading huggingface_hub-0.14.1-py3-none-any.whl (224 kB)\n",
            "\u001b[2K     \u001b[90m━━━━━━━━━━━━━━━━━━━━━━━━━━━━━━━━━━━━━━\u001b[0m \u001b[32m224.5/224.5 kB\u001b[0m \u001b[31m14.9 MB/s\u001b[0m eta \u001b[36m0:00:00\u001b[0m\n",
            "\u001b[?25hRequirement already satisfied: regex!=2019.12.17 in /usr/local/lib/python3.10/dist-packages (from transformers) (2022.10.31)\n",
            "Collecting tokenizers!=0.11.3,<0.14,>=0.11.1\n",
            "  Downloading tokenizers-0.13.3-cp310-cp310-manylinux_2_17_x86_64.manylinux2014_x86_64.whl (7.8 MB)\n",
            "\u001b[2K     \u001b[90m━━━━━━━━━━━━━━━━━━━━━━━━━━━━━━━━━━━━━━━━\u001b[0m \u001b[32m7.8/7.8 MB\u001b[0m \u001b[31m65.0 MB/s\u001b[0m eta \u001b[36m0:00:00\u001b[0m\n",
            "\u001b[?25hRequirement already satisfied: packaging>=20.0 in /usr/local/lib/python3.10/dist-packages (from transformers) (23.1)\n",
            "Requirement already satisfied: pyyaml>=5.1 in /usr/local/lib/python3.10/dist-packages (from transformers) (6.0)\n",
            "Requirement already satisfied: tqdm>=4.27 in /usr/local/lib/python3.10/dist-packages (from transformers) (4.65.0)\n",
            "Requirement already satisfied: filelock in /usr/local/lib/python3.10/dist-packages (from transformers) (3.12.0)\n",
            "Requirement already satisfied: requests in /usr/local/lib/python3.10/dist-packages (from transformers) (2.27.1)\n",
            "Requirement already satisfied: numpy>=1.17 in /usr/local/lib/python3.10/dist-packages (from transformers) (1.22.4)\n",
            "Requirement already satisfied: fsspec in /usr/local/lib/python3.10/dist-packages (from huggingface-hub<1.0,>=0.11.0->transformers) (2023.4.0)\n",
            "Requirement already satisfied: typing-extensions>=3.7.4.3 in /usr/local/lib/python3.10/dist-packages (from huggingface-hub<1.0,>=0.11.0->transformers) (4.5.0)\n",
            "Requirement already satisfied: urllib3<1.27,>=1.21.1 in /usr/local/lib/python3.10/dist-packages (from requests->transformers) (1.26.15)\n",
            "Requirement already satisfied: idna<4,>=2.5 in /usr/local/lib/python3.10/dist-packages (from requests->transformers) (3.4)\n",
            "Requirement already satisfied: charset-normalizer~=2.0.0 in /usr/local/lib/python3.10/dist-packages (from requests->transformers) (2.0.12)\n",
            "Requirement already satisfied: certifi>=2017.4.17 in /usr/local/lib/python3.10/dist-packages (from requests->transformers) (2022.12.7)\n",
            "Installing collected packages: tokenizers, huggingface-hub, transformers\n",
            "Successfully installed huggingface-hub-0.14.1 tokenizers-0.13.3 transformers-4.28.1\n"
          ]
        }
      ]
    },
    {
      "cell_type": "code",
      "execution_count": 2,
      "id": "e2034d73",
      "metadata": {
        "execution": {
          "iopub.execute_input": "2023-04-24T15:52:27.899387Z",
          "iopub.status.busy": "2023-04-24T15:52:27.898684Z",
          "iopub.status.idle": "2023-04-24T15:52:39.176181Z",
          "shell.execute_reply": "2023-04-24T15:52:39.174932Z"
        },
        "papermill": {
          "duration": 11.287763,
          "end_time": "2023-04-24T15:52:39.179133",
          "exception": false,
          "start_time": "2023-04-24T15:52:27.891370",
          "status": "completed"
        },
        "tags": [],
        "id": "e2034d73"
      },
      "outputs": [],
      "source": [
        "import os, sys, random\n",
        "import datetime, time, copy\n",
        "import torch, warnings\n",
        "\n",
        "import numpy as np\n",
        "import matplotlib.pyplot as plt\n",
        "import torch.optim as optim\n",
        "import torch.nn as nn\n",
        "import transformers\n",
        "\n",
        "from torch.utils.data import DataLoader, Dataset\n",
        "from torch.utils.data import TensorDataset, RandomSampler, SequentialSampler\n",
        "from torch.optim import AdamW\n",
        "from sklearn.metrics import classification_report, accuracy_score\n",
        "from sklearn.metrics import roc_auc_score, f1_score\n",
        "from transformers import BertForSequenceClassification, BertTokenizerFast\n",
        "from transformers import get_linear_schedule_with_warmup\n",
        "from PIL import Image\n",
        "\n",
        "warnings.filterwarnings(\"ignore\")\n",
        "%matplotlib inline"
      ]
    },
    {
      "cell_type": "code",
      "source": [
        "from google.colab import drive\n",
        "drive.mount('/content/drive')"
      ],
      "metadata": {
        "colab": {
          "base_uri": "https://localhost:8080/"
        },
        "id": "U46C_2dPuN6Q",
        "outputId": "d0efa636-3c41-4f6f-f179-616d77f92c1f"
      },
      "id": "U46C_2dPuN6Q",
      "execution_count": 3,
      "outputs": [
        {
          "output_type": "stream",
          "name": "stdout",
          "text": [
            "Mounted at /content/drive\n"
          ]
        }
      ]
    },
    {
      "cell_type": "markdown",
      "id": "695f1f5d",
      "metadata": {
        "papermill": {
          "duration": 0.006016,
          "end_time": "2023-04-24T15:52:39.191581",
          "exception": false,
          "start_time": "2023-04-24T15:52:39.185565",
          "status": "completed"
        },
        "tags": [],
        "id": "695f1f5d"
      },
      "source": [
        "#### Setting the directory of the data"
      ]
    },
    {
      "cell_type": "code",
      "execution_count": 4,
      "id": "14e91bc2",
      "metadata": {
        "execution": {
          "iopub.execute_input": "2023-04-24T15:52:39.206226Z",
          "iopub.status.busy": "2023-04-24T15:52:39.205443Z",
          "iopub.status.idle": "2023-04-24T15:52:39.210003Z",
          "shell.execute_reply": "2023-04-24T15:52:39.209031Z"
        },
        "papermill": {
          "duration": 0.0141,
          "end_time": "2023-04-24T15:52:39.212043",
          "exception": false,
          "start_time": "2023-04-24T15:52:39.197943",
          "status": "completed"
        },
        "tags": [],
        "id": "14e91bc2"
      },
      "outputs": [],
      "source": [
        "data_path = \"/content/drive/MyDrive/data/tweet_data/train_data.csv\""
      ]
    },
    {
      "cell_type": "markdown",
      "id": "becafb83",
      "metadata": {
        "papermill": {
          "duration": 0.00603,
          "end_time": "2023-04-24T15:52:39.224327",
          "exception": false,
          "start_time": "2023-04-24T15:52:39.218297",
          "status": "completed"
        },
        "tags": [],
        "id": "becafb83"
      },
      "source": [
        "##### Checking if Cuda is available"
      ]
    },
    {
      "cell_type": "code",
      "execution_count": 5,
      "id": "9e709b2d",
      "metadata": {
        "execution": {
          "iopub.execute_input": "2023-04-24T15:52:39.239157Z",
          "iopub.status.busy": "2023-04-24T15:52:39.238364Z",
          "iopub.status.idle": "2023-04-24T15:52:39.304509Z",
          "shell.execute_reply": "2023-04-24T15:52:39.303800Z"
        },
        "papermill": {
          "duration": 0.075009,
          "end_time": "2023-04-24T15:52:39.306386",
          "exception": false,
          "start_time": "2023-04-24T15:52:39.231377",
          "status": "completed"
        },
        "tags": [],
        "colab": {
          "base_uri": "https://localhost:8080/"
        },
        "id": "9e709b2d",
        "outputId": "1ad8f2dd-3e49-4c11-8b1b-21486f32e50f"
      },
      "outputs": [
        {
          "output_type": "stream",
          "name": "stdout",
          "text": [
            "Using GPU:  True\n"
          ]
        }
      ],
      "source": [
        "use_gpu = torch.cuda.is_available()\n",
        "print('Using GPU: ', use_gpu)\n",
        "\n",
        "if use_gpu == True:\n",
        "\tdevice = torch.device(\"cuda\")\n",
        "else:\n",
        "\tdevice = torch.device(\"cpu\")"
      ]
    },
    {
      "cell_type": "markdown",
      "id": "1aaaec3e",
      "metadata": {
        "papermill": {
          "duration": 0.005955,
          "end_time": "2023-04-24T15:52:39.318557",
          "exception": false,
          "start_time": "2023-04-24T15:52:39.312602",
          "status": "completed"
        },
        "tags": [],
        "id": "1aaaec3e"
      },
      "source": [
        "##### Setting Random Seed"
      ]
    },
    {
      "cell_type": "code",
      "execution_count": 6,
      "id": "1cd5b063",
      "metadata": {
        "execution": {
          "iopub.execute_input": "2023-04-24T15:52:39.333756Z",
          "iopub.status.busy": "2023-04-24T15:52:39.332165Z",
          "iopub.status.idle": "2023-04-24T15:52:39.340218Z",
          "shell.execute_reply": "2023-04-24T15:52:39.339309Z"
        },
        "papermill": {
          "duration": 0.017713,
          "end_time": "2023-04-24T15:52:39.342398",
          "exception": false,
          "start_time": "2023-04-24T15:52:39.324685",
          "status": "completed"
        },
        "tags": [],
        "id": "1cd5b063"
      },
      "outputs": [],
      "source": [
        "seed_val = 1\n",
        "\n",
        "random.seed(seed_val)\n",
        "np.random.seed(seed_val)\n",
        "torch.manual_seed(seed_val)\n",
        "torch.cuda.manual_seed_all(seed_val)"
      ]
    },
    {
      "cell_type": "markdown",
      "id": "f31bd5f5",
      "metadata": {
        "papermill": {
          "duration": 0.005933,
          "end_time": "2023-04-24T15:52:39.354407",
          "exception": false,
          "start_time": "2023-04-24T15:52:39.348474",
          "status": "completed"
        },
        "tags": [],
        "id": "f31bd5f5"
      },
      "source": [
        "##### Loading the training data"
      ]
    },
    {
      "cell_type": "code",
      "execution_count": 7,
      "id": "f470fa0c",
      "metadata": {
        "execution": {
          "iopub.execute_input": "2023-04-24T15:52:39.367943Z",
          "iopub.status.busy": "2023-04-24T15:52:39.367684Z",
          "iopub.status.idle": "2023-04-24T15:52:43.920866Z",
          "shell.execute_reply": "2023-04-24T15:52:43.919896Z"
        },
        "papermill": {
          "duration": 4.562518,
          "end_time": "2023-04-24T15:52:43.923137",
          "exception": false,
          "start_time": "2023-04-24T15:52:39.360619",
          "status": "completed"
        },
        "tags": [],
        "colab": {
          "base_uri": "https://localhost:8080/"
        },
        "id": "f470fa0c",
        "outputId": "98213adb-b924-43eb-c770-78616e91d09d"
      },
      "outputs": [
        {
          "output_type": "execute_result",
          "data": {
            "text/plain": [
              "(629143, 262143, 157286)"
            ]
          },
          "metadata": {},
          "execution_count": 7
        }
      ],
      "source": [
        "full_train_list = [(i.split(',')[-1], int(i.split(',')[0])//2) \n",
        "              for i in open(data_path, errors='replace').readlines() \n",
        "              if len(i.split(',')[0]) == 1]\n",
        "\n",
        "random.shuffle(full_train_list)\n",
        "\n",
        "train_per = 0.6\n",
        "val_per = 0.25\n",
        "train_num = int(train_per*len(full_train_list))\n",
        "val_num = int(val_per*len(full_train_list))\n",
        "\n",
        "train_list, val_list, test_list = full_train_list[:train_num], full_train_list[train_num:train_num+val_num], full_train_list[train_num+val_num:]\n",
        "\n",
        "len(train_list), len(val_list), len(test_list)"
      ]
    },
    {
      "cell_type": "code",
      "source": [
        "red = 0.1\n",
        "\n",
        "random.shuffle(train_list)\n",
        "train_list = train_list[:int(len(train_list)*red)]\n",
        "\n",
        "random.shuffle(val_list)\n",
        "val_list = val_list[:int(len(val_list)*red)]\n",
        "\n",
        "random.shuffle(test_list)\n",
        "test_list = test_list[:int(len(test_list)*red)]\n",
        "\n",
        "len(train_list), len(val_list), len(test_list)"
      ],
      "metadata": {
        "colab": {
          "base_uri": "https://localhost:8080/"
        },
        "id": "XFbkckKZtXsW",
        "outputId": "85cdfa7f-47c5-41b2-c75f-b0539d987248"
      },
      "id": "XFbkckKZtXsW",
      "execution_count": 8,
      "outputs": [
        {
          "output_type": "execute_result",
          "data": {
            "text/plain": [
              "(62914, 26214, 15728)"
            ]
          },
          "metadata": {},
          "execution_count": 8
        }
      ]
    },
    {
      "cell_type": "markdown",
      "id": "6ca32d37",
      "metadata": {
        "papermill": {
          "duration": 0.006303,
          "end_time": "2023-04-24T15:52:43.935951",
          "exception": false,
          "start_time": "2023-04-24T15:52:43.929648",
          "status": "completed"
        },
        "tags": [],
        "id": "6ca32d37"
      },
      "source": [
        "##### Seperating Text and Labels"
      ]
    },
    {
      "cell_type": "code",
      "execution_count": 9,
      "id": "52625735",
      "metadata": {
        "execution": {
          "iopub.execute_input": "2023-04-24T15:52:43.949666Z",
          "iopub.status.busy": "2023-04-24T15:52:43.949361Z",
          "iopub.status.idle": "2023-04-24T15:52:44.323861Z",
          "shell.execute_reply": "2023-04-24T15:52:44.322783Z"
        },
        "papermill": {
          "duration": 0.384383,
          "end_time": "2023-04-24T15:52:44.326548",
          "exception": false,
          "start_time": "2023-04-24T15:52:43.942165",
          "status": "completed"
        },
        "tags": [],
        "id": "52625735"
      },
      "outputs": [],
      "source": [
        "train_x, train_y = [i[0] for i in train_list], [i[1] for i in train_list]\n",
        "val_x, val_y = [i[0] for i in val_list], [i[1] for i in val_list]\n",
        "test_x, test_y = [i[0] for i in test_list], [i[1] for i in test_list]"
      ]
    },
    {
      "cell_type": "markdown",
      "id": "dd798002",
      "metadata": {
        "papermill": {
          "duration": 0.006873,
          "end_time": "2023-04-24T15:52:44.341029",
          "exception": false,
          "start_time": "2023-04-24T15:52:44.334156",
          "status": "completed"
        },
        "tags": [],
        "id": "dd798002"
      },
      "source": [
        "##### Loading Bert Model and Tokenizer"
      ]
    },
    {
      "cell_type": "code",
      "execution_count": 10,
      "id": "6bd306b0",
      "metadata": {
        "execution": {
          "iopub.execute_input": "2023-04-24T15:52:44.356562Z",
          "iopub.status.busy": "2023-04-24T15:52:44.354773Z",
          "iopub.status.idle": "2023-04-24T15:52:49.836748Z",
          "shell.execute_reply": "2023-04-24T15:52:49.835759Z"
        },
        "papermill": {
          "duration": 5.491729,
          "end_time": "2023-04-24T15:52:49.839054",
          "exception": false,
          "start_time": "2023-04-24T15:52:44.347325",
          "status": "completed"
        },
        "tags": [],
        "colab": {
          "base_uri": "https://localhost:8080/",
          "height": 284,
          "referenced_widgets": [
            "972300dc47b84510971d4febbbad9216",
            "d3c8fd88f4cd4ae2b8112ee24aa5150c",
            "898885c321ef4a1aa3b13fff6ee95387",
            "fbd18360770240f1a9e8c808db084b17",
            "da9d37384f7845ac974767361d7db01b",
            "19619eb5836548e1a3b599e6e06de62a",
            "5943e51a031f419cabdbba42a6656f39",
            "76526b67bd36437283bb573e83ef135f",
            "533ed1d6e7e7449c8454d69a80286fb7",
            "03ff3301a8ef404390dab04a90f654bb",
            "45153af8fa2f4daaa6103b52c2451c74",
            "c0ae96d2e49546deb4130e73bf35e187",
            "47abb629aa9844128fa9f69433796005",
            "c49f503f3786488ea3af1ecf173e030d",
            "c4733b72ce1541719e00570831d4d4cf",
            "1b1b697a72b841829a10cdb070818fe6",
            "f0837d17fa08480fb9612f166c80215f",
            "154aa6ad6c9148f5881083f0afc870f0",
            "0f38fb369f6d47f3a90735f02c632b6c",
            "0e088475631548e08dc8d32f934a63b1",
            "e60fac3200b04ec9a30c38df50b9ec27",
            "0d4daf08160e4deabbaee69cc34fa06e",
            "b91aac73c60c405b918cc1fc821c36bc",
            "e19489f989b0479bb6f71805e92adff5",
            "5a054d62f50343a0891a38597fae783b",
            "3b18516772164b37a4226b5e4a8fb0f5",
            "aa26d93f35e64990bfa8fac5049b963b",
            "d5766b9ede7a4f4eb5ad4fd3e0939145",
            "d6b9c05228e140a89cfb55b1130af0d9",
            "ec3a4ad782724ac59776b3c522d4b9f0",
            "9be80f43e1ec4e959c9e825958b4d4b5",
            "9f65e93a75194659bdbfb1ce6551b0fc",
            "3f9a890493fd4f1ea477c23dcc929ecf",
            "e555f184d7544de5a3290cb798dc7ce8",
            "814b344516e3400fa0867028c78fb89f",
            "08b7ef3ad3b94e2786597c095e6fcb63",
            "e1ab87595da9494988a8f9af4c119622",
            "f9c24db0f0ae4c0da123771b1334eb5b",
            "9f546b9bb0494969ad6b3245ed61d3ca",
            "d0e8a7a6630246fb8ee26d793d970934",
            "7430decbd82743b38fbf048be8fcc978",
            "251ad3325e7044a3ab16c5d54ff76232",
            "987878970f8149ae9a16fb959e6bddf9",
            "16a2f8d97ec94cdcadd09fe47b8ae31f",
            "ced1312317e54e83b697f7db94b6f8be",
            "ff49957528ef4c6a9732ef764ec08704",
            "c6c67ce8580b4f04a1898b5f45e98d16",
            "3317084f7e8e4ea396b391caef69c81a",
            "e7becbadab9b40549141a8c2cb3dffb5",
            "58741213cd21482f85995f977deb4a2b",
            "d982a31e9d4147f190862a290e685283",
            "7de6a10eec3f42d884fb894e637cfd2e",
            "8126d522c26b4c4085ea6fc0141038ba",
            "b8c9b2d151794f6eb5bc75482decf953",
            "95d82760436a4f96852d571a476ad70c"
          ]
        },
        "id": "6bd306b0",
        "outputId": "896bc83b-a485-430c-d700-9e30a83b3223"
      },
      "outputs": [
        {
          "output_type": "display_data",
          "data": {
            "text/plain": [
              "Downloading (…)lve/main/config.json:   0%|          | 0.00/570 [00:00<?, ?B/s]"
            ],
            "application/vnd.jupyter.widget-view+json": {
              "version_major": 2,
              "version_minor": 0,
              "model_id": "972300dc47b84510971d4febbbad9216"
            }
          },
          "metadata": {}
        },
        {
          "output_type": "display_data",
          "data": {
            "text/plain": [
              "Downloading pytorch_model.bin:   0%|          | 0.00/440M [00:00<?, ?B/s]"
            ],
            "application/vnd.jupyter.widget-view+json": {
              "version_major": 2,
              "version_minor": 0,
              "model_id": "c0ae96d2e49546deb4130e73bf35e187"
            }
          },
          "metadata": {}
        },
        {
          "output_type": "stream",
          "name": "stderr",
          "text": [
            "Some weights of the model checkpoint at bert-base-uncased were not used when initializing BertForSequenceClassification: ['cls.predictions.transform.LayerNorm.weight', 'cls.seq_relationship.bias', 'cls.predictions.bias', 'cls.predictions.transform.dense.bias', 'cls.seq_relationship.weight', 'cls.predictions.decoder.weight', 'cls.predictions.transform.LayerNorm.bias', 'cls.predictions.transform.dense.weight']\n",
            "- This IS expected if you are initializing BertForSequenceClassification from the checkpoint of a model trained on another task or with another architecture (e.g. initializing a BertForSequenceClassification model from a BertForPreTraining model).\n",
            "- This IS NOT expected if you are initializing BertForSequenceClassification from the checkpoint of a model that you expect to be exactly identical (initializing a BertForSequenceClassification model from a BertForSequenceClassification model).\n",
            "Some weights of BertForSequenceClassification were not initialized from the model checkpoint at bert-base-uncased and are newly initialized: ['classifier.bias', 'classifier.weight']\n",
            "You should probably TRAIN this model on a down-stream task to be able to use it for predictions and inference.\n"
          ]
        },
        {
          "output_type": "display_data",
          "data": {
            "text/plain": [
              "Downloading (…)okenizer_config.json:   0%|          | 0.00/28.0 [00:00<?, ?B/s]"
            ],
            "application/vnd.jupyter.widget-view+json": {
              "version_major": 2,
              "version_minor": 0,
              "model_id": "b91aac73c60c405b918cc1fc821c36bc"
            }
          },
          "metadata": {}
        },
        {
          "output_type": "display_data",
          "data": {
            "text/plain": [
              "Downloading (…)solve/main/vocab.txt:   0%|          | 0.00/232k [00:00<?, ?B/s]"
            ],
            "application/vnd.jupyter.widget-view+json": {
              "version_major": 2,
              "version_minor": 0,
              "model_id": "e555f184d7544de5a3290cb798dc7ce8"
            }
          },
          "metadata": {}
        },
        {
          "output_type": "display_data",
          "data": {
            "text/plain": [
              "Downloading (…)/main/tokenizer.json:   0%|          | 0.00/466k [00:00<?, ?B/s]"
            ],
            "application/vnd.jupyter.widget-view+json": {
              "version_major": 2,
              "version_minor": 0,
              "model_id": "ced1312317e54e83b697f7db94b6f8be"
            }
          },
          "metadata": {}
        }
      ],
      "source": [
        "# Load BertForSequenceClassification, the pretrained BERT model with a single \n",
        "# linear classification layer on top. \n",
        "model = BertForSequenceClassification.from_pretrained(\n",
        "    \"bert-base-uncased\", # Use the 12-layer BERT model, with an uncased vocab.\n",
        "    num_labels = 3, # The number of output labels--3 for pos/neu/neg classification.\n",
        "    output_attentions = False, # Whether the model returns attentions weights.\n",
        "    output_hidden_states = False, # Whether the model returns all hidden-states.\n",
        ")\n",
        "\n",
        "# BERT Uncased Tokenizer\n",
        "tokenizer = BertTokenizerFast.from_pretrained('bert-base-uncased', do_lower_case=True)"
      ]
    },
    {
      "cell_type": "markdown",
      "id": "ad90dcc9",
      "metadata": {
        "papermill": {
          "duration": 0.007505,
          "end_time": "2023-04-24T15:52:49.854574",
          "exception": false,
          "start_time": "2023-04-24T15:52:49.847069",
          "status": "completed"
        },
        "tags": [],
        "id": "ad90dcc9"
      },
      "source": [
        "##### Visualizing the lengths of sentences"
      ]
    },
    {
      "cell_type": "code",
      "execution_count": 11,
      "id": "defc2059",
      "metadata": {
        "execution": {
          "iopub.execute_input": "2023-04-24T15:52:49.870434Z",
          "iopub.status.busy": "2023-04-24T15:52:49.870122Z",
          "iopub.status.idle": "2023-04-24T15:52:52.890278Z",
          "shell.execute_reply": "2023-04-24T15:52:52.889272Z"
        },
        "papermill": {
          "duration": 3.03049,
          "end_time": "2023-04-24T15:52:52.892463",
          "exception": false,
          "start_time": "2023-04-24T15:52:49.861973",
          "status": "completed"
        },
        "tags": [],
        "colab": {
          "base_uri": "https://localhost:8080/",
          "height": 430
        },
        "id": "defc2059",
        "outputId": "8c667cc6-c12d-453a-ee72-4595b41eed9a"
      },
      "outputs": [
        {
          "output_type": "display_data",
          "data": {
            "text/plain": [
              "<Figure size 640x480 with 1 Axes>"
            ],
            "image/png": "[encoded data removed]"
          },
          "metadata": {}
        }
      ],
      "source": [
        "seq_len = [len(i.split()) for i in train_x]\n",
        "\n",
        "plt.hist(seq_len)\n",
        "plt.show()"
      ]
    },
    {
      "cell_type": "markdown",
      "id": "4c8e00ea",
      "metadata": {
        "papermill": {
          "duration": 0.007305,
          "end_time": "2023-04-24T15:52:52.907408",
          "exception": false,
          "start_time": "2023-04-24T15:52:52.900103",
          "status": "completed"
        },
        "tags": [],
        "id": "4c8e00ea"
      },
      "source": [
        "##### Padding with length 30 and tokenizing all texts"
      ]
    },
    {
      "cell_type": "code",
      "execution_count": 12,
      "id": "6afb7b2a",
      "metadata": {
        "execution": {
          "iopub.execute_input": "2023-04-24T15:52:52.924016Z",
          "iopub.status.busy": "2023-04-24T15:52:52.923441Z",
          "iopub.status.idle": "2023-04-24T15:54:09.888061Z",
          "shell.execute_reply": "2023-04-24T15:54:09.886957Z"
        },
        "papermill": {
          "duration": 76.97629,
          "end_time": "2023-04-24T15:54:09.890977",
          "exception": false,
          "start_time": "2023-04-24T15:52:52.914687",
          "status": "completed"
        },
        "tags": [],
        "id": "6afb7b2a"
      },
      "outputs": [],
      "source": [
        "# tokenize and encode sequences in the training set\n",
        "tokens_train = tokenizer.batch_encode_plus(\n",
        "    train_x,\n",
        "    max_length = 30,\n",
        "    padding='max_length',\n",
        "    truncation=True\n",
        ")\n",
        "\n",
        "# tokenize and encode sequences in the validation set\n",
        "tokens_val = tokenizer.batch_encode_plus(\n",
        "    val_x,\n",
        "    max_length = 30,\n",
        "    padding='max_length',\n",
        "    truncation=True\n",
        ")\n",
        "\n",
        "# tokenize and encode sequences in the test set\n",
        "tokens_test = tokenizer.batch_encode_plus(\n",
        "    test_x,\n",
        "    max_length = 30,\n",
        "    padding='max_length',\n",
        "    truncation=True\n",
        ")"
      ]
    },
    {
      "cell_type": "markdown",
      "id": "015e7d6b",
      "metadata": {
        "papermill": {
          "duration": 0.007284,
          "end_time": "2023-04-24T15:54:09.906231",
          "exception": false,
          "start_time": "2023-04-24T15:54:09.898947",
          "status": "completed"
        },
        "tags": [],
        "id": "015e7d6b"
      },
      "source": [
        "##### Converting Sequences, Attention Masks to Tensors"
      ]
    },
    {
      "cell_type": "code",
      "execution_count": 13,
      "id": "a997b953",
      "metadata": {
        "execution": {
          "iopub.execute_input": "2023-04-24T15:54:09.922446Z",
          "iopub.status.busy": "2023-04-24T15:54:09.922118Z",
          "iopub.status.idle": "2023-04-24T15:54:14.087824Z",
          "shell.execute_reply": "2023-04-24T15:54:14.086758Z"
        },
        "papermill": {
          "duration": 4.177062,
          "end_time": "2023-04-24T15:54:14.090732",
          "exception": false,
          "start_time": "2023-04-24T15:54:09.913670",
          "status": "completed"
        },
        "tags": [],
        "id": "a997b953"
      },
      "outputs": [],
      "source": [
        "train_seq = torch.tensor(tokens_train['input_ids'])\n",
        "train_mask = torch.tensor(tokens_train['attention_mask'])\n",
        "train_y = torch.tensor(train_y)\n",
        "\n",
        "val_seq = torch.tensor(tokens_val['input_ids'])\n",
        "val_mask = torch.tensor(tokens_val['attention_mask'])\n",
        "val_y = torch.tensor(val_y)\n",
        "\n",
        "test_seq = torch.tensor(tokens_test['input_ids'])\n",
        "test_mask = torch.tensor(tokens_test['attention_mask'])\n",
        "test_y = torch.tensor(test_y)"
      ]
    },
    {
      "cell_type": "markdown",
      "id": "3642d9e9",
      "metadata": {
        "papermill": {
          "duration": 0.007264,
          "end_time": "2023-04-24T15:54:14.105836",
          "exception": false,
          "start_time": "2023-04-24T15:54:14.098572",
          "status": "completed"
        },
        "tags": [],
        "id": "3642d9e9"
      },
      "source": [
        "##### Creating DataLoader objects"
      ]
    },
    {
      "cell_type": "code",
      "execution_count": 14,
      "id": "c0b3a1e3",
      "metadata": {
        "execution": {
          "iopub.execute_input": "2023-04-24T15:54:14.121992Z",
          "iopub.status.busy": "2023-04-24T15:54:14.121693Z",
          "iopub.status.idle": "2023-04-24T15:54:14.128203Z",
          "shell.execute_reply": "2023-04-24T15:54:14.127303Z"
        },
        "papermill": {
          "duration": 0.017166,
          "end_time": "2023-04-24T15:54:14.130359",
          "exception": false,
          "start_time": "2023-04-24T15:54:14.113193",
          "status": "completed"
        },
        "tags": [],
        "id": "c0b3a1e3"
      },
      "outputs": [],
      "source": [
        "batch_size = 32\n",
        "\n",
        "# Warping, sampling the training data and creating dataLoader object\n",
        "train_data = TensorDataset(train_seq, train_mask, train_y)\n",
        "train_sampler = RandomSampler(train_data)\n",
        "train_dataloader = DataLoader(train_data, sampler=train_sampler, batch_size=batch_size)\n",
        "\n",
        "# Warping, sampling the validation data and creating dataLoader object\n",
        "val_data = TensorDataset(val_seq, val_mask, val_y)\n",
        "val_sampler = SequentialSampler(val_data)\n",
        "val_dataloader = DataLoader(val_data, sampler = val_sampler, batch_size=batch_size)"
      ]
    },
    {
      "cell_type": "markdown",
      "id": "632c35be",
      "metadata": {
        "papermill": {
          "duration": 0.007351,
          "end_time": "2023-04-24T15:54:14.145012",
          "exception": false,
          "start_time": "2023-04-24T15:54:14.137661",
          "status": "completed"
        },
        "tags": [],
        "id": "632c35be"
      },
      "source": [
        "##### Printing the Model to look under the hood"
      ]
    },
    {
      "cell_type": "code",
      "execution_count": 15,
      "id": "1cbd78f8",
      "metadata": {
        "execution": {
          "iopub.execute_input": "2023-04-24T15:54:14.160974Z",
          "iopub.status.busy": "2023-04-24T15:54:14.160706Z",
          "iopub.status.idle": "2023-04-24T15:54:18.884616Z",
          "shell.execute_reply": "2023-04-24T15:54:18.883420Z"
        },
        "papermill": {
          "duration": 4.734251,
          "end_time": "2023-04-24T15:54:18.886713",
          "exception": false,
          "start_time": "2023-04-24T15:54:14.152462",
          "status": "completed"
        },
        "tags": [],
        "colab": {
          "base_uri": "https://localhost:8080/"
        },
        "id": "1cbd78f8",
        "outputId": "231cfd02-dfb6-437e-ff0d-e17e22c0c484"
      },
      "outputs": [
        {
          "output_type": "stream",
          "name": "stdout",
          "text": [
            "BertForSequenceClassification(\n",
            "  (bert): BertModel(\n",
            "    (embeddings): BertEmbeddings(\n",
            "      (word_embeddings): Embedding(30522, 768, padding_idx=0)\n",
            "      (position_embeddings): Embedding(512, 768)\n",
            "      (token_type_embeddings): Embedding(2, 768)\n",
            "      (LayerNorm): LayerNorm((768,), eps=1e-12, elementwise_affine=True)\n",
            "      (dropout): Dropout(p=0.1, inplace=False)\n",
            "    )\n",
            "    (encoder): BertEncoder(\n",
            "      (layer): ModuleList(\n",
            "        (0-11): 12 x BertLayer(\n",
            "          (attention): BertAttention(\n",
            "            (self): BertSelfAttention(\n",
            "              (query): Linear(in_features=768, out_features=768, bias=True)\n",
            "              (key): Linear(in_features=768, out_features=768, bias=True)\n",
            "              (value): Linear(in_features=768, out_features=768, bias=True)\n",
            "              (dropout): Dropout(p=0.1, inplace=False)\n",
            "            )\n",
            "            (output): BertSelfOutput(\n",
            "              (dense): Linear(in_features=768, out_features=768, bias=True)\n",
            "              (LayerNorm): LayerNorm((768,), eps=1e-12, elementwise_affine=True)\n",
            "              (dropout): Dropout(p=0.1, inplace=False)\n",
            "            )\n",
            "          )\n",
            "          (intermediate): BertIntermediate(\n",
            "            (dense): Linear(in_features=768, out_features=3072, bias=True)\n",
            "            (intermediate_act_fn): GELUActivation()\n",
            "          )\n",
            "          (output): BertOutput(\n",
            "            (dense): Linear(in_features=3072, out_features=768, bias=True)\n",
            "            (LayerNorm): LayerNorm((768,), eps=1e-12, elementwise_affine=True)\n",
            "            (dropout): Dropout(p=0.1, inplace=False)\n",
            "          )\n",
            "        )\n",
            "      )\n",
            "    )\n",
            "    (pooler): BertPooler(\n",
            "      (dense): Linear(in_features=768, out_features=768, bias=True)\n",
            "      (activation): Tanh()\n",
            "    )\n",
            "  )\n",
            "  (dropout): Dropout(p=0.1, inplace=False)\n",
            "  (classifier): Linear(in_features=768, out_features=3, bias=True)\n",
            ")\n"
          ]
        }
      ],
      "source": [
        "model.to(device)\n",
        "print(model)"
      ]
    },
    {
      "cell_type": "markdown",
      "id": "6f23af88",
      "metadata": {
        "papermill": {
          "duration": 0.007553,
          "end_time": "2023-04-24T15:54:18.902584",
          "exception": false,
          "start_time": "2023-04-24T15:54:18.895031",
          "status": "completed"
        },
        "tags": [],
        "id": "6f23af88"
      },
      "source": [
        "##### The last 'classifier' layer has been intiated with un-trained weights"
      ]
    },
    {
      "cell_type": "markdown",
      "id": "3ceec320",
      "metadata": {
        "papermill": {
          "duration": 0.007377,
          "end_time": "2023-04-24T15:54:18.917833",
          "exception": false,
          "start_time": "2023-04-24T15:54:18.910456",
          "status": "completed"
        },
        "tags": [],
        "id": "3ceec320"
      },
      "source": [
        "##### Defining optimizer parameters for training"
      ]
    },
    {
      "cell_type": "code",
      "execution_count": 16,
      "id": "beee4315",
      "metadata": {
        "execution": {
          "iopub.execute_input": "2023-04-24T15:54:18.934927Z",
          "iopub.status.busy": "2023-04-24T15:54:18.934056Z",
          "iopub.status.idle": "2023-04-24T15:54:18.940242Z",
          "shell.execute_reply": "2023-04-24T15:54:18.939293Z"
        },
        "papermill": {
          "duration": 0.016677,
          "end_time": "2023-04-24T15:54:18.942242",
          "exception": false,
          "start_time": "2023-04-24T15:54:18.925565",
          "status": "completed"
        },
        "tags": [],
        "id": "beee4315"
      },
      "outputs": [],
      "source": [
        "# Note: AdamW is a class from the huggingface library (as opposed to pytorch) \n",
        "# 'W' stands for 'Weight Decay fix\"\n",
        "optimizer = AdamW(model.parameters(),\n",
        "                  lr = 5e-5, \n",
        "                  eps = 1e-8 # args.adam_epsilon  - default is 1e-8.\n",
        "                )\n"
      ]
    },
    {
      "cell_type": "markdown",
      "id": "4b0a3206",
      "metadata": {
        "papermill": {
          "duration": 0.007455,
          "end_time": "2023-04-24T15:54:18.957343",
          "exception": false,
          "start_time": "2023-04-24T15:54:18.949888",
          "status": "completed"
        },
        "tags": [],
        "id": "4b0a3206"
      },
      "source": [
        "##### Scheduler parameters for training"
      ]
    },
    {
      "cell_type": "code",
      "execution_count": 17,
      "id": "4713e268",
      "metadata": {
        "execution": {
          "iopub.execute_input": "2023-04-24T15:54:18.973708Z",
          "iopub.status.busy": "2023-04-24T15:54:18.973436Z",
          "iopub.status.idle": "2023-04-24T15:54:18.978543Z",
          "shell.execute_reply": "2023-04-24T15:54:18.977514Z"
        },
        "papermill": {
          "duration": 0.015723,
          "end_time": "2023-04-24T15:54:18.980688",
          "exception": false,
          "start_time": "2023-04-24T15:54:18.964965",
          "status": "completed"
        },
        "tags": [],
        "id": "4713e268"
      },
      "outputs": [],
      "source": [
        "epochs = 3\n",
        "\n",
        "# Total number of training steps is [number of batches] x [number of epochs]. \n",
        "total_steps = len(train_dataloader) * epochs\n",
        "\n",
        "# Create the learning rate scheduler.\n",
        "scheduler = get_linear_schedule_with_warmup(optimizer, \n",
        "                                            num_warmup_steps = 0, # Default value in run_glue.py\n",
        "                                            num_training_steps = total_steps)"
      ]
    },
    {
      "cell_type": "markdown",
      "id": "1e40cdcf",
      "metadata": {
        "papermill": {
          "duration": 0.007519,
          "end_time": "2023-04-24T15:54:18.995900",
          "exception": false,
          "start_time": "2023-04-24T15:54:18.988381",
          "status": "completed"
        },
        "tags": [],
        "id": "1e40cdcf"
      },
      "source": [
        "##### Defining a helper function"
      ]
    },
    {
      "cell_type": "code",
      "execution_count": 18,
      "id": "c936db9b",
      "metadata": {
        "execution": {
          "iopub.execute_input": "2023-04-24T15:54:19.012577Z",
          "iopub.status.busy": "2023-04-24T15:54:19.012313Z",
          "iopub.status.idle": "2023-04-24T15:54:19.018138Z",
          "shell.execute_reply": "2023-04-24T15:54:19.017085Z"
        },
        "papermill": {
          "duration": 0.016402,
          "end_time": "2023-04-24T15:54:19.020282",
          "exception": false,
          "start_time": "2023-04-24T15:54:19.003880",
          "status": "completed"
        },
        "tags": [],
        "id": "c936db9b"
      },
      "outputs": [],
      "source": [
        "# Function to calculate the accuracy of our predictions vs labels\n",
        "def flat_accuracy(preds, labels):\n",
        "    pred_flat = np.argmax(preds, axis=1).flatten()\n",
        "    labels_flat = labels.flatten()\n",
        "    return np.sum(pred_flat == labels_flat) / len(labels_flat)\n",
        "\n",
        "def format_time(elapsed):\n",
        "    '''\n",
        "    Takes a time in seconds and returns a string hh:mm:ss\n",
        "    '''\n",
        "    # Round to the nearest second.\n",
        "    elapsed_rounded = int(round((elapsed)))\n",
        "    \n",
        "    # Format as hh:mm:ss\n",
        "    return str(datetime.timedelta(seconds=elapsed_rounded))"
      ]
    },
    {
      "cell_type": "markdown",
      "id": "ccc1d529",
      "metadata": {
        "papermill": {
          "duration": 0.007499,
          "end_time": "2023-04-24T15:54:19.035419",
          "exception": false,
          "start_time": "2023-04-24T15:54:19.027920",
          "status": "completed"
        },
        "tags": [],
        "id": "ccc1d529"
      },
      "source": [
        "##### Training"
      ]
    },
    {
      "cell_type": "code",
      "execution_count": 19,
      "id": "ef1ea4f5",
      "metadata": {
        "execution": {
          "iopub.execute_input": "2023-04-24T15:54:19.052168Z",
          "iopub.status.busy": "2023-04-24T15:54:19.051909Z",
          "iopub.status.idle": "2023-04-24T18:51:09.698557Z",
          "shell.execute_reply": "2023-04-24T18:51:09.697411Z"
        },
        "papermill": {
          "duration": 10610.705852,
          "end_time": "2023-04-24T18:51:09.748931",
          "exception": false,
          "start_time": "2023-04-24T15:54:19.043079",
          "status": "completed"
        },
        "tags": [],
        "colab": {
          "base_uri": "https://localhost:8080/"
        },
        "id": "ef1ea4f5",
        "outputId": "62459556-c2e6-480b-a65b-95bd03256126"
      },
      "outputs": [
        {
          "output_type": "stream",
          "name": "stdout",
          "text": [
            "\n",
            "======== Epoch 1 / 3 ========\n",
            "Training...\n",
            "  Batch   100  of  1,967.    Elapsed: 0:00:21.\n",
            "  Batch   200  of  1,967.    Elapsed: 0:00:39.\n",
            "  Batch   300  of  1,967.    Elapsed: 0:00:58.\n",
            "  Batch   400  of  1,967.    Elapsed: 0:01:18.\n",
            "  Batch   500  of  1,967.    Elapsed: 0:01:37.\n",
            "  Batch   600  of  1,967.    Elapsed: 0:01:56.\n",
            "  Batch   700  of  1,967.    Elapsed: 0:02:15.\n",
            "  Batch   800  of  1,967.    Elapsed: 0:02:35.\n",
            "  Batch   900  of  1,967.    Elapsed: 0:02:54.\n",
            "  Batch 1,000  of  1,967.    Elapsed: 0:03:13.\n",
            "  Batch 1,100  of  1,967.    Elapsed: 0:03:33.\n",
            "  Batch 1,200  of  1,967.    Elapsed: 0:03:52.\n",
            "  Batch 1,300  of  1,967.    Elapsed: 0:04:11.\n",
            "  Batch 1,400  of  1,967.    Elapsed: 0:04:31.\n",
            "  Batch 1,500  of  1,967.    Elapsed: 0:04:50.\n",
            "  Batch 1,600  of  1,967.    Elapsed: 0:05:10.\n",
            "  Batch 1,700  of  1,967.    Elapsed: 0:05:29.\n",
            "  Batch 1,800  of  1,967.    Elapsed: 0:05:48.\n",
            "  Batch 1,900  of  1,967.    Elapsed: 0:06:08.\n",
            "\n",
            "  Average training loss: 0.36\n",
            "  Training epcoh took: 0:06:21\n",
            "\n",
            "Running Validation...\n",
            "  Accuracy: 0.85\n",
            "  Validation Loss: 0.36\n",
            "  Validation took: 0:00:47\n",
            "\n",
            "======== Epoch 2 / 3 ========\n",
            "Training...\n",
            "  Batch   100  of  1,967.    Elapsed: 0:00:20.\n",
            "  Batch   200  of  1,967.    Elapsed: 0:00:40.\n",
            "  Batch   300  of  1,967.    Elapsed: 0:00:59.\n",
            "  Batch   400  of  1,967.    Elapsed: 0:01:19.\n",
            "  Batch   500  of  1,967.    Elapsed: 0:01:38.\n",
            "  Batch   600  of  1,967.    Elapsed: 0:01:57.\n",
            "  Batch   700  of  1,967.    Elapsed: 0:02:17.\n",
            "  Batch   800  of  1,967.    Elapsed: 0:02:36.\n",
            "  Batch   900  of  1,967.    Elapsed: 0:02:55.\n",
            "  Batch 1,000  of  1,967.    Elapsed: 0:03:15.\n",
            "  Batch 1,100  of  1,967.    Elapsed: 0:03:34.\n",
            "  Batch 1,200  of  1,967.    Elapsed: 0:03:53.\n",
            "  Batch 1,300  of  1,967.    Elapsed: 0:04:13.\n",
            "  Batch 1,400  of  1,967.    Elapsed: 0:04:32.\n",
            "  Batch 1,500  of  1,967.    Elapsed: 0:04:52.\n",
            "  Batch 1,600  of  1,967.    Elapsed: 0:05:11.\n",
            "  Batch 1,700  of  1,967.    Elapsed: 0:05:30.\n",
            "  Batch 1,800  of  1,967.    Elapsed: 0:05:49.\n",
            "  Batch 1,900  of  1,967.    Elapsed: 0:06:09.\n",
            "\n",
            "  Average training loss: 0.24\n",
            "  Training epcoh took: 0:06:22\n",
            "\n",
            "Running Validation...\n",
            "  Accuracy: 0.86\n",
            "  Validation Loss: 0.36\n",
            "  Validation took: 0:00:46\n",
            "\n",
            "======== Epoch 3 / 3 ========\n",
            "Training...\n",
            "  Batch   100  of  1,967.    Elapsed: 0:00:19.\n",
            "  Batch   200  of  1,967.    Elapsed: 0:00:39.\n",
            "  Batch   300  of  1,967.    Elapsed: 0:00:58.\n",
            "  Batch   400  of  1,967.    Elapsed: 0:01:17.\n",
            "  Batch   500  of  1,967.    Elapsed: 0:01:37.\n",
            "  Batch   600  of  1,967.    Elapsed: 0:01:56.\n",
            "  Batch   700  of  1,967.    Elapsed: 0:02:15.\n",
            "  Batch   800  of  1,967.    Elapsed: 0:02:35.\n",
            "  Batch   900  of  1,967.    Elapsed: 0:02:54.\n",
            "  Batch 1,000  of  1,967.    Elapsed: 0:03:13.\n",
            "  Batch 1,100  of  1,967.    Elapsed: 0:03:32.\n",
            "  Batch 1,200  of  1,967.    Elapsed: 0:03:52.\n",
            "  Batch 1,300  of  1,967.    Elapsed: 0:04:11.\n",
            "  Batch 1,400  of  1,967.    Elapsed: 0:04:30.\n",
            "  Batch 1,500  of  1,967.    Elapsed: 0:04:50.\n",
            "  Batch 1,600  of  1,967.    Elapsed: 0:05:09.\n",
            "  Batch 1,700  of  1,967.    Elapsed: 0:05:28.\n",
            "  Batch 1,800  of  1,967.    Elapsed: 0:05:48.\n",
            "  Batch 1,900  of  1,967.    Elapsed: 0:06:07.\n",
            "\n",
            "  Average training loss: 0.12\n",
            "  Training epcoh took: 0:06:20\n",
            "\n",
            "Running Validation...\n",
            "  Accuracy: 0.86\n",
            "  Validation Loss: 0.53\n",
            "  Validation took: 0:00:46\n",
            "\n",
            "Training complete!\n",
            "Total training took 0:21:22 (h:mm:ss)\n"
          ]
        }
      ],
      "source": [
        "# We'll store a number of quantities such as training and validation loss, \n",
        "# validation accuracy, and timings.\n",
        "training_stats = []\n",
        "\n",
        "# Measure the total training time for the whole run.\n",
        "total_t0 = time.time()\n",
        "\n",
        "# For each epoch...\n",
        "for epoch_i in range(0, epochs):\n",
        "    \n",
        "    # ========================================\n",
        "    #               Training\n",
        "    # ========================================\n",
        "    \n",
        "    # Perform one full pass over the training set.\n",
        "\n",
        "    print(\"\")\n",
        "    print('======== Epoch {:} / {:} ========'.format(epoch_i + 1, epochs))\n",
        "    print('Training...')\n",
        "\n",
        "    # Measure how long the training epoch takes.\n",
        "    t0 = time.time()\n",
        "\n",
        "    # Reset the total loss for this epoch.\n",
        "    total_train_loss = 0\n",
        "\n",
        "    # Put the model into training mode. \n",
        "    model.train()\n",
        "\n",
        "    # For each batch of training data...\n",
        "    for step, batch in enumerate(train_dataloader):\n",
        "\n",
        "        # Progress update every 40 batches.\n",
        "        if step % 100 == 0 and not step == 0:\n",
        "            # Calculate elapsed time in minutes.\n",
        "            elapsed = format_time(time.time() - t0)\n",
        "            \n",
        "            # Report progress.\n",
        "            print('  Batch {:>5,}  of  {:>5,}.    Elapsed: {:}.'.format(step, len(train_dataloader), elapsed))\n",
        "\n",
        "        # Unpack this training batch from our dataloader. \n",
        "        # \n",
        "        # `batch` contains three pytorch tensors:\n",
        "        #   [0]: input ids \n",
        "        #   [1]: attention masks\n",
        "        #   [2]: labels \n",
        "        b_input_ids = batch[0].to(device)\n",
        "        b_input_mask = batch[1].to(device)\n",
        "        b_labels = batch[2].to(device)\n",
        "\n",
        "        # Clear Gradients\n",
        "        model.zero_grad()        \n",
        "\n",
        "        # Perform a forward pass (evaluate the model on this training batch)\n",
        "        output = model(b_input_ids, \n",
        "                             token_type_ids=None, \n",
        "                             attention_mask=b_input_mask, \n",
        "                             labels=b_labels)\n",
        "\n",
        "        loss, logits = output.loss, output.logits\n",
        "\n",
        "        # Accumulate the training loss over all of the batches\n",
        "        total_train_loss += loss.item()\n",
        "\n",
        "        # Perform a backward pass to calculate the gradients.\n",
        "        loss.backward()\n",
        "\n",
        "        # Clip the norm of the gradients to 1.0.\n",
        "        # This is to help prevent the \"exploding gradients\" problem.\n",
        "        torch.nn.utils.clip_grad_norm_(model.parameters(), 1.0)\n",
        "\n",
        "        # Update parameters and take a step using the computed gradient.\n",
        "        optimizer.step()\n",
        "\n",
        "        # Update the learning rate.\n",
        "        scheduler.step()\n",
        "\n",
        "    # Calculate the average loss over all of the batches.\n",
        "    avg_train_loss = total_train_loss / len(train_dataloader)            \n",
        "    \n",
        "    # Measure how long this epoch took.\n",
        "    training_time = format_time(time.time() - t0)\n",
        "\n",
        "    print(\"\")\n",
        "    print(\"  Average training loss: {0:.2f}\".format(avg_train_loss))\n",
        "    print(\"  Training epcoh took: {:}\".format(training_time))\n",
        "        \n",
        "    # ========================================\n",
        "    #               Validation\n",
        "    # ========================================\n",
        "    # After the completion of each training epoch, measure our performance on\n",
        "    # our validation set.\n",
        "\n",
        "    print(\"\")\n",
        "    print(\"Running Validation...\")\n",
        "\n",
        "    t0 = time.time()\n",
        "\n",
        "    # Put the model in evaluation mode\n",
        "    model.eval()\n",
        "\n",
        "    # Tracking variables \n",
        "    total_eval_accuracy = 0\n",
        "    total_eval_loss = 0\n",
        "    nb_eval_steps = 0\n",
        "\n",
        "    # Evaluate data for one epoch\n",
        "    for batch in val_dataloader:\n",
        "        \n",
        "        # Unpack this training batch from our dataloader. \n",
        "        #\n",
        "        # `batch` contains three pytorch tensors:\n",
        "        #   [0]: input ids \n",
        "        #   [1]: attention masks\n",
        "        #   [2]: labels \n",
        "        b_input_ids = batch[0].to(device)\n",
        "        b_input_mask = batch[1].to(device)\n",
        "        b_labels = batch[2].to(device)\n",
        "        \n",
        "        # Tell pytorch not to bother with constructing the compute graph during\n",
        "        # the forward pass, since this is only needed for backprop (training).\n",
        "        with torch.no_grad():        \n",
        "\n",
        "            # Forward pass, calculate logit predictions.\n",
        "            # token_type_ids is the same as the \"segment ids\", which \n",
        "            # differentiates sentence 1 and 2 in 2-sentence tasks.\n",
        "            output = model(b_input_ids, \n",
        "                                   token_type_ids=None, \n",
        "                                   attention_mask=b_input_mask,\n",
        "                                   labels=b_labels)\n",
        "            \n",
        "            loss, logits = output.loss, output.logits\n",
        "            \n",
        "        # Accumulate the validation loss.\n",
        "        total_eval_loss += loss.item()\n",
        "\n",
        "        # Move logits and labels to CPU\n",
        "        logits = logits.detach().cpu().numpy()\n",
        "        label_ids = b_labels.to('cpu').numpy()\n",
        "\n",
        "        # Calculate the accuracy for this batch of test sentences, and\n",
        "        # accumulate it over all batches.\n",
        "        total_eval_accuracy += flat_accuracy(logits, label_ids)\n",
        "        \n",
        "\n",
        "    # Report the final accuracy for this validation run.\n",
        "    avg_val_accuracy = total_eval_accuracy / len(val_dataloader)\n",
        "    print(\"  Accuracy: {0:.2f}\".format(avg_val_accuracy))\n",
        "\n",
        "    # Calculate the average loss over all of the batches.\n",
        "    avg_val_loss = total_eval_loss / len(val_dataloader)\n",
        "    \n",
        "    # Measure how long the validation run took.\n",
        "    validation_time = format_time(time.time() - t0)\n",
        "    \n",
        "    print(\"  Validation Loss: {0:.2f}\".format(avg_val_loss))\n",
        "    print(\"  Validation took: {:}\".format(validation_time))\n",
        "\n",
        "    # Record all statistics from this epoch.\n",
        "    training_stats.append(\n",
        "        {\n",
        "            'epoch': epoch_i + 1,\n",
        "            'Training Loss': avg_train_loss,\n",
        "            'Valid. Loss': avg_val_loss,\n",
        "            'Valid. Accur.': avg_val_accuracy,\n",
        "            'Training Time': training_time,\n",
        "            'Validation Time': validation_time\n",
        "        }\n",
        "    )\n",
        "\n",
        "print(\"\")\n",
        "print(\"Training complete!\")\n",
        "\n",
        "print(\"Total training took {:} (h:mm:ss)\".format(format_time(time.time()-total_t0)))"
      ]
    }
  ],
  "metadata": {
    "kernelspec": {
      "display_name": "Python 3",
      "language": "python",
      "name": "python3"
    },
    "language_info": {
      "codemirror_mode": {
        "name": "ipython",
        "version": 3
      },
      "file_extension": ".py",
      "mimetype": "text/x-python",
      "name": "python",
      "nbconvert_exporter": "python",
      "pygments_lexer": "ipython3",
      "version": "3.7.12"
    },
    "papermill": {
      "default_parameters": {},
      "duration": 10735.146506,
      "end_time": "2023-04-24T18:51:13.936188",
      "environment_variables": {},
      "exception": null,
      "input_path": "__notebook__.ipynb",
      "output_path": "__notebook__.ipynb",
      "parameters": {},
      "start_time": "2023-04-24T15:52:18.789682",
      "version": "2.4.0"
    },
    "widgets": {
      "application/vnd.jupyter.widget-state+json": {
        "972300dc47b84510971d4febbbad9216": {
          "model_module": "@jupyter-widgets/controls",
          "model_name": "HBoxModel",
          "model_module_version": "1.5.0",
          "state": {
            "_dom_classes": [],
            "_model_module": "@jupyter-widgets/controls",
            "_model_module_version": "1.5.0",
            "_model_name": "HBoxModel",
            "_view_count": null,
            "_view_module": "@jupyter-widgets/controls",
            "_view_module_version": "1.5.0",
            "_view_name": "HBoxView",
            "box_style": "",
            "children": [
              "IPY_MODEL_d3c8fd88f4cd4ae2b8112ee24aa5150c",
              "IPY_MODEL_898885c321ef4a1aa3b13fff6ee95387",
              "IPY_MODEL_fbd18360770240f1a9e8c808db084b17"
            ],
            "layout": "IPY_MODEL_da9d37384f7845ac974767361d7db01b"
          }
        },
        "d3c8fd88f4cd4ae2b8112ee24aa5150c": {
          "model_module": "@jupyter-widgets/controls",
          "model_name": "HTMLModel",
          "model_module_version": "1.5.0",
          "state": {
            "_dom_classes": [],
            "_model_module": "@jupyter-widgets/controls",
            "_model_module_version": "1.5.0",
            "_model_name": "HTMLModel",
            "_view_count": null,
            "_view_module": "@jupyter-widgets/controls",
            "_view_module_version": "1.5.0",
            "_view_name": "HTMLView",
            "description": "",
            "description_tooltip": null,
            "layout": "IPY_MODEL_19619eb5836548e1a3b599e6e06de62a",
            "placeholder": "​",
            "style": "IPY_MODEL_5943e51a031f419cabdbba42a6656f39",
            "value": "Downloading (…)lve/main/config.json: 100%"
          }
        },
        "898885c321ef4a1aa3b13fff6ee95387": {
          "model_module": "@jupyter-widgets/controls",
          "model_name": "FloatProgressModel",
          "model_module_version": "1.5.0",
          "state": {
            "_dom_classes": [],
            "_model_module": "@jupyter-widgets/controls",
            "_model_module_version": "1.5.0",
            "_model_name": "FloatProgressModel",
            "_view_count": null,
            "_view_module": "@jupyter-widgets/controls",
            "_view_module_version": "1.5.0",
            "_view_name": "ProgressView",
            "bar_style": "success",
            "description": "",
            "description_tooltip": null,
            "layout": "IPY_MODEL_76526b67bd36437283bb573e83ef135f",
            "max": 570,
            "min": 0,
            "orientation": "horizontal",
            "style": "IPY_MODEL_533ed1d6e7e7449c8454d69a80286fb7",
            "value": 570
          }
        },
        "fbd18360770240f1a9e8c808db084b17": {
          "model_module": "@jupyter-widgets/controls",
          "model_name": "HTMLModel",
          "model_module_version": "1.5.0",
          "state": {
            "_dom_classes": [],
            "_model_module": "@jupyter-widgets/controls",
            "_model_module_version": "1.5.0",
            "_model_name": "HTMLModel",
            "_view_count": null,
            "_view_module": "@jupyter-widgets/controls",
            "_view_module_version": "1.5.0",
            "_view_name": "HTMLView",
            "description": "",
            "description_tooltip": null,
            "layout": "IPY_MODEL_03ff3301a8ef404390dab04a90f654bb",
            "placeholder": "​",
            "style": "IPY_MODEL_45153af8fa2f4daaa6103b52c2451c74",
            "value": " 570/570 [00:00&lt;00:00, 38.7kB/s]"
          }
        },
        "da9d37384f7845ac974767361d7db01b": {
          "model_module": "@jupyter-widgets/base",
          "model_name": "LayoutModel",
          "model_module_version": "1.2.0",
          "state": {
            "_model_module": "@jupyter-widgets/base",
            "_model_module_version": "1.2.0",
            "_model_name": "LayoutModel",
            "_view_count": null,
            "_view_module": "@jupyter-widgets/base",
            "_view_module_version": "1.2.0",
            "_view_name": "LayoutView",
            "align_content": null,
            "align_items": null,
            "align_self": null,
            "border": null,
            "bottom": null,
            "display": null,
            "flex": null,
            "flex_flow": null,
            "grid_area": null,
            "grid_auto_columns": null,
            "grid_auto_flow": null,
            "grid_auto_rows": null,
            "grid_column": null,
            "grid_gap": null,
            "grid_row": null,
            "grid_template_areas": null,
            "grid_template_columns": null,
            "grid_template_rows": null,
            "height": null,
            "justify_content": null,
            "justify_items": null,
            "left": null,
            "margin": null,
            "max_height": null,
            "max_width": null,
            "min_height": null,
            "min_width": null,
            "object_fit": null,
            "object_position": null,
            "order": null,
            "overflow": null,
            "overflow_x": null,
            "overflow_y": null,
            "padding": null,
            "right": null,
            "top": null,
            "visibility": null,
            "width": null
          }
        },
        "19619eb5836548e1a3b599e6e06de62a": {
          "model_module": "@jupyter-widgets/base",
          "model_name": "LayoutModel",
          "model_module_version": "1.2.0",
          "state": {
            "_model_module": "@jupyter-widgets/base",
            "_model_module_version": "1.2.0",
            "_model_name": "LayoutModel",
            "_view_count": null,
            "_view_module": "@jupyter-widgets/base",
            "_view_module_version": "1.2.0",
            "_view_name": "LayoutView",
            "align_content": null,
            "align_items": null,
            "align_self": null,
            "border": null,
            "bottom": null,
            "display": null,
            "flex": null,
            "flex_flow": null,
            "grid_area": null,
            "grid_auto_columns": null,
            "grid_auto_flow": null,
            "grid_auto_rows": null,
            "grid_column": null,
            "grid_gap": null,
            "grid_row": null,
            "grid_template_areas": null,
            "grid_template_columns": null,
            "grid_template_rows": null,
            "height": null,
            "justify_content": null,
            "justify_items": null,
            "left": null,
            "margin": null,
            "max_height": null,
            "max_width": null,
            "min_height": null,
            "min_width": null,
            "object_fit": null,
            "object_position": null,
            "order": null,
            "overflow": null,
            "overflow_x": null,
            "overflow_y": null,
            "padding": null,
            "right": null,
            "top": null,
            "visibility": null,
            "width": null
          }
        },
        "5943e51a031f419cabdbba42a6656f39": {
          "model_module": "@jupyter-widgets/controls",
          "model_name": "DescriptionStyleModel",
          "model_module_version": "1.5.0",
          "state": {
            "_model_module": "@jupyter-widgets/controls",
            "_model_module_version": "1.5.0",
            "_model_name": "DescriptionStyleModel",
            "_view_count": null,
            "_view_module": "@jupyter-widgets/base",
            "_view_module_version": "1.2.0",
            "_view_name": "StyleView",
            "description_width": ""
          }
        },
        "76526b67bd36437283bb573e83ef135f": {
          "model_module": "@jupyter-widgets/base",
          "model_name": "LayoutModel",
          "model_module_version": "1.2.0",
          "state": {
            "_model_module": "@jupyter-widgets/base",
            "_model_module_version": "1.2.0",
            "_model_name": "LayoutModel",
            "_view_count": null,
            "_view_module": "@jupyter-widgets/base",
            "_view_module_version": "1.2.0",
            "_view_name": "LayoutView",
            "align_content": null,
            "align_items": null,
            "align_self": null,
            "border": null,
            "bottom": null,
            "display": null,
            "flex": null,
            "flex_flow": null,
            "grid_area": null,
            "grid_auto_columns": null,
            "grid_auto_flow": null,
            "grid_auto_rows": null,
            "grid_column": null,
            "grid_gap": null,
            "grid_row": null,
            "grid_template_areas": null,
            "grid_template_columns": null,
            "grid_template_rows": null,
            "height": null,
            "justify_content": null,
            "justify_items": null,
            "left": null,
            "margin": null,
            "max_height": null,
            "max_width": null,
            "min_height": null,
            "min_width": null,
            "object_fit": null,
            "object_position": null,
            "order": null,
            "overflow": null,
            "overflow_x": null,
            "overflow_y": null,
            "padding": null,
            "right": null,
            "top": null,
            "visibility": null,
            "width": null
          }
        },
        "533ed1d6e7e7449c8454d69a80286fb7": {
          "model_module": "@jupyter-widgets/controls",
          "model_name": "ProgressStyleModel",
          "model_module_version": "1.5.0",
          "state": {
            "_model_module": "@jupyter-widgets/controls",
            "_model_module_version": "1.5.0",
            "_model_name": "ProgressStyleModel",
            "_view_count": null,
            "_view_module": "@jupyter-widgets/base",
            "_view_module_version": "1.2.0",
            "_view_name": "StyleView",
            "bar_color": null,
            "description_width": ""
          }
        },
        "03ff3301a8ef404390dab04a90f654bb": {
          "model_module": "@jupyter-widgets/base",
          "model_name": "LayoutModel",
          "model_module_version": "1.2.0",
          "state": {
            "_model_module": "@jupyter-widgets/base",
            "_model_module_version": "1.2.0",
            "_model_name": "LayoutModel",
            "_view_count": null,
            "_view_module": "@jupyter-widgets/base",
            "_view_module_version": "1.2.0",
            "_view_name": "LayoutView",
            "align_content": null,
            "align_items": null,
            "align_self": null,
            "border": null,
            "bottom": null,
            "display": null,
            "flex": null,
            "flex_flow": null,
            "grid_area": null,
            "grid_auto_columns": null,
            "grid_auto_flow": null,
            "grid_auto_rows": null,
            "grid_column": null,
            "grid_gap": null,
            "grid_row": null,
            "grid_template_areas": null,
            "grid_template_columns": null,
            "grid_template_rows": null,
            "height": null,
            "justify_content": null,
            "justify_items": null,
            "left": null,
            "margin": null,
            "max_height": null,
            "max_width": null,
            "min_height": null,
            "min_width": null,
            "object_fit": null,
            "object_position": null,
            "order": null,
            "overflow": null,
            "overflow_x": null,
            "overflow_y": null,
            "padding": null,
            "right": null,
            "top": null,
            "visibility": null,
            "width": null
          }
        },
        "45153af8fa2f4daaa6103b52c2451c74": {
          "model_module": "@jupyter-widgets/controls",
          "model_name": "DescriptionStyleModel",
          "model_module_version": "1.5.0",
          "state": {
            "_model_module": "@jupyter-widgets/controls",
            "_model_module_version": "1.5.0",
            "_model_name": "DescriptionStyleModel",
            "_view_count": null,
            "_view_module": "@jupyter-widgets/base",
            "_view_module_version": "1.2.0",
            "_view_name": "StyleView",
            "description_width": ""
          }
        },
        "c0ae96d2e49546deb4130e73bf35e187": {
          "model_module": "@jupyter-widgets/controls",
          "model_name": "HBoxModel",
          "model_module_version": "1.5.0",
          "state": {
            "_dom_classes": [],
            "_model_module": "@jupyter-widgets/controls",
            "_model_module_version": "1.5.0",
            "_model_name": "HBoxModel",
            "_view_count": null,
            "_view_module": "@jupyter-widgets/controls",
            "_view_module_version": "1.5.0",
            "_view_name": "HBoxView",
            "box_style": "",
            "children": [
              "IPY_MODEL_47abb629aa9844128fa9f69433796005",
              "IPY_MODEL_c49f503f3786488ea3af1ecf173e030d",
              "IPY_MODEL_c4733b72ce1541719e00570831d4d4cf"
            ],
            "layout": "IPY_MODEL_1b1b697a72b841829a10cdb070818fe6"
          }
        },
        "47abb629aa9844128fa9f69433796005": {
          "model_module": "@jupyter-widgets/controls",
          "model_name": "HTMLModel",
          "model_module_version": "1.5.0",
          "state": {
            "_dom_classes": [],
            "_model_module": "@jupyter-widgets/controls",
            "_model_module_version": "1.5.0",
            "_model_name": "HTMLModel",
            "_view_count": null,
            "_view_module": "@jupyter-widgets/controls",
            "_view_module_version": "1.5.0",
            "_view_name": "HTMLView",
            "description": "",
            "description_tooltip": null,
            "layout": "IPY_MODEL_f0837d17fa08480fb9612f166c80215f",
            "placeholder": "​",
            "style": "IPY_MODEL_154aa6ad6c9148f5881083f0afc870f0",
            "value": "Downloading pytorch_model.bin: 100%"
          }
        },
        "c49f503f3786488ea3af1ecf173e030d": {
          "model_module": "@jupyter-widgets/controls",
          "model_name": "FloatProgressModel",
          "model_module_version": "1.5.0",
          "state": {
            "_dom_classes": [],
            "_model_module": "@jupyter-widgets/controls",
            "_model_module_version": "1.5.0",
            "_model_name": "FloatProgressModel",
            "_view_count": null,
            "_view_module": "@jupyter-widgets/controls",
            "_view_module_version": "1.5.0",
            "_view_name": "ProgressView",
            "bar_style": "success",
            "description": "",
            "description_tooltip": null,
            "layout": "IPY_MODEL_0f38fb369f6d47f3a90735f02c632b6c",
            "max": 440473133,
            "min": 0,
            "orientation": "horizontal",
            "style": "IPY_MODEL_0e088475631548e08dc8d32f934a63b1",
            "value": 440473133
          }
        },
        "c4733b72ce1541719e00570831d4d4cf": {
          "model_module": "@jupyter-widgets/controls",
          "model_name": "HTMLModel",
          "model_module_version": "1.5.0",
          "state": {
            "_dom_classes": [],
            "_model_module": "@jupyter-widgets/controls",
            "_model_module_version": "1.5.0",
            "_model_name": "HTMLModel",
            "_view_count": null,
            "_view_module": "@jupyter-widgets/controls",
            "_view_module_version": "1.5.0",
            "_view_name": "HTMLView",
            "description": "",
            "description_tooltip": null,
            "layout": "IPY_MODEL_e60fac3200b04ec9a30c38df50b9ec27",
            "placeholder": "​",
            "style": "IPY_MODEL_0d4daf08160e4deabbaee69cc34fa06e",
            "value": " 440M/440M [00:01&lt;00:00, 325MB/s]"
          }
        },
        "1b1b697a72b841829a10cdb070818fe6": {
          "model_module": "@jupyter-widgets/base",
          "model_name": "LayoutModel",
          "model_module_version": "1.2.0",
          "state": {
            "_model_module": "@jupyter-widgets/base",
            "_model_module_version": "1.2.0",
            "_model_name": "LayoutModel",
            "_view_count": null,
            "_view_module": "@jupyter-widgets/base",
            "_view_module_version": "1.2.0",
            "_view_name": "LayoutView",
            "align_content": null,
            "align_items": null,
            "align_self": null,
            "border": null,
            "bottom": null,
            "display": null,
            "flex": null,
            "flex_flow": null,
            "grid_area": null,
            "grid_auto_columns": null,
            "grid_auto_flow": null,
            "grid_auto_rows": null,
            "grid_column": null,
            "grid_gap": null,
            "grid_row": null,
            "grid_template_areas": null,
            "grid_template_columns": null,
            "grid_template_rows": null,
            "height": null,
            "justify_content": null,
            "justify_items": null,
            "left": null,
            "margin": null,
            "max_height": null,
            "max_width": null,
            "min_height": null,
            "min_width": null,
            "object_fit": null,
            "object_position": null,
            "order": null,
            "overflow": null,
            "overflow_x": null,
            "overflow_y": null,
            "padding": null,
            "right": null,
            "top": null,
            "visibility": null,
            "width": null
          }
        },
        "f0837d17fa08480fb9612f166c80215f": {
          "model_module": "@jupyter-widgets/base",
          "model_name": "LayoutModel",
          "model_module_version": "1.2.0",
          "state": {
            "_model_module": "@jupyter-widgets/base",
            "_model_module_version": "1.2.0",
            "_model_name": "LayoutModel",
            "_view_count": null,
            "_view_module": "@jupyter-widgets/base",
            "_view_module_version": "1.2.0",
            "_view_name": "LayoutView",
            "align_content": null,
            "align_items": null,
            "align_self": null,
            "border": null,
            "bottom": null,
            "display": null,
            "flex": null,
            "flex_flow": null,
            "grid_area": null,
            "grid_auto_columns": null,
            "grid_auto_flow": null,
            "grid_auto_rows": null,
            "grid_column": null,
            "grid_gap": null,
            "grid_row": null,
            "grid_template_areas": null,
            "grid_template_columns": null,
            "grid_template_rows": null,
            "height": null,
            "justify_content": null,
            "justify_items": null,
            "left": null,
            "margin": null,
            "max_height": null,
            "max_width": null,
            "min_height": null,
            "min_width": null,
            "object_fit": null,
            "object_position": null,
            "order": null,
            "overflow": null,
            "overflow_x": null,
            "overflow_y": null,
            "padding": null,
            "right": null,
            "top": null,
            "visibility": null,
            "width": null
          }
        },
        "154aa6ad6c9148f5881083f0afc870f0": {
          "model_module": "@jupyter-widgets/controls",
          "model_name": "DescriptionStyleModel",
          "model_module_version": "1.5.0",
          "state": {
            "_model_module": "@jupyter-widgets/controls",
            "_model_module_version": "1.5.0",
            "_model_name": "DescriptionStyleModel",
            "_view_count": null,
            "_view_module": "@jupyter-widgets/base",
            "_view_module_version": "1.2.0",
            "_view_name": "StyleView",
            "description_width": ""
          }
        },
        "0f38fb369f6d47f3a90735f02c632b6c": {
          "model_module": "@jupyter-widgets/base",
          "model_name": "LayoutModel",
          "model_module_version": "1.2.0",
          "state": {
            "_model_module": "@jupyter-widgets/base",
            "_model_module_version": "1.2.0",
            "_model_name": "LayoutModel",
            "_view_count": null,
            "_view_module": "@jupyter-widgets/base",
            "_view_module_version": "1.2.0",
            "_view_name": "LayoutView",
            "align_content": null,
            "align_items": null,
            "align_self": null,
            "border": null,
            "bottom": null,
            "display": null,
            "flex": null,
            "flex_flow": null,
            "grid_area": null,
            "grid_auto_columns": null,
            "grid_auto_flow": null,
            "grid_auto_rows": null,
            "grid_column": null,
            "grid_gap": null,
            "grid_row": null,
            "grid_template_areas": null,
            "grid_template_columns": null,
            "grid_template_rows": null,
            "height": null,
            "justify_content": null,
            "justify_items": null,
            "left": null,
            "margin": null,
            "max_height": null,
            "max_width": null,
            "min_height": null,
            "min_width": null,
            "object_fit": null,
            "object_position": null,
            "order": null,
            "overflow": null,
            "overflow_x": null,
            "overflow_y": null,
            "padding": null,
            "right": null,
            "top": null,
            "visibility": null,
            "width": null
          }
        },
        "0e088475631548e08dc8d32f934a63b1": {
          "model_module": "@jupyter-widgets/controls",
          "model_name": "ProgressStyleModel",
          "model_module_version": "1.5.0",
          "state": {
            "_model_module": "@jupyter-widgets/controls",
            "_model_module_version": "1.5.0",
            "_model_name": "ProgressStyleModel",
            "_view_count": null,
            "_view_module": "@jupyter-widgets/base",
            "_view_module_version": "1.2.0",
            "_view_name": "StyleView",
            "bar_color": null,
            "description_width": ""
          }
        },
        "e60fac3200b04ec9a30c38df50b9ec27": {
          "model_module": "@jupyter-widgets/base",
          "model_name": "LayoutModel",
          "model_module_version": "1.2.0",
          "state": {
            "_model_module": "@jupyter-widgets/base",
            "_model_module_version": "1.2.0",
            "_model_name": "LayoutModel",
            "_view_count": null,
            "_view_module": "@jupyter-widgets/base",
            "_view_module_version": "1.2.0",
            "_view_name": "LayoutView",
            "align_content": null,
            "align_items": null,
            "align_self": null,
            "border": null,
            "bottom": null,
            "display": null,
            "flex": null,
            "flex_flow": null,
            "grid_area": null,
            "grid_auto_columns": null,
            "grid_auto_flow": null,
            "grid_auto_rows": null,
            "grid_column": null,
            "grid_gap": null,
            "grid_row": null,
            "grid_template_areas": null,
            "grid_template_columns": null,
            "grid_template_rows": null,
            "height": null,
            "justify_content": null,
            "justify_items": null,
            "left": null,
            "margin": null,
            "max_height": null,
            "max_width": null,
            "min_height": null,
            "min_width": null,
            "object_fit": null,
            "object_position": null,
            "order": null,
            "overflow": null,
            "overflow_x": null,
            "overflow_y": null,
            "padding": null,
            "right": null,
            "top": null,
            "visibility": null,
            "width": null
          }
        },
        "0d4daf08160e4deabbaee69cc34fa06e": {
          "model_module": "@jupyter-widgets/controls",
          "model_name": "DescriptionStyleModel",
          "model_module_version": "1.5.0",
          "state": {
            "_model_module": "@jupyter-widgets/controls",
            "_model_module_version": "1.5.0",
            "_model_name": "DescriptionStyleModel",
            "_view_count": null,
            "_view_module": "@jupyter-widgets/base",
            "_view_module_version": "1.2.0",
            "_view_name": "StyleView",
            "description_width": ""
          }
        },
        "b91aac73c60c405b918cc1fc821c36bc": {
          "model_module": "@jupyter-widgets/controls",
          "model_name": "HBoxModel",
          "model_module_version": "1.5.0",
          "state": {
            "_dom_classes": [],
            "_model_module": "@jupyter-widgets/controls",
            "_model_module_version": "1.5.0",
            "_model_name": "HBoxModel",
            "_view_count": null,
            "_view_module": "@jupyter-widgets/controls",
            "_view_module_version": "1.5.0",
            "_view_name": "HBoxView",
            "box_style": "",
            "children": [
              "IPY_MODEL_e19489f989b0479bb6f71805e92adff5",
              "IPY_MODEL_5a054d62f50343a0891a38597fae783b",
              "IPY_MODEL_3b18516772164b37a4226b5e4a8fb0f5"
            ],
            "layout": "IPY_MODEL_aa26d93f35e64990bfa8fac5049b963b"
          }
        },
        "e19489f989b0479bb6f71805e92adff5": {
          "model_module": "@jupyter-widgets/controls",
          "model_name": "HTMLModel",
          "model_module_version": "1.5.0",
          "state": {
            "_dom_classes": [],
            "_model_module": "@jupyter-widgets/controls",
            "_model_module_version": "1.5.0",
            "_model_name": "HTMLModel",
            "_view_count": null,
            "_view_module": "@jupyter-widgets/controls",
            "_view_module_version": "1.5.0",
            "_view_name": "HTMLView",
            "description": "",
            "description_tooltip": null,
            "layout": "IPY_MODEL_d5766b9ede7a4f4eb5ad4fd3e0939145",
            "placeholder": "​",
            "style": "IPY_MODEL_d6b9c05228e140a89cfb55b1130af0d9",
            "value": "Downloading (…)okenizer_config.json: 100%"
          }
        },
        "5a054d62f50343a0891a38597fae783b": {
          "model_module": "@jupyter-widgets/controls",
          "model_name": "FloatProgressModel",
          "model_module_version": "1.5.0",
          "state": {
            "_dom_classes": [],
            "_model_module": "@jupyter-widgets/controls",
            "_model_module_version": "1.5.0",
            "_model_name": "FloatProgressModel",
            "_view_count": null,
            "_view_module": "@jupyter-widgets/controls",
            "_view_module_version": "1.5.0",
            "_view_name": "ProgressView",
            "bar_style": "success",
            "description": "",
            "description_tooltip": null,
            "layout": "IPY_MODEL_ec3a4ad782724ac59776b3c522d4b9f0",
            "max": 28,
            "min": 0,
            "orientation": "horizontal",
            "style": "IPY_MODEL_9be80f43e1ec4e959c9e825958b4d4b5",
            "value": 28
          }
        },
        "3b18516772164b37a4226b5e4a8fb0f5": {
          "model_module": "@jupyter-widgets/controls",
          "model_name": "HTMLModel",
          "model_module_version": "1.5.0",
          "state": {
            "_dom_classes": [],
            "_model_module": "@jupyter-widgets/controls",
            "_model_module_version": "1.5.0",
            "_model_name": "HTMLModel",
            "_view_count": null,
            "_view_module": "@jupyter-widgets/controls",
            "_view_module_version": "1.5.0",
            "_view_name": "HTMLView",
            "description": "",
            "description_tooltip": null,
            "layout": "IPY_MODEL_9f65e93a75194659bdbfb1ce6551b0fc",
            "placeholder": "​",
            "style": "IPY_MODEL_3f9a890493fd4f1ea477c23dcc929ecf",
            "value": " 28.0/28.0 [00:00&lt;00:00, 1.57kB/s]"
          }
        },
        "aa26d93f35e64990bfa8fac5049b963b": {
          "model_module": "@jupyter-widgets/base",
          "model_name": "LayoutModel",
          "model_module_version": "1.2.0",
          "state": {
            "_model_module": "@jupyter-widgets/base",
            "_model_module_version": "1.2.0",
            "_model_name": "LayoutModel",
            "_view_count": null,
            "_view_module": "@jupyter-widgets/base",
            "_view_module_version": "1.2.0",
            "_view_name": "LayoutView",
            "align_content": null,
            "align_items": null,
            "align_self": null,
            "border": null,
            "bottom": null,
            "display": null,
            "flex": null,
            "flex_flow": null,
            "grid_area": null,
            "grid_auto_columns": null,
            "grid_auto_flow": null,
            "grid_auto_rows": null,
            "grid_column": null,
            "grid_gap": null,
            "grid_row": null,
            "grid_template_areas": null,
            "grid_template_columns": null,
            "grid_template_rows": null,
            "height": null,
            "justify_content": null,
            "justify_items": null,
            "left": null,
            "margin": null,
            "max_height": null,
            "max_width": null,
            "min_height": null,
            "min_width": null,
            "object_fit": null,
            "object_position": null,
            "order": null,
            "overflow": null,
            "overflow_x": null,
            "overflow_y": null,
            "padding": null,
            "right": null,
            "top": null,
            "visibility": null,
            "width": null
          }
        },
        "d5766b9ede7a4f4eb5ad4fd3e0939145": {
          "model_module": "@jupyter-widgets/base",
          "model_name": "LayoutModel",
          "model_module_version": "1.2.0",
          "state": {
            "_model_module": "@jupyter-widgets/base",
            "_model_module_version": "1.2.0",
            "_model_name": "LayoutModel",
            "_view_count": null,
            "_view_module": "@jupyter-widgets/base",
            "_view_module_version": "1.2.0",
            "_view_name": "LayoutView",
            "align_content": null,
            "align_items": null,
            "align_self": null,
            "border": null,
            "bottom": null,
            "display": null,
            "flex": null,
            "flex_flow": null,
            "grid_area": null,
            "grid_auto_columns": null,
            "grid_auto_flow": null,
            "grid_auto_rows": null,
            "grid_column": null,
            "grid_gap": null,
            "grid_row": null,
            "grid_template_areas": null,
            "grid_template_columns": null,
            "grid_template_rows": null,
            "height": null,
            "justify_content": null,
            "justify_items": null,
            "left": null,
            "margin": null,
            "max_height": null,
            "max_width": null,
            "min_height": null,
            "min_width": null,
            "object_fit": null,
            "object_position": null,
            "order": null,
            "overflow": null,
            "overflow_x": null,
            "overflow_y": null,
            "padding": null,
            "right": null,
            "top": null,
            "visibility": null,
            "width": null
          }
        },
        "d6b9c05228e140a89cfb55b1130af0d9": {
          "model_module": "@jupyter-widgets/controls",
          "model_name": "DescriptionStyleModel",
          "model_module_version": "1.5.0",
          "state": {
            "_model_module": "@jupyter-widgets/controls",
            "_model_module_version": "1.5.0",
            "_model_name": "DescriptionStyleModel",
            "_view_count": null,
            "_view_module": "@jupyter-widgets/base",
            "_view_module_version": "1.2.0",
            "_view_name": "StyleView",
            "description_width": ""
          }
        },
        "ec3a4ad782724ac59776b3c522d4b9f0": {
          "model_module": "@jupyter-widgets/base",
          "model_name": "LayoutModel",
          "model_module_version": "1.2.0",
          "state": {
            "_model_module": "@jupyter-widgets/base",
            "_model_module_version": "1.2.0",
            "_model_name": "LayoutModel",
            "_view_count": null,
            "_view_module": "@jupyter-widgets/base",
            "_view_module_version": "1.2.0",
            "_view_name": "LayoutView",
            "align_content": null,
            "align_items": null,
            "align_self": null,
            "border": null,
            "bottom": null,
            "display": null,
            "flex": null,
            "flex_flow": null,
            "grid_area": null,
            "grid_auto_columns": null,
            "grid_auto_flow": null,
            "grid_auto_rows": null,
            "grid_column": null,
            "grid_gap": null,
            "grid_row": null,
            "grid_template_areas": null,
            "grid_template_columns": null,
            "grid_template_rows": null,
            "height": null,
            "justify_content": null,
            "justify_items": null,
            "left": null,
            "margin": null,
            "max_height": null,
            "max_width": null,
            "min_height": null,
            "min_width": null,
            "object_fit": null,
            "object_position": null,
            "order": null,
            "overflow": null,
            "overflow_x": null,
            "overflow_y": null,
            "padding": null,
            "right": null,
            "top": null,
            "visibility": null,
            "width": null
          }
        },
        "9be80f43e1ec4e959c9e825958b4d4b5": {
          "model_module": "@jupyter-widgets/controls",
          "model_name": "ProgressStyleModel",
          "model_module_version": "1.5.0",
          "state": {
            "_model_module": "@jupyter-widgets/controls",
            "_model_module_version": "1.5.0",
            "_model_name": "ProgressStyleModel",
            "_view_count": null,
            "_view_module": "@jupyter-widgets/base",
            "_view_module_version": "1.2.0",
            "_view_name": "StyleView",
            "bar_color": null,
            "description_width": ""
          }
        },
        "9f65e93a75194659bdbfb1ce6551b0fc": {
          "model_module": "@jupyter-widgets/base",
          "model_name": "LayoutModel",
          "model_module_version": "1.2.0",
          "state": {
            "_model_module": "@jupyter-widgets/base",
            "_model_module_version": "1.2.0",
            "_model_name": "LayoutModel",
            "_view_count": null,
            "_view_module": "@jupyter-widgets/base",
            "_view_module_version": "1.2.0",
            "_view_name": "LayoutView",
            "align_content": null,
            "align_items": null,
            "align_self": null,
            "border": null,
            "bottom": null,
            "display": null,
            "flex": null,
            "flex_flow": null,
            "grid_area": null,
            "grid_auto_columns": null,
            "grid_auto_flow": null,
            "grid_auto_rows": null,
            "grid_column": null,
            "grid_gap": null,
            "grid_row": null,
            "grid_template_areas": null,
            "grid_template_columns": null,
            "grid_template_rows": null,
            "height": null,
            "justify_content": null,
            "justify_items": null,
            "left": null,
            "margin": null,
            "max_height": null,
            "max_width": null,
            "min_height": null,
            "min_width": null,
            "object_fit": null,
            "object_position": null,
            "order": null,
            "overflow": null,
            "overflow_x": null,
            "overflow_y": null,
            "padding": null,
            "right": null,
            "top": null,
            "visibility": null,
            "width": null
          }
        },
        "3f9a890493fd4f1ea477c23dcc929ecf": {
          "model_module": "@jupyter-widgets/controls",
          "model_name": "DescriptionStyleModel",
          "model_module_version": "1.5.0",
          "state": {
            "_model_module": "@jupyter-widgets/controls",
            "_model_module_version": "1.5.0",
            "_model_name": "DescriptionStyleModel",
            "_view_count": null,
            "_view_module": "@jupyter-widgets/base",
            "_view_module_version": "1.2.0",
            "_view_name": "StyleView",
            "description_width": ""
          }
        },
        "e555f184d7544de5a3290cb798dc7ce8": {
          "model_module": "@jupyter-widgets/controls",
          "model_name": "HBoxModel",
          "model_module_version": "1.5.0",
          "state": {
            "_dom_classes": [],
            "_model_module": "@jupyter-widgets/controls",
            "_model_module_version": "1.5.0",
            "_model_name": "HBoxModel",
            "_view_count": null,
            "_view_module": "@jupyter-widgets/controls",
            "_view_module_version": "1.5.0",
            "_view_name": "HBoxView",
            "box_style": "",
            "children": [
              "IPY_MODEL_814b344516e3400fa0867028c78fb89f",
              "IPY_MODEL_08b7ef3ad3b94e2786597c095e6fcb63",
              "IPY_MODEL_e1ab87595da9494988a8f9af4c119622"
            ],
            "layout": "IPY_MODEL_f9c24db0f0ae4c0da123771b1334eb5b"
          }
        },
        "814b344516e3400fa0867028c78fb89f": {
          "model_module": "@jupyter-widgets/controls",
          "model_name": "HTMLModel",
          "model_module_version": "1.5.0",
          "state": {
            "_dom_classes": [],
            "_model_module": "@jupyter-widgets/controls",
            "_model_module_version": "1.5.0",
            "_model_name": "HTMLModel",
            "_view_count": null,
            "_view_module": "@jupyter-widgets/controls",
            "_view_module_version": "1.5.0",
            "_view_name": "HTMLView",
            "description": "",
            "description_tooltip": null,
            "layout": "IPY_MODEL_9f546b9bb0494969ad6b3245ed61d3ca",
            "placeholder": "​",
            "style": "IPY_MODEL_d0e8a7a6630246fb8ee26d793d970934",
            "value": "Downloading (…)solve/main/vocab.txt: 100%"
          }
        },
        "08b7ef3ad3b94e2786597c095e6fcb63": {
          "model_module": "@jupyter-widgets/controls",
          "model_name": "FloatProgressModel",
          "model_module_version": "1.5.0",
          "state": {
            "_dom_classes": [],
            "_model_module": "@jupyter-widgets/controls",
            "_model_module_version": "1.5.0",
            "_model_name": "FloatProgressModel",
            "_view_count": null,
            "_view_module": "@jupyter-widgets/controls",
            "_view_module_version": "1.5.0",
            "_view_name": "ProgressView",
            "bar_style": "success",
            "description": "",
            "description_tooltip": null,
            "layout": "IPY_MODEL_7430decbd82743b38fbf048be8fcc978",
            "max": 231508,
            "min": 0,
            "orientation": "horizontal",
            "style": "IPY_MODEL_251ad3325e7044a3ab16c5d54ff76232",
            "value": 231508
          }
        },
        "e1ab87595da9494988a8f9af4c119622": {
          "model_module": "@jupyter-widgets/controls",
          "model_name": "HTMLModel",
          "model_module_version": "1.5.0",
          "state": {
            "_dom_classes": [],
            "_model_module": "@jupyter-widgets/controls",
            "_model_module_version": "1.5.0",
            "_model_name": "HTMLModel",
            "_view_count": null,
            "_view_module": "@jupyter-widgets/controls",
            "_view_module_version": "1.5.0",
            "_view_name": "HTMLView",
            "description": "",
            "description_tooltip": null,
            "layout": "IPY_MODEL_987878970f8149ae9a16fb959e6bddf9",
            "placeholder": "​",
            "style": "IPY_MODEL_16a2f8d97ec94cdcadd09fe47b8ae31f",
            "value": " 232k/232k [00:00&lt;00:00, 1.40MB/s]"
          }
        },
        "f9c24db0f0ae4c0da123771b1334eb5b": {
          "model_module": "@jupyter-widgets/base",
          "model_name": "LayoutModel",
          "model_module_version": "1.2.0",
          "state": {
            "_model_module": "@jupyter-widgets/base",
            "_model_module_version": "1.2.0",
            "_model_name": "LayoutModel",
            "_view_count": null,
            "_view_module": "@jupyter-widgets/base",
            "_view_module_version": "1.2.0",
            "_view_name": "LayoutView",
            "align_content": null,
            "align_items": null,
            "align_self": null,
            "border": null,
            "bottom": null,
            "display": null,
            "flex": null,
            "flex_flow": null,
            "grid_area": null,
            "grid_auto_columns": null,
            "grid_auto_flow": null,
            "grid_auto_rows": null,
            "grid_column": null,
            "grid_gap": null,
            "grid_row": null,
            "grid_template_areas": null,
            "grid_template_columns": null,
            "grid_template_rows": null,
            "height": null,
            "justify_content": null,
            "justify_items": null,
            "left": null,
            "margin": null,
            "max_height": null,
            "max_width": null,
            "min_height": null,
            "min_width": null,
            "object_fit": null,
            "object_position": null,
            "order": null,
            "overflow": null,
            "overflow_x": null,
            "overflow_y": null,
            "padding": null,
            "right": null,
            "top": null,
            "visibility": null,
            "width": null
          }
        },
        "9f546b9bb0494969ad6b3245ed61d3ca": {
          "model_module": "@jupyter-widgets/base",
          "model_name": "LayoutModel",
          "model_module_version": "1.2.0",
          "state": {
            "_model_module": "@jupyter-widgets/base",
            "_model_module_version": "1.2.0",
            "_model_name": "LayoutModel",
            "_view_count": null,
            "_view_module": "@jupyter-widgets/base",
            "_view_module_version": "1.2.0",
            "_view_name": "LayoutView",
            "align_content": null,
            "align_items": null,
            "align_self": null,
            "border": null,
            "bottom": null,
            "display": null,
            "flex": null,
            "flex_flow": null,
            "grid_area": null,
            "grid_auto_columns": null,
            "grid_auto_flow": null,
            "grid_auto_rows": null,
            "grid_column": null,
            "grid_gap": null,
            "grid_row": null,
            "grid_template_areas": null,
            "grid_template_columns": null,
            "grid_template_rows": null,
            "height": null,
            "justify_content": null,
            "justify_items": null,
            "left": null,
            "margin": null,
            "max_height": null,
            "max_width": null,
            "min_height": null,
            "min_width": null,
            "object_fit": null,
            "object_position": null,
            "order": null,
            "overflow": null,
            "overflow_x": null,
            "overflow_y": null,
            "padding": null,
            "right": null,
            "top": null,
            "visibility": null,
            "width": null
          }
        },
        "d0e8a7a6630246fb8ee26d793d970934": {
          "model_module": "@jupyter-widgets/controls",
          "model_name": "DescriptionStyleModel",
          "model_module_version": "1.5.0",
          "state": {
            "_model_module": "@jupyter-widgets/controls",
            "_model_module_version": "1.5.0",
            "_model_name": "DescriptionStyleModel",
            "_view_count": null,
            "_view_module": "@jupyter-widgets/base",
            "_view_module_version": "1.2.0",
            "_view_name": "StyleView",
            "description_width": ""
          }
        },
        "7430decbd82743b38fbf048be8fcc978": {
          "model_module": "@jupyter-widgets/base",
          "model_name": "LayoutModel",
          "model_module_version": "1.2.0",
          "state": {
            "_model_module": "@jupyter-widgets/base",
            "_model_module_version": "1.2.0",
            "_model_name": "LayoutModel",
            "_view_count": null,
            "_view_module": "@jupyter-widgets/base",
            "_view_module_version": "1.2.0",
            "_view_name": "LayoutView",
            "align_content": null,
            "align_items": null,
            "align_self": null,
            "border": null,
            "bottom": null,
            "display": null,
            "flex": null,
            "flex_flow": null,
            "grid_area": null,
            "grid_auto_columns": null,
            "grid_auto_flow": null,
            "grid_auto_rows": null,
            "grid_column": null,
            "grid_gap": null,
            "grid_row": null,
            "grid_template_areas": null,
            "grid_template_columns": null,
            "grid_template_rows": null,
            "height": null,
            "justify_content": null,
            "justify_items": null,
            "left": null,
            "margin": null,
            "max_height": null,
            "max_width": null,
            "min_height": null,
            "min_width": null,
            "object_fit": null,
            "object_position": null,
            "order": null,
            "overflow": null,
            "overflow_x": null,
            "overflow_y": null,
            "padding": null,
            "right": null,
            "top": null,
            "visibility": null,
            "width": null
          }
        },
        "251ad3325e7044a3ab16c5d54ff76232": {
          "model_module": "@jupyter-widgets/controls",
          "model_name": "ProgressStyleModel",
          "model_module_version": "1.5.0",
          "state": {
            "_model_module": "@jupyter-widgets/controls",
            "_model_module_version": "1.5.0",
            "_model_name": "ProgressStyleModel",
            "_view_count": null,
            "_view_module": "@jupyter-widgets/base",
            "_view_module_version": "1.2.0",
            "_view_name": "StyleView",
            "bar_color": null,
            "description_width": ""
          }
        },
        "987878970f8149ae9a16fb959e6bddf9": {
          "model_module": "@jupyter-widgets/base",
          "model_name": "LayoutModel",
          "model_module_version": "1.2.0",
          "state": {
            "_model_module": "@jupyter-widgets/base",
            "_model_module_version": "1.2.0",
            "_model_name": "LayoutModel",
            "_view_count": null,
            "_view_module": "@jupyter-widgets/base",
            "_view_module_version": "1.2.0",
            "_view_name": "LayoutView",
            "align_content": null,
            "align_items": null,
            "align_self": null,
            "border": null,
            "bottom": null,
            "display": null,
            "flex": null,
            "flex_flow": null,
            "grid_area": null,
            "grid_auto_columns": null,
            "grid_auto_flow": null,
            "grid_auto_rows": null,
            "grid_column": null,
            "grid_gap": null,
            "grid_row": null,
            "grid_template_areas": null,
            "grid_template_columns": null,
            "grid_template_rows": null,
            "height": null,
            "justify_content": null,
            "justify_items": null,
            "left": null,
            "margin": null,
            "max_height": null,
            "max_width": null,
            "min_height": null,
            "min_width": null,
            "object_fit": null,
            "object_position": null,
            "order": null,
            "overflow": null,
            "overflow_x": null,
            "overflow_y": null,
            "padding": null,
            "right": null,
            "top": null,
            "visibility": null,
            "width": null
          }
        },
        "16a2f8d97ec94cdcadd09fe47b8ae31f": {
          "model_module": "@jupyter-widgets/controls",
          "model_name": "DescriptionStyleModel",
          "model_module_version": "1.5.0",
          "state": {
            "_model_module": "@jupyter-widgets/controls",
            "_model_module_version": "1.5.0",
            "_model_name": "DescriptionStyleModel",
            "_view_count": null,
            "_view_module": "@jupyter-widgets/base",
            "_view_module_version": "1.2.0",
            "_view_name": "StyleView",
            "description_width": ""
          }
        },
        "ced1312317e54e83b697f7db94b6f8be": {
          "model_module": "@jupyter-widgets/controls",
          "model_name": "HBoxModel",
          "model_module_version": "1.5.0",
          "state": {
            "_dom_classes": [],
            "_model_module": "@jupyter-widgets/controls",
            "_model_module_version": "1.5.0",
            "_model_name": "HBoxModel",
            "_view_count": null,
            "_view_module": "@jupyter-widgets/controls",
            "_view_module_version": "1.5.0",
            "_view_name": "HBoxView",
            "box_style": "",
            "children": [
              "IPY_MODEL_ff49957528ef4c6a9732ef764ec08704",
              "IPY_MODEL_c6c67ce8580b4f04a1898b5f45e98d16",
              "IPY_MODEL_3317084f7e8e4ea396b391caef69c81a"
            ],
            "layout": "IPY_MODEL_e7becbadab9b40549141a8c2cb3dffb5"
          }
        },
        "ff49957528ef4c6a9732ef764ec08704": {
          "model_module": "@jupyter-widgets/controls",
          "model_name": "HTMLModel",
          "model_module_version": "1.5.0",
          "state": {
            "_dom_classes": [],
            "_model_module": "@jupyter-widgets/controls",
            "_model_module_version": "1.5.0",
            "_model_name": "HTMLModel",
            "_view_count": null,
            "_view_module": "@jupyter-widgets/controls",
            "_view_module_version": "1.5.0",
            "_view_name": "HTMLView",
            "description": "",
            "description_tooltip": null,
            "layout": "IPY_MODEL_58741213cd21482f85995f977deb4a2b",
            "placeholder": "​",
            "style": "IPY_MODEL_d982a31e9d4147f190862a290e685283",
            "value": "Downloading (…)/main/tokenizer.json: 100%"
          }
        },
        "c6c67ce8580b4f04a1898b5f45e98d16": {
          "model_module": "@jupyter-widgets/controls",
          "model_name": "FloatProgressModel",
          "model_module_version": "1.5.0",
          "state": {
            "_dom_classes": [],
            "_model_module": "@jupyter-widgets/controls",
            "_model_module_version": "1.5.0",
            "_model_name": "FloatProgressModel",
            "_view_count": null,
            "_view_module": "@jupyter-widgets/controls",
            "_view_module_version": "1.5.0",
            "_view_name": "ProgressView",
            "bar_style": "success",
            "description": "",
            "description_tooltip": null,
            "layout": "IPY_MODEL_7de6a10eec3f42d884fb894e637cfd2e",
            "max": 466062,
            "min": 0,
            "orientation": "horizontal",
            "style": "IPY_MODEL_8126d522c26b4c4085ea6fc0141038ba",
            "value": 466062
          }
        },
        "3317084f7e8e4ea396b391caef69c81a": {
          "model_module": "@jupyter-widgets/controls",
          "model_name": "HTMLModel",
          "model_module_version": "1.5.0",
          "state": {
            "_dom_classes": [],
            "_model_module": "@jupyter-widgets/controls",
            "_model_module_version": "1.5.0",
            "_model_name": "HTMLModel",
            "_view_count": null,
            "_view_module": "@jupyter-widgets/controls",
            "_view_module_version": "1.5.0",
            "_view_name": "HTMLView",
            "description": "",
            "description_tooltip": null,
            "layout": "IPY_MODEL_b8c9b2d151794f6eb5bc75482decf953",
            "placeholder": "​",
            "style": "IPY_MODEL_95d82760436a4f96852d571a476ad70c",
            "value": " 466k/466k [00:00&lt;00:00, 5.59MB/s]"
          }
        },
        "e7becbadab9b40549141a8c2cb3dffb5": {
          "model_module": "@jupyter-widgets/base",
          "model_name": "LayoutModel",
          "model_module_version": "1.2.0",
          "state": {
            "_model_module": "@jupyter-widgets/base",
            "_model_module_version": "1.2.0",
            "_model_name": "LayoutModel",
            "_view_count": null,
            "_view_module": "@jupyter-widgets/base",
            "_view_module_version": "1.2.0",
            "_view_name": "LayoutView",
            "align_content": null,
            "align_items": null,
            "align_self": null,
            "border": null,
            "bottom": null,
            "display": null,
            "flex": null,
            "flex_flow": null,
            "grid_area": null,
            "grid_auto_columns": null,
            "grid_auto_flow": null,
            "grid_auto_rows": null,
            "grid_column": null,
            "grid_gap": null,
            "grid_row": null,
            "grid_template_areas": null,
            "grid_template_columns": null,
            "grid_template_rows": null,
            "height": null,
            "justify_content": null,
            "justify_items": null,
            "left": null,
            "margin": null,
            "max_height": null,
            "max_width": null,
            "min_height": null,
            "min_width": null,
            "object_fit": null,
            "object_position": null,
            "order": null,
            "overflow": null,
            "overflow_x": null,
            "overflow_y": null,
            "padding": null,
            "right": null,
            "top": null,
            "visibility": null,
            "width": null
          }
        },
        "58741213cd21482f85995f977deb4a2b": {
          "model_module": "@jupyter-widgets/base",
          "model_name": "LayoutModel",
          "model_module_version": "1.2.0",
          "state": {
            "_model_module": "@jupyter-widgets/base",
            "_model_module_version": "1.2.0",
            "_model_name": "LayoutModel",
            "_view_count": null,
            "_view_module": "@jupyter-widgets/base",
            "_view_module_version": "1.2.0",
            "_view_name": "LayoutView",
            "align_content": null,
            "align_items": null,
            "align_self": null,
            "border": null,
            "bottom": null,
            "display": null,
            "flex": null,
            "flex_flow": null,
            "grid_area": null,
            "grid_auto_columns": null,
            "grid_auto_flow": null,
            "grid_auto_rows": null,
            "grid_column": null,
            "grid_gap": null,
            "grid_row": null,
            "grid_template_areas": null,
            "grid_template_columns": null,
            "grid_template_rows": null,
            "height": null,
            "justify_content": null,
            "justify_items": null,
            "left": null,
            "margin": null,
            "max_height": null,
            "max_width": null,
            "min_height": null,
            "min_width": null,
            "object_fit": null,
            "object_position": null,
            "order": null,
            "overflow": null,
            "overflow_x": null,
            "overflow_y": null,
            "padding": null,
            "right": null,
            "top": null,
            "visibility": null,
            "width": null
          }
        },
        "d982a31e9d4147f190862a290e685283": {
          "model_module": "@jupyter-widgets/controls",
          "model_name": "DescriptionStyleModel",
          "model_module_version": "1.5.0",
          "state": {
            "_model_module": "@jupyter-widgets/controls",
            "_model_module_version": "1.5.0",
            "_model_name": "DescriptionStyleModel",
            "_view_count": null,
            "_view_module": "@jupyter-widgets/base",
            "_view_module_version": "1.2.0",
            "_view_name": "StyleView",
            "description_width": ""
          }
        },
        "7de6a10eec3f42d884fb894e637cfd2e": {
          "model_module": "@jupyter-widgets/base",
          "model_name": "LayoutModel",
          "model_module_version": "1.2.0",
          "state": {
            "_model_module": "@jupyter-widgets/base",
            "_model_module_version": "1.2.0",
            "_model_name": "LayoutModel",
            "_view_count": null,
            "_view_module": "@jupyter-widgets/base",
            "_view_module_version": "1.2.0",
            "_view_name": "LayoutView",
            "align_content": null,
            "align_items": null,
            "align_self": null,
            "border": null,
            "bottom": null,
            "display": null,
            "flex": null,
            "flex_flow": null,
            "grid_area": null,
            "grid_auto_columns": null,
            "grid_auto_flow": null,
            "grid_auto_rows": null,
            "grid_column": null,
            "grid_gap": null,
            "grid_row": null,
            "grid_template_areas": null,
            "grid_template_columns": null,
            "grid_template_rows": null,
            "height": null,
            "justify_content": null,
            "justify_items": null,
            "left": null,
            "margin": null,
            "max_height": null,
            "max_width": null,
            "min_height": null,
            "min_width": null,
            "object_fit": null,
            "object_position": null,
            "order": null,
            "overflow": null,
            "overflow_x": null,
            "overflow_y": null,
            "padding": null,
            "right": null,
            "top": null,
            "visibility": null,
            "width": null
          }
        },
        "8126d522c26b4c4085ea6fc0141038ba": {
          "model_module": "@jupyter-widgets/controls",
          "model_name": "ProgressStyleModel",
          "model_module_version": "1.5.0",
          "state": {
            "_model_module": "@jupyter-widgets/controls",
            "_model_module_version": "1.5.0",
            "_model_name": "ProgressStyleModel",
            "_view_count": null,
            "_view_module": "@jupyter-widgets/base",
            "_view_module_version": "1.2.0",
            "_view_name": "StyleView",
            "bar_color": null,
            "description_width": ""
          }
        },
        "b8c9b2d151794f6eb5bc75482decf953": {
          "model_module": "@jupyter-widgets/base",
          "model_name": "LayoutModel",
          "model_module_version": "1.2.0",
          "state": {
            "_model_module": "@jupyter-widgets/base",
            "_model_module_version": "1.2.0",
            "_model_name": "LayoutModel",
            "_view_count": null,
            "_view_module": "@jupyter-widgets/base",
            "_view_module_version": "1.2.0",
            "_view_name": "LayoutView",
            "align_content": null,
            "align_items": null,
            "align_self": null,
            "border": null,
            "bottom": null,
            "display": null,
            "flex": null,
            "flex_flow": null,
            "grid_area": null,
            "grid_auto_columns": null,
            "grid_auto_flow": null,
            "grid_auto_rows": null,
            "grid_column": null,
            "grid_gap": null,
            "grid_row": null,
            "grid_template_areas": null,
            "grid_template_columns": null,
            "grid_template_rows": null,
            "height": null,
            "justify_content": null,
            "justify_items": null,
            "left": null,
            "margin": null,
            "max_height": null,
            "max_width": null,
            "min_height": null,
            "min_width": null,
            "object_fit": null,
            "object_position": null,
            "order": null,
            "overflow": null,
            "overflow_x": null,
            "overflow_y": null,
            "padding": null,
            "right": null,
            "top": null,
            "visibility": null,
            "width": null
          }
        },
        "95d82760436a4f96852d571a476ad70c": {
          "model_module": "@jupyter-widgets/controls",
          "model_name": "DescriptionStyleModel",
          "model_module_version": "1.5.0",
          "state": {
            "_model_module": "@jupyter-widgets/controls",
            "_model_module_version": "1.5.0",
            "_model_name": "DescriptionStyleModel",
            "_view_count": null,
            "_view_module": "@jupyter-widgets/base",
            "_view_module_version": "1.2.0",
            "_view_name": "StyleView",
            "description_width": ""
          }
        }
      }
    },
    "colab": {
      "provenance": []
    },
    "accelerator": "GPU",
    "gpuClass": "standard"
  },
  "nbformat": 4,
  "nbformat_minor": 5
}